{
 "cells": [
  {
   "cell_type": "markdown",
   "id": "57591a8c",
   "metadata": {},
   "source": [
    "# Dependencies"
   ]
  },
  {
   "cell_type": "code",
   "execution_count": 1,
   "id": "e557934a",
   "metadata": {},
   "outputs": [],
   "source": [
    "import pandas as pd\n",
    "import numpy as np\n",
    "from sklearn.model_selection import GroupShuffleSplit, RandomizedSearchCV\n",
    "from random import sample\n",
    "import lightgbm as lgb\n",
    "from sklearn.feature_selection import RFE\n",
    "from sklearn.metrics import f1_score, recall_score, precision_score\n",
    "import joblib"
   ]
  },
  {
   "cell_type": "markdown",
   "id": "a1bf7f0e",
   "metadata": {},
   "source": [
    "# Import Data"
   ]
  },
  {
   "cell_type": "code",
   "execution_count": 2,
   "id": "7eac1665",
   "metadata": {},
   "outputs": [],
   "source": [
    "SEED = 42"
   ]
  },
  {
   "cell_type": "code",
   "execution_count": 3,
   "id": "d2842b61",
   "metadata": {},
   "outputs": [],
   "source": [
    "fraud_df = pd.read_csv('https://assets-datascientest.s3-eu-west-1.amazonaws.com/de/total/fraud.csv',\n",
    "                       parse_dates = ['signup_time','purchase_time'])"
   ]
  },
  {
   "cell_type": "markdown",
   "id": "65bbbc23",
   "metadata": {},
   "source": [
    "# Describe and find missing values"
   ]
  },
  {
   "cell_type": "code",
   "execution_count": 4,
   "id": "1dcf3311",
   "metadata": {},
   "outputs": [
    {
     "data": {
      "text/plain": [
       "user_id                    int64\n",
       "signup_time       datetime64[ns]\n",
       "purchase_time     datetime64[ns]\n",
       "purchase_value             int64\n",
       "device_id                 object\n",
       "source                    object\n",
       "browser                   object\n",
       "sex                       object\n",
       "age                        int64\n",
       "ip_address               float64\n",
       "is_fraud                   int64\n",
       "dtype: object"
      ]
     },
     "execution_count": 4,
     "metadata": {},
     "output_type": "execute_result"
    }
   ],
   "source": [
    "fraud_df.dtypes"
   ]
  },
  {
   "cell_type": "code",
   "execution_count": 5,
   "id": "d6178ada",
   "metadata": {},
   "outputs": [
    {
     "data": {
      "text/html": [
       "<div>\n",
       "<style scoped>\n",
       "    .dataframe tbody tr th:only-of-type {\n",
       "        vertical-align: middle;\n",
       "    }\n",
       "\n",
       "    .dataframe tbody tr th {\n",
       "        vertical-align: top;\n",
       "    }\n",
       "\n",
       "    .dataframe thead th {\n",
       "        text-align: right;\n",
       "    }\n",
       "</style>\n",
       "<table border=\"1\" class=\"dataframe\">\n",
       "  <thead>\n",
       "    <tr style=\"text-align: right;\">\n",
       "      <th></th>\n",
       "      <th>user_id</th>\n",
       "      <th>signup_time</th>\n",
       "      <th>purchase_time</th>\n",
       "      <th>purchase_value</th>\n",
       "      <th>device_id</th>\n",
       "      <th>source</th>\n",
       "      <th>browser</th>\n",
       "      <th>sex</th>\n",
       "      <th>age</th>\n",
       "      <th>ip_address</th>\n",
       "      <th>is_fraud</th>\n",
       "    </tr>\n",
       "  </thead>\n",
       "  <tbody>\n",
       "    <tr>\n",
       "      <th>0</th>\n",
       "      <td>22058</td>\n",
       "      <td>2015-02-24 22:55:49</td>\n",
       "      <td>2015-04-18 02:47:11</td>\n",
       "      <td>34</td>\n",
       "      <td>QVPSPJUOCKZAR</td>\n",
       "      <td>SEO</td>\n",
       "      <td>Chrome</td>\n",
       "      <td>M</td>\n",
       "      <td>39</td>\n",
       "      <td>7.327584e+08</td>\n",
       "      <td>0</td>\n",
       "    </tr>\n",
       "    <tr>\n",
       "      <th>1</th>\n",
       "      <td>333320</td>\n",
       "      <td>2015-06-07 20:39:50</td>\n",
       "      <td>2015-06-08 01:38:54</td>\n",
       "      <td>16</td>\n",
       "      <td>EOGFQPIZPYXFZ</td>\n",
       "      <td>Ads</td>\n",
       "      <td>Chrome</td>\n",
       "      <td>F</td>\n",
       "      <td>53</td>\n",
       "      <td>3.503114e+08</td>\n",
       "      <td>0</td>\n",
       "    </tr>\n",
       "    <tr>\n",
       "      <th>2</th>\n",
       "      <td>1359</td>\n",
       "      <td>2015-01-01 18:52:44</td>\n",
       "      <td>2015-01-01 18:52:45</td>\n",
       "      <td>15</td>\n",
       "      <td>YSSKYOSJHPPLJ</td>\n",
       "      <td>SEO</td>\n",
       "      <td>Opera</td>\n",
       "      <td>M</td>\n",
       "      <td>53</td>\n",
       "      <td>2.621474e+09</td>\n",
       "      <td>1</td>\n",
       "    </tr>\n",
       "    <tr>\n",
       "      <th>3</th>\n",
       "      <td>150084</td>\n",
       "      <td>2015-04-28 21:13:25</td>\n",
       "      <td>2015-05-04 13:54:50</td>\n",
       "      <td>44</td>\n",
       "      <td>ATGTXKYKUDUQN</td>\n",
       "      <td>SEO</td>\n",
       "      <td>Safari</td>\n",
       "      <td>M</td>\n",
       "      <td>41</td>\n",
       "      <td>3.840542e+09</td>\n",
       "      <td>0</td>\n",
       "    </tr>\n",
       "    <tr>\n",
       "      <th>4</th>\n",
       "      <td>221365</td>\n",
       "      <td>2015-07-21 07:09:52</td>\n",
       "      <td>2015-09-09 18:40:53</td>\n",
       "      <td>39</td>\n",
       "      <td>NAUITBZFJKHWW</td>\n",
       "      <td>Ads</td>\n",
       "      <td>Safari</td>\n",
       "      <td>M</td>\n",
       "      <td>45</td>\n",
       "      <td>4.155831e+08</td>\n",
       "      <td>0</td>\n",
       "    </tr>\n",
       "  </tbody>\n",
       "</table>\n",
       "</div>"
      ],
      "text/plain": [
       "   user_id         signup_time       purchase_time  purchase_value  \\\n",
       "0    22058 2015-02-24 22:55:49 2015-04-18 02:47:11              34   \n",
       "1   333320 2015-06-07 20:39:50 2015-06-08 01:38:54              16   \n",
       "2     1359 2015-01-01 18:52:44 2015-01-01 18:52:45              15   \n",
       "3   150084 2015-04-28 21:13:25 2015-05-04 13:54:50              44   \n",
       "4   221365 2015-07-21 07:09:52 2015-09-09 18:40:53              39   \n",
       "\n",
       "       device_id source browser sex  age    ip_address  is_fraud  \n",
       "0  QVPSPJUOCKZAR    SEO  Chrome   M   39  7.327584e+08         0  \n",
       "1  EOGFQPIZPYXFZ    Ads  Chrome   F   53  3.503114e+08         0  \n",
       "2  YSSKYOSJHPPLJ    SEO   Opera   M   53  2.621474e+09         1  \n",
       "3  ATGTXKYKUDUQN    SEO  Safari   M   41  3.840542e+09         0  \n",
       "4  NAUITBZFJKHWW    Ads  Safari   M   45  4.155831e+08         0  "
      ]
     },
     "execution_count": 5,
     "metadata": {},
     "output_type": "execute_result"
    }
   ],
   "source": [
    "fraud_df.head()"
   ]
  },
  {
   "cell_type": "code",
   "execution_count": 6,
   "id": "baa1e267",
   "metadata": {},
   "outputs": [],
   "source": [
    "#for column in fraud_df.columns:\n",
    "#     print(column)\n",
    "#    print(list(fraud_df[column].unique()))"
   ]
  },
  {
   "cell_type": "code",
   "execution_count": 7,
   "id": "b731ba85",
   "metadata": {},
   "outputs": [
    {
     "data": {
      "text/plain": [
       "user_id           0\n",
       "signup_time       0\n",
       "purchase_time     0\n",
       "purchase_value    0\n",
       "device_id         0\n",
       "source            0\n",
       "browser           0\n",
       "sex               0\n",
       "age               0\n",
       "ip_address        0\n",
       "is_fraud          0\n",
       "dtype: int64"
      ]
     },
     "execution_count": 7,
     "metadata": {},
     "output_type": "execute_result"
    }
   ],
   "source": [
    "fraud_df.isna().sum()"
   ]
  },
  {
   "cell_type": "code",
   "execution_count": 8,
   "id": "ea70f753",
   "metadata": {},
   "outputs": [],
   "source": [
    "graph_df = fraud_df.copy()"
   ]
  },
  {
   "cell_type": "code",
   "execution_count": 9,
   "id": "9532b6a5",
   "metadata": {},
   "outputs": [],
   "source": [
    "graph_df['purchase_date'] = graph_df['purchase_time'].dt.date"
   ]
  },
  {
   "cell_type": "code",
   "execution_count": 10,
   "id": "c6a5c09f",
   "metadata": {},
   "outputs": [
    {
     "data": {
      "text/plain": [
       "<AxesSubplot:xlabel='purchase_date'>"
      ]
     },
     "execution_count": 10,
     "metadata": {},
     "output_type": "execute_result"
    },
    {
     "data": {
      "image/png": "[encoded data removed]",
      "text/plain": [
       "<Figure size 432x288 with 1 Axes>"
      ]
     },
     "metadata": {
      "needs_background": "light"
     },
     "output_type": "display_data"
    }
   ],
   "source": [
    "graph_df.groupby('purchase_date').apply(lambda x: sum(x['is_fraud']==1)/len(x)).plot()"
   ]
  },
  {
   "cell_type": "markdown",
   "id": "dd053457",
   "metadata": {},
   "source": [
    "# We data starting february as fraud rate is abnormally high in january 2015 (but the best strategy is to have two models: one before january 2015 and another after)"
   ]
  },
  {
   "cell_type": "code",
   "execution_count": 11,
   "id": "07ff3647",
   "metadata": {},
   "outputs": [],
   "source": [
    "fraud_df = fraud_df[fraud_df['purchase_time']>'2015-02-01'].reset_index(drop=True)"
   ]
  },
  {
   "cell_type": "markdown",
   "id": "4cac598c",
   "metadata": {},
   "source": [
    "# Undersampling data (to avoid model bias)"
   ]
  },
  {
   "cell_type": "code",
   "execution_count": 12,
   "id": "6154d31d",
   "metadata": {},
   "outputs": [
    {
     "data": {
      "text/plain": [
       "<AxesSubplot:>"
      ]
     },
     "execution_count": 12,
     "metadata": {},
     "output_type": "execute_result"
    },
    {
     "data": {
      "image/png": "[encoded data removed]",
      "text/plain": [
       "<Figure size 432x288 with 1 Axes>"
      ]
     },
     "metadata": {
      "needs_background": "light"
     },
     "output_type": "display_data"
    }
   ],
   "source": [
    "fraud_df['is_fraud'].value_counts().plot(kind='bar')"
   ]
  },
  {
   "cell_type": "code",
   "execution_count": 13,
   "id": "1edebff5",
   "metadata": {},
   "outputs": [],
   "source": [
    "fraud_indexes = list(fraud_df[fraud_df['is_fraud'] == 1].index)\n",
    "non_fraud_indexes = list(fraud_df[fraud_df['is_fraud'] == 0].index)"
   ]
  },
  {
   "cell_type": "code",
   "execution_count": 14,
   "id": "d13aa833",
   "metadata": {},
   "outputs": [],
   "source": [
    "balanced_df_indexes = sample(non_fraud_indexes, len(fraud_indexes)) + fraud_indexes"
   ]
  },
  {
   "cell_type": "code",
   "execution_count": 15,
   "id": "4fa3f8ab",
   "metadata": {},
   "outputs": [],
   "source": [
    "balanced_fraud_df = fraud_df.iloc[balanced_df_indexes].reset_index(drop=True)"
   ]
  },
  {
   "cell_type": "code",
   "execution_count": 16,
   "id": "d9d24067",
   "metadata": {},
   "outputs": [
    {
     "data": {
      "text/plain": [
       "<AxesSubplot:>"
      ]
     },
     "execution_count": 16,
     "metadata": {},
     "output_type": "execute_result"
    },
    {
     "data": {
      "image/png": "[encoded data removed]",
      "text/plain": [
       "<Figure size 432x288 with 1 Axes>"
      ]
     },
     "metadata": {
      "needs_background": "light"
     },
     "output_type": "display_data"
    }
   ],
   "source": [
    "balanced_fraud_df['is_fraud'].value_counts().plot(kind='bar')"
   ]
  },
  {
   "cell_type": "markdown",
   "id": "32a061c4",
   "metadata": {},
   "source": [
    "# Data Preprocessing"
   ]
  },
  {
   "cell_type": "code",
   "execution_count": 17,
   "id": "44822117",
   "metadata": {},
   "outputs": [],
   "source": [
    "def process_df(original_df):\n",
    "    df = original_df.copy()\n",
    "    df['delay_signup_purchase'] = (df['signup_time'] - df['purchase_time']).dt.seconds\n",
    "    for cat_col in ['device_id','source','browser','sex']:\n",
    "        cat_mapper = dict(zip(df[cat_col].unique(), range(1, len(df[cat_col].unique())+1)))\n",
    "        df[cat_col] = df[cat_col].replace(cat_mapper)\n",
    "    for col_prefix in ['signup', 'purchase']:\n",
    "        df[f'{col_prefix}_year'] = df[f'{col_prefix}_time'].dt.year\n",
    "        df[f'{col_prefix}_month'] = df[f'{col_prefix}_time'].dt.month\n",
    "        df[f'cos_{col_prefix}_month'] = np.cos(2.*np.pi*df[f'{col_prefix}_month']/12.)\n",
    "        df[f'sin_{col_prefix}_month'] = np.sin(2.*np.pi*df[f'{col_prefix}_month']/12.)\n",
    "        df[f'{col_prefix}_hour'] = df[f'{col_prefix}_time'].dt.hour\n",
    "        df[f'cos_{col_prefix}_hour'] = np.cos(2.*np.pi*df[f'{col_prefix}_hour']/24.)\n",
    "        df[f'sin_{col_prefix}_hour'] = np.sin(2.*np.pi*df[f'{col_prefix}_hour']/24.)\n",
    "        df[f'{col_prefix}_minute'] = df[f'{col_prefix}_time'].dt.minute\n",
    "        df[f'cos_{col_prefix}_minute'] = np.cos(2.*np.pi*df[f'{col_prefix}_minute']/60.)\n",
    "        df[f'sin_{col_prefix}_minute'] = np.sin(2.*np.pi*df[f'{col_prefix}_minute']/60.)\n",
    "        df = df.drop(columns=[f'{col_prefix}_time'])\n",
    "    return df"
   ]
  },
  {
   "cell_type": "code",
   "execution_count": 18,
   "id": "1e400791",
   "metadata": {},
   "outputs": [],
   "source": [
    "processed_balanced_fraud_df = process_df(balanced_fraud_df)"
   ]
  },
  {
   "cell_type": "code",
   "execution_count": 19,
   "id": "10c6e732",
   "metadata": {},
   "outputs": [
    {
     "data": {
      "text/html": [
       "<div>\n",
       "<style scoped>\n",
       "    .dataframe tbody tr th:only-of-type {\n",
       "        vertical-align: middle;\n",
       "    }\n",
       "\n",
       "    .dataframe tbody tr th {\n",
       "        vertical-align: top;\n",
       "    }\n",
       "\n",
       "    .dataframe thead th {\n",
       "        text-align: right;\n",
       "    }\n",
       "</style>\n",
       "<table border=\"1\" class=\"dataframe\">\n",
       "  <thead>\n",
       "    <tr style=\"text-align: right;\">\n",
       "      <th></th>\n",
       "      <th>user_id</th>\n",
       "      <th>purchase_value</th>\n",
       "      <th>device_id</th>\n",
       "      <th>source</th>\n",
       "      <th>browser</th>\n",
       "      <th>sex</th>\n",
       "      <th>age</th>\n",
       "      <th>ip_address</th>\n",
       "      <th>is_fraud</th>\n",
       "      <th>delay_signup_purchase</th>\n",
       "      <th>...</th>\n",
       "      <th>purchase_year</th>\n",
       "      <th>purchase_month</th>\n",
       "      <th>cos_purchase_month</th>\n",
       "      <th>sin_purchase_month</th>\n",
       "      <th>purchase_hour</th>\n",
       "      <th>cos_purchase_hour</th>\n",
       "      <th>sin_purchase_hour</th>\n",
       "      <th>purchase_minute</th>\n",
       "      <th>cos_purchase_minute</th>\n",
       "      <th>sin_purchase_minute</th>\n",
       "    </tr>\n",
       "  </thead>\n",
       "  <tbody>\n",
       "    <tr>\n",
       "      <th>0</th>\n",
       "      <td>361904</td>\n",
       "      <td>49</td>\n",
       "      <td>1</td>\n",
       "      <td>1</td>\n",
       "      <td>1</td>\n",
       "      <td>1</td>\n",
       "      <td>27</td>\n",
       "      <td>2.243924e+09</td>\n",
       "      <td>0</td>\n",
       "      <td>30830</td>\n",
       "      <td>...</td>\n",
       "      <td>2015</td>\n",
       "      <td>9</td>\n",
       "      <td>-1.836970e-16</td>\n",
       "      <td>-1.000000e+00</td>\n",
       "      <td>22</td>\n",
       "      <td>0.866025</td>\n",
       "      <td>-0.500000</td>\n",
       "      <td>36</td>\n",
       "      <td>-0.809017</td>\n",
       "      <td>-0.587785</td>\n",
       "    </tr>\n",
       "    <tr>\n",
       "      <th>1</th>\n",
       "      <td>357464</td>\n",
       "      <td>51</td>\n",
       "      <td>2</td>\n",
       "      <td>1</td>\n",
       "      <td>1</td>\n",
       "      <td>2</td>\n",
       "      <td>45</td>\n",
       "      <td>1.111411e+09</td>\n",
       "      <td>0</td>\n",
       "      <td>57261</td>\n",
       "      <td>...</td>\n",
       "      <td>2015</td>\n",
       "      <td>6</td>\n",
       "      <td>-1.000000e+00</td>\n",
       "      <td>1.224647e-16</td>\n",
       "      <td>5</td>\n",
       "      <td>0.258819</td>\n",
       "      <td>0.965926</td>\n",
       "      <td>53</td>\n",
       "      <td>0.743145</td>\n",
       "      <td>-0.669131</td>\n",
       "    </tr>\n",
       "    <tr>\n",
       "      <th>2</th>\n",
       "      <td>388049</td>\n",
       "      <td>54</td>\n",
       "      <td>3</td>\n",
       "      <td>2</td>\n",
       "      <td>2</td>\n",
       "      <td>1</td>\n",
       "      <td>25</td>\n",
       "      <td>3.633978e+09</td>\n",
       "      <td>0</td>\n",
       "      <td>31853</td>\n",
       "      <td>...</td>\n",
       "      <td>2015</td>\n",
       "      <td>7</td>\n",
       "      <td>-8.660254e-01</td>\n",
       "      <td>-5.000000e-01</td>\n",
       "      <td>19</td>\n",
       "      <td>0.258819</td>\n",
       "      <td>-0.965926</td>\n",
       "      <td>46</td>\n",
       "      <td>0.104528</td>\n",
       "      <td>-0.994522</td>\n",
       "    </tr>\n",
       "    <tr>\n",
       "      <th>3</th>\n",
       "      <td>66841</td>\n",
       "      <td>38</td>\n",
       "      <td>4</td>\n",
       "      <td>3</td>\n",
       "      <td>3</td>\n",
       "      <td>2</td>\n",
       "      <td>48</td>\n",
       "      <td>9.458879e+08</td>\n",
       "      <td>0</td>\n",
       "      <td>26646</td>\n",
       "      <td>...</td>\n",
       "      <td>2015</td>\n",
       "      <td>8</td>\n",
       "      <td>-5.000000e-01</td>\n",
       "      <td>-8.660254e-01</td>\n",
       "      <td>4</td>\n",
       "      <td>0.500000</td>\n",
       "      <td>0.866025</td>\n",
       "      <td>40</td>\n",
       "      <td>-0.500000</td>\n",
       "      <td>-0.866025</td>\n",
       "    </tr>\n",
       "    <tr>\n",
       "      <th>4</th>\n",
       "      <td>183229</td>\n",
       "      <td>10</td>\n",
       "      <td>5</td>\n",
       "      <td>2</td>\n",
       "      <td>4</td>\n",
       "      <td>2</td>\n",
       "      <td>25</td>\n",
       "      <td>2.778721e+09</td>\n",
       "      <td>0</td>\n",
       "      <td>58689</td>\n",
       "      <td>...</td>\n",
       "      <td>2015</td>\n",
       "      <td>5</td>\n",
       "      <td>-8.660254e-01</td>\n",
       "      <td>5.000000e-01</td>\n",
       "      <td>7</td>\n",
       "      <td>-0.258819</td>\n",
       "      <td>0.965926</td>\n",
       "      <td>13</td>\n",
       "      <td>0.207912</td>\n",
       "      <td>0.978148</td>\n",
       "    </tr>\n",
       "  </tbody>\n",
       "</table>\n",
       "<p>5 rows × 30 columns</p>\n",
       "</div>"
      ],
      "text/plain": [
       "   user_id  purchase_value  device_id  source  browser  sex  age  \\\n",
       "0   361904              49          1       1        1    1   27   \n",
       "1   357464              51          2       1        1    2   45   \n",
       "2   388049              54          3       2        2    1   25   \n",
       "3    66841              38          4       3        3    2   48   \n",
       "4   183229              10          5       2        4    2   25   \n",
       "\n",
       "     ip_address  is_fraud  delay_signup_purchase  ...  purchase_year  \\\n",
       "0  2.243924e+09         0                  30830  ...           2015   \n",
       "1  1.111411e+09         0                  57261  ...           2015   \n",
       "2  3.633978e+09         0                  31853  ...           2015   \n",
       "3  9.458879e+08         0                  26646  ...           2015   \n",
       "4  2.778721e+09         0                  58689  ...           2015   \n",
       "\n",
       "   purchase_month  cos_purchase_month  sin_purchase_month  purchase_hour  \\\n",
       "0               9       -1.836970e-16       -1.000000e+00             22   \n",
       "1               6       -1.000000e+00        1.224647e-16              5   \n",
       "2               7       -8.660254e-01       -5.000000e-01             19   \n",
       "3               8       -5.000000e-01       -8.660254e-01              4   \n",
       "4               5       -8.660254e-01        5.000000e-01              7   \n",
       "\n",
       "   cos_purchase_hour  sin_purchase_hour  purchase_minute  cos_purchase_minute  \\\n",
       "0           0.866025          -0.500000               36            -0.809017   \n",
       "1           0.258819           0.965926               53             0.743145   \n",
       "2           0.258819          -0.965926               46             0.104528   \n",
       "3           0.500000           0.866025               40            -0.500000   \n",
       "4          -0.258819           0.965926               13             0.207912   \n",
       "\n",
       "   sin_purchase_minute  \n",
       "0            -0.587785  \n",
       "1            -0.669131  \n",
       "2            -0.994522  \n",
       "3            -0.866025  \n",
       "4             0.978148  \n",
       "\n",
       "[5 rows x 30 columns]"
      ]
     },
     "execution_count": 19,
     "metadata": {},
     "output_type": "execute_result"
    }
   ],
   "source": [
    "processed_balanced_fraud_df.head()"
   ]
  },
  {
   "cell_type": "markdown",
   "id": "e46e065b",
   "metadata": {},
   "source": [
    "# Split train test (ensure different users in each set train and test)"
   ]
  },
  {
   "cell_type": "code",
   "execution_count": 20,
   "id": "99877a2d",
   "metadata": {},
   "outputs": [],
   "source": [
    "x_df = processed_balanced_fraud_df.loc[:, processed_balanced_fraud_df.columns != 'is_fraud'].reset_index(drop=True)\n",
    "y_df = processed_balanced_fraud_df[['is_fraud']]"
   ]
  },
  {
   "cell_type": "code",
   "execution_count": 21,
   "id": "2818b685",
   "metadata": {},
   "outputs": [
    {
     "data": {
      "text/html": [
       "<div>\n",
       "<style scoped>\n",
       "    .dataframe tbody tr th:only-of-type {\n",
       "        vertical-align: middle;\n",
       "    }\n",
       "\n",
       "    .dataframe tbody tr th {\n",
       "        vertical-align: top;\n",
       "    }\n",
       "\n",
       "    .dataframe thead th {\n",
       "        text-align: right;\n",
       "    }\n",
       "</style>\n",
       "<table border=\"1\" class=\"dataframe\">\n",
       "  <thead>\n",
       "    <tr style=\"text-align: right;\">\n",
       "      <th></th>\n",
       "      <th>user_id</th>\n",
       "      <th>purchase_value</th>\n",
       "      <th>device_id</th>\n",
       "      <th>source</th>\n",
       "      <th>browser</th>\n",
       "      <th>sex</th>\n",
       "      <th>age</th>\n",
       "      <th>ip_address</th>\n",
       "      <th>delay_signup_purchase</th>\n",
       "      <th>signup_year</th>\n",
       "      <th>...</th>\n",
       "      <th>purchase_year</th>\n",
       "      <th>purchase_month</th>\n",
       "      <th>cos_purchase_month</th>\n",
       "      <th>sin_purchase_month</th>\n",
       "      <th>purchase_hour</th>\n",
       "      <th>cos_purchase_hour</th>\n",
       "      <th>sin_purchase_hour</th>\n",
       "      <th>purchase_minute</th>\n",
       "      <th>cos_purchase_minute</th>\n",
       "      <th>sin_purchase_minute</th>\n",
       "    </tr>\n",
       "  </thead>\n",
       "  <tbody>\n",
       "    <tr>\n",
       "      <th>0</th>\n",
       "      <td>361904</td>\n",
       "      <td>49</td>\n",
       "      <td>1</td>\n",
       "      <td>1</td>\n",
       "      <td>1</td>\n",
       "      <td>1</td>\n",
       "      <td>27</td>\n",
       "      <td>2.243924e+09</td>\n",
       "      <td>30830</td>\n",
       "      <td>2015</td>\n",
       "      <td>...</td>\n",
       "      <td>2015</td>\n",
       "      <td>9</td>\n",
       "      <td>-1.836970e-16</td>\n",
       "      <td>-1.000000e+00</td>\n",
       "      <td>22</td>\n",
       "      <td>0.866025</td>\n",
       "      <td>-0.500000</td>\n",
       "      <td>36</td>\n",
       "      <td>-0.809017</td>\n",
       "      <td>-0.587785</td>\n",
       "    </tr>\n",
       "    <tr>\n",
       "      <th>1</th>\n",
       "      <td>357464</td>\n",
       "      <td>51</td>\n",
       "      <td>2</td>\n",
       "      <td>1</td>\n",
       "      <td>1</td>\n",
       "      <td>2</td>\n",
       "      <td>45</td>\n",
       "      <td>1.111411e+09</td>\n",
       "      <td>57261</td>\n",
       "      <td>2015</td>\n",
       "      <td>...</td>\n",
       "      <td>2015</td>\n",
       "      <td>6</td>\n",
       "      <td>-1.000000e+00</td>\n",
       "      <td>1.224647e-16</td>\n",
       "      <td>5</td>\n",
       "      <td>0.258819</td>\n",
       "      <td>0.965926</td>\n",
       "      <td>53</td>\n",
       "      <td>0.743145</td>\n",
       "      <td>-0.669131</td>\n",
       "    </tr>\n",
       "    <tr>\n",
       "      <th>2</th>\n",
       "      <td>388049</td>\n",
       "      <td>54</td>\n",
       "      <td>3</td>\n",
       "      <td>2</td>\n",
       "      <td>2</td>\n",
       "      <td>1</td>\n",
       "      <td>25</td>\n",
       "      <td>3.633978e+09</td>\n",
       "      <td>31853</td>\n",
       "      <td>2015</td>\n",
       "      <td>...</td>\n",
       "      <td>2015</td>\n",
       "      <td>7</td>\n",
       "      <td>-8.660254e-01</td>\n",
       "      <td>-5.000000e-01</td>\n",
       "      <td>19</td>\n",
       "      <td>0.258819</td>\n",
       "      <td>-0.965926</td>\n",
       "      <td>46</td>\n",
       "      <td>0.104528</td>\n",
       "      <td>-0.994522</td>\n",
       "    </tr>\n",
       "  </tbody>\n",
       "</table>\n",
       "<p>3 rows × 29 columns</p>\n",
       "</div>"
      ],
      "text/plain": [
       "   user_id  purchase_value  device_id  source  browser  sex  age  \\\n",
       "0   361904              49          1       1        1    1   27   \n",
       "1   357464              51          2       1        1    2   45   \n",
       "2   388049              54          3       2        2    1   25   \n",
       "\n",
       "     ip_address  delay_signup_purchase  signup_year  ...  purchase_year  \\\n",
       "0  2.243924e+09                  30830         2015  ...           2015   \n",
       "1  1.111411e+09                  57261         2015  ...           2015   \n",
       "2  3.633978e+09                  31853         2015  ...           2015   \n",
       "\n",
       "   purchase_month  cos_purchase_month  sin_purchase_month  purchase_hour  \\\n",
       "0               9       -1.836970e-16       -1.000000e+00             22   \n",
       "1               6       -1.000000e+00        1.224647e-16              5   \n",
       "2               7       -8.660254e-01       -5.000000e-01             19   \n",
       "\n",
       "   cos_purchase_hour  sin_purchase_hour  purchase_minute  cos_purchase_minute  \\\n",
       "0           0.866025          -0.500000               36            -0.809017   \n",
       "1           0.258819           0.965926               53             0.743145   \n",
       "2           0.258819          -0.965926               46             0.104528   \n",
       "\n",
       "   sin_purchase_minute  \n",
       "0            -0.587785  \n",
       "1            -0.669131  \n",
       "2            -0.994522  \n",
       "\n",
       "[3 rows x 29 columns]"
      ]
     },
     "execution_count": 21,
     "metadata": {},
     "output_type": "execute_result"
    }
   ],
   "source": [
    "x_df.head(3)"
   ]
  },
  {
   "cell_type": "code",
   "execution_count": 22,
   "id": "f7668a5d",
   "metadata": {},
   "outputs": [
    {
     "data": {
      "text/plain": [
       "(12856, 29)"
      ]
     },
     "execution_count": 22,
     "metadata": {},
     "output_type": "execute_result"
    }
   ],
   "source": [
    "x_df.shape"
   ]
  },
  {
   "cell_type": "code",
   "execution_count": 23,
   "id": "fd588e59",
   "metadata": {},
   "outputs": [
    {
     "data": {
      "text/html": [
       "<div>\n",
       "<style scoped>\n",
       "    .dataframe tbody tr th:only-of-type {\n",
       "        vertical-align: middle;\n",
       "    }\n",
       "\n",
       "    .dataframe tbody tr th {\n",
       "        vertical-align: top;\n",
       "    }\n",
       "\n",
       "    .dataframe thead th {\n",
       "        text-align: right;\n",
       "    }\n",
       "</style>\n",
       "<table border=\"1\" class=\"dataframe\">\n",
       "  <thead>\n",
       "    <tr style=\"text-align: right;\">\n",
       "      <th></th>\n",
       "      <th>is_fraud</th>\n",
       "    </tr>\n",
       "  </thead>\n",
       "  <tbody>\n",
       "    <tr>\n",
       "      <th>0</th>\n",
       "      <td>0</td>\n",
       "    </tr>\n",
       "    <tr>\n",
       "      <th>1</th>\n",
       "      <td>0</td>\n",
       "    </tr>\n",
       "    <tr>\n",
       "      <th>2</th>\n",
       "      <td>0</td>\n",
       "    </tr>\n",
       "  </tbody>\n",
       "</table>\n",
       "</div>"
      ],
      "text/plain": [
       "   is_fraud\n",
       "0         0\n",
       "1         0\n",
       "2         0"
      ]
     },
     "execution_count": 23,
     "metadata": {},
     "output_type": "execute_result"
    }
   ],
   "source": [
    "y_df.head(3)"
   ]
  },
  {
   "cell_type": "code",
   "execution_count": 24,
   "id": "1fa6df6e",
   "metadata": {},
   "outputs": [
    {
     "data": {
      "text/plain": [
       "(12856, 1)"
      ]
     },
     "execution_count": 24,
     "metadata": {},
     "output_type": "execute_result"
    }
   ],
   "source": [
    "y_df.shape"
   ]
  },
  {
   "cell_type": "code",
   "execution_count": 25,
   "id": "857742f8",
   "metadata": {},
   "outputs": [],
   "source": [
    "gs = GroupShuffleSplit(n_splits=1, train_size=.8, random_state=SEED)"
   ]
  },
  {
   "cell_type": "code",
   "execution_count": 26,
   "id": "7ab00868",
   "metadata": {},
   "outputs": [],
   "source": [
    "train_indexes, test_indexes = next(gs.split(x_df, y_df, groups=x_df.user_id))\n",
    "\n",
    "x_train = x_df.iloc[train_indexes]\n",
    "y_train = y_df.iloc[train_indexes]\n",
    "\n",
    "x_test = x_df.iloc[test_indexes]\n",
    "y_test = y_df.iloc[test_indexes]"
   ]
  },
  {
   "cell_type": "markdown",
   "id": "4696e707",
   "metadata": {},
   "source": [
    "# Train model on train data"
   ]
  },
  {
   "cell_type": "code",
   "execution_count": 27,
   "id": "8207f389",
   "metadata": {},
   "outputs": [],
   "source": [
    "clf = lgb.LGBMClassifier()"
   ]
  },
  {
   "cell_type": "code",
   "execution_count": 28,
   "id": "e77b999a",
   "metadata": {},
   "outputs": [],
   "source": [
    "gridParams = {\n",
    "    'learning_rate': [0.05],\n",
    "    'num_leaves': [90,200],\n",
    "    'boosting_type' : ['gbdt'],\n",
    "    'objective' : ['binary'],\n",
    "    'max_depth' : [5,6,7,8],\n",
    "    'random_state' : [SEED], \n",
    "    'colsample_bytree' : [0.5,0.7],\n",
    "    'subsample' : [0.5,0.7],\n",
    "    'min_split_gain' : [0.01],\n",
    "    'min_data_in_leaf':[10],\n",
    "    'metric':['auc']\n",
    "    }"
   ]
  },
  {
   "cell_type": "code",
   "execution_count": 29,
   "id": "2234ff44",
   "metadata": {},
   "outputs": [
    {
     "name": "stdout",
     "output_type": "stream",
     "text": [
      "Fitting 10 folds for each of 10 candidates, totalling 100 fits\n",
      "[LightGBM] [Warning] min_data_in_leaf is set=10, min_child_samples=20 will be ignored. Current value: min_data_in_leaf=10\n"
     ]
    },
    {
     "data": {
      "text/plain": [
       "RandomizedSearchCV(cv=10, estimator=LGBMClassifier(), n_jobs=-1,\n",
       "                   param_distributions={'boosting_type': ['gbdt'],\n",
       "                                        'colsample_bytree': [0.5, 0.7],\n",
       "                                        'learning_rate': [0.05],\n",
       "                                        'max_depth': [5, 6, 7, 8],\n",
       "                                        'metric': ['auc'],\n",
       "                                        'min_data_in_leaf': [10],\n",
       "                                        'min_split_gain': [0.01],\n",
       "                                        'num_leaves': [90, 200],\n",
       "                                        'objective': ['binary'],\n",
       "                                        'random_state': [42],\n",
       "                                        'subsample': [0.5, 0.7]},\n",
       "                   verbose=1)"
      ]
     },
     "execution_count": 29,
     "metadata": {},
     "output_type": "execute_result"
    }
   ],
   "source": [
    "grid = RandomizedSearchCV(clf, gridParams, verbose=1, cv=10, n_jobs = -1, n_iter=10)\n",
    "grid.fit(x_train, y_train.values.ravel())"
   ]
  },
  {
   "cell_type": "code",
   "execution_count": 30,
   "id": "b7b67a44",
   "metadata": {},
   "outputs": [],
   "source": [
    "optimized_model = lgb.LGBMClassifier(**grid.best_params_)"
   ]
  },
  {
   "cell_type": "markdown",
   "id": "da0f77c4",
   "metadata": {},
   "source": [
    "# Variable selection"
   ]
  },
  {
   "cell_type": "code",
   "execution_count": 31,
   "id": "053422d2",
   "metadata": {},
   "outputs": [],
   "source": [
    "selector = RFE(optimized_model, step=1)\n",
    "selector = selector.fit(x_train, y_train.values.ravel())"
   ]
  },
  {
   "cell_type": "code",
   "execution_count": 32,
   "id": "456b5fe0",
   "metadata": {},
   "outputs": [],
   "source": [
    "cols_to_keep = x_train.loc[:, selector.support_].columns"
   ]
  },
  {
   "cell_type": "code",
   "execution_count": 33,
   "id": "3b4c846e",
   "metadata": {},
   "outputs": [
    {
     "data": {
      "text/plain": [
       "Index(['user_id', 'purchase_value', 'device_id', 'source', 'age', 'ip_address',\n",
       "       'delay_signup_purchase', 'signup_hour', 'signup_minute',\n",
       "       'cos_signup_minute', 'sin_signup_minute', 'cos_purchase_hour',\n",
       "       'purchase_minute', 'sin_purchase_minute'],\n",
       "      dtype='object')"
      ]
     },
     "execution_count": 33,
     "metadata": {},
     "output_type": "execute_result"
    }
   ],
   "source": [
    "cols_to_keep"
   ]
  },
  {
   "cell_type": "code",
   "execution_count": 34,
   "id": "010b605f",
   "metadata": {},
   "outputs": [
    {
     "data": {
      "text/plain": [
       "LGBMClassifier(colsample_bytree=0.7, learning_rate=0.05, max_depth=5,\n",
       "               metric='auc', min_data_in_leaf=10, min_split_gain=0.01,\n",
       "               num_leaves=90, objective='binary', random_state=42,\n",
       "               subsample=0.5)"
      ]
     },
     "execution_count": 34,
     "metadata": {},
     "output_type": "execute_result"
    }
   ],
   "source": [
    "more_optimized_model = lgb.LGBMClassifier(**grid.best_params_)\n",
    "more_optimized_model.fit(x_train[cols_to_keep], y_train.values.ravel())"
   ]
  },
  {
   "cell_type": "markdown",
   "id": "01f31e90",
   "metadata": {},
   "source": [
    "# Discover variables importance"
   ]
  },
  {
   "cell_type": "code",
   "execution_count": 35,
   "id": "46d4c11d",
   "metadata": {},
   "outputs": [
    {
     "data": {
      "text/plain": [
       "<AxesSubplot:title={'center':'Feature importance'}, xlabel='Feature importance', ylabel='Features'>"
      ]
     },
     "execution_count": 35,
     "metadata": {},
     "output_type": "execute_result"
    },
    {
     "data": {
      "image/png": "[encoded data removed]",
      "text/plain": [
       "<Figure size 432x288 with 1 Axes>"
      ]
     },
     "metadata": {
      "needs_background": "light"
     },
     "output_type": "display_data"
    }
   ],
   "source": [
    "lgb.plot_importance(more_optimized_model)"
   ]
  },
  {
   "cell_type": "markdown",
   "id": "044cb3c7",
   "metadata": {},
   "source": [
    "# Test on test set"
   ]
  },
  {
   "cell_type": "code",
   "execution_count": 36,
   "id": "eb1c448c",
   "metadata": {},
   "outputs": [],
   "source": [
    "y_pred = more_optimized_model.predict(x_test[cols_to_keep])"
   ]
  },
  {
   "cell_type": "code",
   "execution_count": 37,
   "id": "79896edb",
   "metadata": {},
   "outputs": [
    {
     "data": {
      "text/plain": [
       "0.9897314375987363"
      ]
     },
     "execution_count": 37,
     "metadata": {},
     "output_type": "execute_result"
    }
   ],
   "source": [
    "f1_score(y_test.values.ravel(), y_pred)"
   ]
  },
  {
   "cell_type": "code",
   "execution_count": 38,
   "id": "ec549fee",
   "metadata": {},
   "outputs": [
    {
     "data": {
      "text/plain": [
       "0.9804381846635368"
      ]
     },
     "execution_count": 38,
     "metadata": {},
     "output_type": "execute_result"
    }
   ],
   "source": [
    "recall_score(y_test.values.ravel(), y_pred)"
   ]
  },
  {
   "cell_type": "code",
   "execution_count": 39,
   "id": "acd1716e",
   "metadata": {},
   "outputs": [
    {
     "data": {
      "text/plain": [
       "0.9992025518341308"
      ]
     },
     "execution_count": 39,
     "metadata": {},
     "output_type": "execute_result"
    }
   ],
   "source": [
    "precision_score(y_test.values.ravel(), y_pred)"
   ]
  },
  {
   "cell_type": "markdown",
   "id": "cd477196",
   "metadata": {},
   "source": [
    "# Final preprocessing_function for further use on new data"
   ]
  },
  {
   "cell_type": "code",
   "execution_count": 40,
   "id": "1c5b274b",
   "metadata": {},
   "outputs": [],
   "source": [
    "def process_df(original_df):\n",
    "    df = original_df.copy()\n",
    "    df['delay_signup_purchase'] = (df['signup_time'] - df['purchase_time']).dt.seconds\n",
    "    for cat_col in ['device_id','source','browser','sex']:\n",
    "        cat_mapper = dict(zip(df[cat_col].unique(), range(1, len(df[cat_col].unique())+1)))\n",
    "        df[cat_col] = df[cat_col].replace(cat_mapper)\n",
    "    for col_prefix in ['signup', 'purchase']:\n",
    "        df[f'{col_prefix}_year'] = df[f'{col_prefix}_time'].dt.year\n",
    "        df[f'{col_prefix}_month'] = df[f'{col_prefix}_time'].dt.month\n",
    "        df[f'cos_{col_prefix}_month'] = np.cos(2.*np.pi*df[f'{col_prefix}_month']/12.)\n",
    "        df[f'sin_{col_prefix}_month'] = np.sin(2.*np.pi*df[f'{col_prefix}_month']/12.)\n",
    "        df[f'{col_prefix}_hour'] = df[f'{col_prefix}_time'].dt.hour\n",
    "        df[f'cos_{col_prefix}_hour'] = np.cos(2.*np.pi*df[f'{col_prefix}_hour']/24.)\n",
    "        df[f'sin_{col_prefix}_hour'] = np.sin(2.*np.pi*df[f'{col_prefix}_hour']/24.)\n",
    "        df[f'{col_prefix}_minute'] = df[f'{col_prefix}_time'].dt.minute\n",
    "        df[f'cos_{col_prefix}_minute'] = np.cos(2.*np.pi*df[f'{col_prefix}_minute']/60.)\n",
    "        df[f'sin_{col_prefix}_minute'] = np.sin(2.*np.pi*df[f'{col_prefix}_minute']/60.)\n",
    "        df = df.drop(columns=[f'{col_prefix}_time'])\n",
    "    df = df[['user_id', 'purchase_value', 'device_id', 'age', 'ip_address',\n",
    "             'delay_signup_purchase', 'signup_month', 'signup_hour', 'signup_minute',\n",
    "             'sin_signup_minute', 'cos_purchase_hour', 'sin_purchase_hour',\n",
    "             'purchase_minute', 'cos_purchase_minute']]\n",
    "    return df"
   ]
  },
  {
   "cell_type": "markdown",
   "id": "aed5d10f",
   "metadata": {},
   "source": [
    "# Saving trained model for further use"
   ]
  },
  {
   "cell_type": "code",
   "execution_count": 41,
   "id": "b5c56a90",
   "metadata": {},
   "outputs": [],
   "source": [
    "joblib.dump(more_optimized_model, 'fraud_lgb.pkl')\n",
    "gbm_pickle = joblib.load('fraud_lgb.pkl')"
   ]
  },
  {
   "cell_type": "code",
   "execution_count": null,
   "id": "4ad81ad7",
   "metadata": {},
   "outputs": [],
   "source": []
  }
 ],
 "metadata": {
  "kernelspec": {
   "display_name": "Python 3",
   "language": "python",
   "name": "python3"
  },
  "language_info": {
   "codemirror_mode": {
    "name": "ipython",
    "version": 3
   },
   "file_extension": ".py",
   "mimetype": "text/x-python",
   "name": "python",
   "nbconvert_exporter": "python",
   "pygments_lexer": "ipython3",
   "version": "3.8.8"
  }
 },
 "nbformat": 4,
 "nbformat_minor": 5
}
