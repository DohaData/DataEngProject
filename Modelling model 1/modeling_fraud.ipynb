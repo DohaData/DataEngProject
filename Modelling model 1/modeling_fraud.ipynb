{
 "cells": [
  {
   "cell_type": "markdown",
   "id": "b03b19a0",
   "metadata": {},
   "source": [
    "# Dependencies"
   ]
  },
  {
   "cell_type": "code",
   "execution_count": 1,
   "id": "47ea4389",
   "metadata": {},
   "outputs": [],
   "source": [
    "import pandas as pd\n",
    "import numpy as np\n",
    "from sklearn.model_selection import GroupShuffleSplit, RandomizedSearchCV\n",
    "from random import sample\n",
    "import lightgbm as lgb\n",
    "from sklearn.feature_selection import RFE\n",
    "from sklearn.metrics import f1_score, recall_score, precision_score, confusion_matrix\n",
    "import joblib\n",
    "from imblearn.over_sampling import RandomOverSampler"
   ]
  },
  {
   "cell_type": "markdown",
   "id": "bfdebb51",
   "metadata": {},
   "source": [
    "# Import Data"
   ]
  },
  {
   "cell_type": "code",
   "execution_count": 2,
   "id": "b556dfcd",
   "metadata": {},
   "outputs": [],
   "source": [
    "SEED = 42"
   ]
  },
  {
   "cell_type": "code",
   "execution_count": 3,
   "id": "27870f80",
   "metadata": {},
   "outputs": [],
   "source": [
    "fraud_df = pd.read_csv('https://assets-datascientest.s3-eu-west-1.amazonaws.com/de/total/fraud.csv',\n",
    "                       parse_dates = ['signup_time','purchase_time'])"
   ]
  },
  {
   "cell_type": "markdown",
   "id": "625b59aa",
   "metadata": {},
   "source": [
    "# Describe and find missing values"
   ]
  },
  {
   "cell_type": "code",
   "execution_count": 4,
   "id": "8b51d4d6",
   "metadata": {},
   "outputs": [
    {
     "data": {
      "text/plain": [
       "user_id                    int64\n",
       "signup_time       datetime64[ns]\n",
       "purchase_time     datetime64[ns]\n",
       "purchase_value             int64\n",
       "device_id                 object\n",
       "source                    object\n",
       "browser                   object\n",
       "sex                       object\n",
       "age                        int64\n",
       "ip_address               float64\n",
       "is_fraud                   int64\n",
       "dtype: object"
      ]
     },
     "execution_count": 4,
     "metadata": {},
     "output_type": "execute_result"
    }
   ],
   "source": [
    "fraud_df.dtypes"
   ]
  },
  {
   "cell_type": "code",
   "execution_count": 5,
   "id": "0142c560",
   "metadata": {},
   "outputs": [
    {
     "data": {
      "text/html": [
       "<div>\n",
       "<style scoped>\n",
       "    .dataframe tbody tr th:only-of-type {\n",
       "        vertical-align: middle;\n",
       "    }\n",
       "\n",
       "    .dataframe tbody tr th {\n",
       "        vertical-align: top;\n",
       "    }\n",
       "\n",
       "    .dataframe thead th {\n",
       "        text-align: right;\n",
       "    }\n",
       "</style>\n",
       "<table border=\"1\" class=\"dataframe\">\n",
       "  <thead>\n",
       "    <tr style=\"text-align: right;\">\n",
       "      <th></th>\n",
       "      <th>user_id</th>\n",
       "      <th>signup_time</th>\n",
       "      <th>purchase_time</th>\n",
       "      <th>purchase_value</th>\n",
       "      <th>device_id</th>\n",
       "      <th>source</th>\n",
       "      <th>browser</th>\n",
       "      <th>sex</th>\n",
       "      <th>age</th>\n",
       "      <th>ip_address</th>\n",
       "      <th>is_fraud</th>\n",
       "    </tr>\n",
       "  </thead>\n",
       "  <tbody>\n",
       "    <tr>\n",
       "      <th>0</th>\n",
       "      <td>22058</td>\n",
       "      <td>2015-02-24 22:55:49</td>\n",
       "      <td>2015-04-18 02:47:11</td>\n",
       "      <td>34</td>\n",
       "      <td>QVPSPJUOCKZAR</td>\n",
       "      <td>SEO</td>\n",
       "      <td>Chrome</td>\n",
       "      <td>M</td>\n",
       "      <td>39</td>\n",
       "      <td>7.327584e+08</td>\n",
       "      <td>0</td>\n",
       "    </tr>\n",
       "    <tr>\n",
       "      <th>1</th>\n",
       "      <td>333320</td>\n",
       "      <td>2015-06-07 20:39:50</td>\n",
       "      <td>2015-06-08 01:38:54</td>\n",
       "      <td>16</td>\n",
       "      <td>EOGFQPIZPYXFZ</td>\n",
       "      <td>Ads</td>\n",
       "      <td>Chrome</td>\n",
       "      <td>F</td>\n",
       "      <td>53</td>\n",
       "      <td>3.503114e+08</td>\n",
       "      <td>0</td>\n",
       "    </tr>\n",
       "    <tr>\n",
       "      <th>2</th>\n",
       "      <td>1359</td>\n",
       "      <td>2015-01-01 18:52:44</td>\n",
       "      <td>2015-01-01 18:52:45</td>\n",
       "      <td>15</td>\n",
       "      <td>YSSKYOSJHPPLJ</td>\n",
       "      <td>SEO</td>\n",
       "      <td>Opera</td>\n",
       "      <td>M</td>\n",
       "      <td>53</td>\n",
       "      <td>2.621474e+09</td>\n",
       "      <td>1</td>\n",
       "    </tr>\n",
       "    <tr>\n",
       "      <th>3</th>\n",
       "      <td>150084</td>\n",
       "      <td>2015-04-28 21:13:25</td>\n",
       "      <td>2015-05-04 13:54:50</td>\n",
       "      <td>44</td>\n",
       "      <td>ATGTXKYKUDUQN</td>\n",
       "      <td>SEO</td>\n",
       "      <td>Safari</td>\n",
       "      <td>M</td>\n",
       "      <td>41</td>\n",
       "      <td>3.840542e+09</td>\n",
       "      <td>0</td>\n",
       "    </tr>\n",
       "    <tr>\n",
       "      <th>4</th>\n",
       "      <td>221365</td>\n",
       "      <td>2015-07-21 07:09:52</td>\n",
       "      <td>2015-09-09 18:40:53</td>\n",
       "      <td>39</td>\n",
       "      <td>NAUITBZFJKHWW</td>\n",
       "      <td>Ads</td>\n",
       "      <td>Safari</td>\n",
       "      <td>M</td>\n",
       "      <td>45</td>\n",
       "      <td>4.155831e+08</td>\n",
       "      <td>0</td>\n",
       "    </tr>\n",
       "  </tbody>\n",
       "</table>\n",
       "</div>"
      ],
      "text/plain": [
       "   user_id         signup_time       purchase_time  purchase_value  \\\n",
       "0    22058 2015-02-24 22:55:49 2015-04-18 02:47:11              34   \n",
       "1   333320 2015-06-07 20:39:50 2015-06-08 01:38:54              16   \n",
       "2     1359 2015-01-01 18:52:44 2015-01-01 18:52:45              15   \n",
       "3   150084 2015-04-28 21:13:25 2015-05-04 13:54:50              44   \n",
       "4   221365 2015-07-21 07:09:52 2015-09-09 18:40:53              39   \n",
       "\n",
       "       device_id source browser sex  age    ip_address  is_fraud  \n",
       "0  QVPSPJUOCKZAR    SEO  Chrome   M   39  7.327584e+08         0  \n",
       "1  EOGFQPIZPYXFZ    Ads  Chrome   F   53  3.503114e+08         0  \n",
       "2  YSSKYOSJHPPLJ    SEO   Opera   M   53  2.621474e+09         1  \n",
       "3  ATGTXKYKUDUQN    SEO  Safari   M   41  3.840542e+09         0  \n",
       "4  NAUITBZFJKHWW    Ads  Safari   M   45  4.155831e+08         0  "
      ]
     },
     "execution_count": 5,
     "metadata": {},
     "output_type": "execute_result"
    }
   ],
   "source": [
    "fraud_df.head()"
   ]
  },
  {
   "cell_type": "code",
   "execution_count": 6,
   "id": "5444b67f",
   "metadata": {},
   "outputs": [
    {
     "data": {
      "text/plain": [
       "user_id           0\n",
       "signup_time       0\n",
       "purchase_time     0\n",
       "purchase_value    0\n",
       "device_id         0\n",
       "source            0\n",
       "browser           0\n",
       "sex               0\n",
       "age               0\n",
       "ip_address        0\n",
       "is_fraud          0\n",
       "dtype: int64"
      ]
     },
     "execution_count": 6,
     "metadata": {},
     "output_type": "execute_result"
    }
   ],
   "source": [
    "fraud_df.isna().sum()"
   ]
  },
  {
   "cell_type": "markdown",
   "id": "db6865b3",
   "metadata": {},
   "source": [
    "# Data Preprocessing"
   ]
  },
  {
   "cell_type": "code",
   "execution_count": 7,
   "id": "8a17fe3a",
   "metadata": {},
   "outputs": [],
   "source": [
    "def process_df(original_df):\n",
    "    df = original_df.copy()\n",
    "    #'user_id',\n",
    "    df = df.drop(columns=['device_id','source','browser',\n",
    "                             'sex','ip_address'])\n",
    "    df['delay_signup_purchase'] = (df['signup_time'] - df['purchase_time']).dt.seconds\n",
    "    for col_prefix in ['signup', 'purchase']:\n",
    "        df[f'{col_prefix}_year'] = df[f'{col_prefix}_time'].dt.year\n",
    "        df[f'{col_prefix}_month'] = df[f'{col_prefix}_time'].dt.month\n",
    "        df[f'{col_prefix}_weekday'] = df[f'{col_prefix}_time'].dt.weekday\n",
    "        df[f'cos_{col_prefix}_month'] = np.cos(2.*np.pi*df[f'{col_prefix}_month']/12.)\n",
    "        df[f'sin_{col_prefix}_month'] = np.sin(2.*np.pi*df[f'{col_prefix}_month']/12.)\n",
    "        df[f'{col_prefix}_hour'] = df[f'{col_prefix}_time'].dt.hour\n",
    "        df[f'cos_{col_prefix}_hour'] = np.cos(2.*np.pi*df[f'{col_prefix}_hour']/24.)\n",
    "        df[f'sin_{col_prefix}_hour'] = np.sin(2.*np.pi*df[f'{col_prefix}_hour']/24.)\n",
    "        df[f'{col_prefix}_minute'] = df[f'{col_prefix}_time'].dt.minute\n",
    "        df[f'cos_{col_prefix}_minute'] = np.cos(2.*np.pi*df[f'{col_prefix}_minute']/60.)\n",
    "        df[f'sin_{col_prefix}_minute'] = np.sin(2.*np.pi*df[f'{col_prefix}_minute']/60.)\n",
    "        df[f'{col_prefix}_int_value'] = df[f'{col_prefix}_time'].apply(lambda x: x.value)\n",
    "        df = df.drop(columns=[f'{col_prefix}_time'])\n",
    "    return df"
   ]
  },
  {
   "cell_type": "code",
   "execution_count": 8,
   "id": "b0cb695e",
   "metadata": {},
   "outputs": [],
   "source": [
    "processed_balanced_fraud_df = process_df(fraud_df)"
   ]
  },
  {
   "cell_type": "code",
   "execution_count": 9,
   "id": "94b092f9",
   "metadata": {},
   "outputs": [
    {
     "data": {
      "text/html": [
       "<div>\n",
       "<style scoped>\n",
       "    .dataframe tbody tr th:only-of-type {\n",
       "        vertical-align: middle;\n",
       "    }\n",
       "\n",
       "    .dataframe tbody tr th {\n",
       "        vertical-align: top;\n",
       "    }\n",
       "\n",
       "    .dataframe thead th {\n",
       "        text-align: right;\n",
       "    }\n",
       "</style>\n",
       "<table border=\"1\" class=\"dataframe\">\n",
       "  <thead>\n",
       "    <tr style=\"text-align: right;\">\n",
       "      <th></th>\n",
       "      <th>user_id</th>\n",
       "      <th>purchase_value</th>\n",
       "      <th>age</th>\n",
       "      <th>is_fraud</th>\n",
       "      <th>delay_signup_purchase</th>\n",
       "      <th>signup_year</th>\n",
       "      <th>signup_month</th>\n",
       "      <th>signup_weekday</th>\n",
       "      <th>cos_signup_month</th>\n",
       "      <th>sin_signup_month</th>\n",
       "      <th>...</th>\n",
       "      <th>purchase_weekday</th>\n",
       "      <th>cos_purchase_month</th>\n",
       "      <th>sin_purchase_month</th>\n",
       "      <th>purchase_hour</th>\n",
       "      <th>cos_purchase_hour</th>\n",
       "      <th>sin_purchase_hour</th>\n",
       "      <th>purchase_minute</th>\n",
       "      <th>cos_purchase_minute</th>\n",
       "      <th>sin_purchase_minute</th>\n",
       "      <th>purchase_int_value</th>\n",
       "    </tr>\n",
       "  </thead>\n",
       "  <tbody>\n",
       "    <tr>\n",
       "      <th>0</th>\n",
       "      <td>22058</td>\n",
       "      <td>34</td>\n",
       "      <td>39</td>\n",
       "      <td>0</td>\n",
       "      <td>72518</td>\n",
       "      <td>2015</td>\n",
       "      <td>2</td>\n",
       "      <td>1</td>\n",
       "      <td>0.500000</td>\n",
       "      <td>8.660254e-01</td>\n",
       "      <td>...</td>\n",
       "      <td>5</td>\n",
       "      <td>-5.000000e-01</td>\n",
       "      <td>8.660254e-01</td>\n",
       "      <td>2</td>\n",
       "      <td>8.660254e-01</td>\n",
       "      <td>0.500000</td>\n",
       "      <td>47</td>\n",
       "      <td>0.207912</td>\n",
       "      <td>-0.978148</td>\n",
       "      <td>1429325231000000000</td>\n",
       "    </tr>\n",
       "    <tr>\n",
       "      <th>1</th>\n",
       "      <td>333320</td>\n",
       "      <td>16</td>\n",
       "      <td>53</td>\n",
       "      <td>0</td>\n",
       "      <td>68456</td>\n",
       "      <td>2015</td>\n",
       "      <td>6</td>\n",
       "      <td>6</td>\n",
       "      <td>-1.000000</td>\n",
       "      <td>1.224647e-16</td>\n",
       "      <td>...</td>\n",
       "      <td>0</td>\n",
       "      <td>-1.000000e+00</td>\n",
       "      <td>1.224647e-16</td>\n",
       "      <td>1</td>\n",
       "      <td>9.659258e-01</td>\n",
       "      <td>0.258819</td>\n",
       "      <td>38</td>\n",
       "      <td>-0.669131</td>\n",
       "      <td>-0.743145</td>\n",
       "      <td>1433727534000000000</td>\n",
       "    </tr>\n",
       "    <tr>\n",
       "      <th>2</th>\n",
       "      <td>1359</td>\n",
       "      <td>15</td>\n",
       "      <td>53</td>\n",
       "      <td>1</td>\n",
       "      <td>86399</td>\n",
       "      <td>2015</td>\n",
       "      <td>1</td>\n",
       "      <td>3</td>\n",
       "      <td>0.866025</td>\n",
       "      <td>5.000000e-01</td>\n",
       "      <td>...</td>\n",
       "      <td>3</td>\n",
       "      <td>8.660254e-01</td>\n",
       "      <td>5.000000e-01</td>\n",
       "      <td>18</td>\n",
       "      <td>-1.836970e-16</td>\n",
       "      <td>-1.000000</td>\n",
       "      <td>52</td>\n",
       "      <td>0.669131</td>\n",
       "      <td>-0.743145</td>\n",
       "      <td>1420138365000000000</td>\n",
       "    </tr>\n",
       "    <tr>\n",
       "      <th>3</th>\n",
       "      <td>150084</td>\n",
       "      <td>44</td>\n",
       "      <td>41</td>\n",
       "      <td>0</td>\n",
       "      <td>26315</td>\n",
       "      <td>2015</td>\n",
       "      <td>4</td>\n",
       "      <td>1</td>\n",
       "      <td>-0.500000</td>\n",
       "      <td>8.660254e-01</td>\n",
       "      <td>...</td>\n",
       "      <td>0</td>\n",
       "      <td>-8.660254e-01</td>\n",
       "      <td>5.000000e-01</td>\n",
       "      <td>13</td>\n",
       "      <td>-9.659258e-01</td>\n",
       "      <td>-0.258819</td>\n",
       "      <td>54</td>\n",
       "      <td>0.809017</td>\n",
       "      <td>-0.587785</td>\n",
       "      <td>1430747690000000000</td>\n",
       "    </tr>\n",
       "    <tr>\n",
       "      <th>4</th>\n",
       "      <td>221365</td>\n",
       "      <td>39</td>\n",
       "      <td>45</td>\n",
       "      <td>0</td>\n",
       "      <td>44939</td>\n",
       "      <td>2015</td>\n",
       "      <td>7</td>\n",
       "      <td>1</td>\n",
       "      <td>-0.866025</td>\n",
       "      <td>-5.000000e-01</td>\n",
       "      <td>...</td>\n",
       "      <td>2</td>\n",
       "      <td>-1.836970e-16</td>\n",
       "      <td>-1.000000e+00</td>\n",
       "      <td>18</td>\n",
       "      <td>-1.836970e-16</td>\n",
       "      <td>-1.000000</td>\n",
       "      <td>40</td>\n",
       "      <td>-0.500000</td>\n",
       "      <td>-0.866025</td>\n",
       "      <td>1441824053000000000</td>\n",
       "    </tr>\n",
       "  </tbody>\n",
       "</table>\n",
       "<p>5 rows × 29 columns</p>\n",
       "</div>"
      ],
      "text/plain": [
       "   user_id  purchase_value  age  is_fraud  delay_signup_purchase  signup_year  \\\n",
       "0    22058              34   39         0                  72518         2015   \n",
       "1   333320              16   53         0                  68456         2015   \n",
       "2     1359              15   53         1                  86399         2015   \n",
       "3   150084              44   41         0                  26315         2015   \n",
       "4   221365              39   45         0                  44939         2015   \n",
       "\n",
       "   signup_month  signup_weekday  cos_signup_month  sin_signup_month  ...  \\\n",
       "0             2               1          0.500000      8.660254e-01  ...   \n",
       "1             6               6         -1.000000      1.224647e-16  ...   \n",
       "2             1               3          0.866025      5.000000e-01  ...   \n",
       "3             4               1         -0.500000      8.660254e-01  ...   \n",
       "4             7               1         -0.866025     -5.000000e-01  ...   \n",
       "\n",
       "   purchase_weekday  cos_purchase_month  sin_purchase_month  purchase_hour  \\\n",
       "0                 5       -5.000000e-01        8.660254e-01              2   \n",
       "1                 0       -1.000000e+00        1.224647e-16              1   \n",
       "2                 3        8.660254e-01        5.000000e-01             18   \n",
       "3                 0       -8.660254e-01        5.000000e-01             13   \n",
       "4                 2       -1.836970e-16       -1.000000e+00             18   \n",
       "\n",
       "   cos_purchase_hour  sin_purchase_hour  purchase_minute  cos_purchase_minute  \\\n",
       "0       8.660254e-01           0.500000               47             0.207912   \n",
       "1       9.659258e-01           0.258819               38            -0.669131   \n",
       "2      -1.836970e-16          -1.000000               52             0.669131   \n",
       "3      -9.659258e-01          -0.258819               54             0.809017   \n",
       "4      -1.836970e-16          -1.000000               40            -0.500000   \n",
       "\n",
       "   sin_purchase_minute   purchase_int_value  \n",
       "0            -0.978148  1429325231000000000  \n",
       "1            -0.743145  1433727534000000000  \n",
       "2            -0.743145  1420138365000000000  \n",
       "3            -0.587785  1430747690000000000  \n",
       "4            -0.866025  1441824053000000000  \n",
       "\n",
       "[5 rows x 29 columns]"
      ]
     },
     "execution_count": 9,
     "metadata": {},
     "output_type": "execute_result"
    }
   ],
   "source": [
    "processed_balanced_fraud_df.head()"
   ]
  },
  {
   "cell_type": "markdown",
   "id": "f73f8585",
   "metadata": {},
   "source": [
    "# Split train test (ensure different users in each set train and test)"
   ]
  },
  {
   "cell_type": "code",
   "execution_count": 10,
   "id": "ae69517d",
   "metadata": {},
   "outputs": [],
   "source": [
    "x_df_unb = processed_balanced_fraud_df.loc[:, processed_balanced_fraud_df.columns != 'is_fraud'].reset_index(drop=True)\n",
    "y_df_unb = processed_balanced_fraud_df[['is_fraud']]\n",
    "ros = RandomOverSampler(random_state=SEED)\n",
    "x_df, y_df = ros.fit_resample(x_df_unb, y_df_unb)"
   ]
  },
  {
   "cell_type": "code",
   "execution_count": 11,
   "id": "58ad9b2f",
   "metadata": {},
   "outputs": [
    {
     "data": {
      "text/html": [
       "<div>\n",
       "<style scoped>\n",
       "    .dataframe tbody tr th:only-of-type {\n",
       "        vertical-align: middle;\n",
       "    }\n",
       "\n",
       "    .dataframe tbody tr th {\n",
       "        vertical-align: top;\n",
       "    }\n",
       "\n",
       "    .dataframe thead th {\n",
       "        text-align: right;\n",
       "    }\n",
       "</style>\n",
       "<table border=\"1\" class=\"dataframe\">\n",
       "  <thead>\n",
       "    <tr style=\"text-align: right;\">\n",
       "      <th></th>\n",
       "      <th>user_id</th>\n",
       "      <th>purchase_value</th>\n",
       "      <th>age</th>\n",
       "      <th>delay_signup_purchase</th>\n",
       "      <th>signup_year</th>\n",
       "      <th>signup_month</th>\n",
       "      <th>signup_weekday</th>\n",
       "      <th>cos_signup_month</th>\n",
       "      <th>sin_signup_month</th>\n",
       "      <th>signup_hour</th>\n",
       "      <th>...</th>\n",
       "      <th>purchase_weekday</th>\n",
       "      <th>cos_purchase_month</th>\n",
       "      <th>sin_purchase_month</th>\n",
       "      <th>purchase_hour</th>\n",
       "      <th>cos_purchase_hour</th>\n",
       "      <th>sin_purchase_hour</th>\n",
       "      <th>purchase_minute</th>\n",
       "      <th>cos_purchase_minute</th>\n",
       "      <th>sin_purchase_minute</th>\n",
       "      <th>purchase_int_value</th>\n",
       "    </tr>\n",
       "  </thead>\n",
       "  <tbody>\n",
       "    <tr>\n",
       "      <th>0</th>\n",
       "      <td>22058</td>\n",
       "      <td>34</td>\n",
       "      <td>39</td>\n",
       "      <td>72518</td>\n",
       "      <td>2015</td>\n",
       "      <td>2</td>\n",
       "      <td>1</td>\n",
       "      <td>0.500000</td>\n",
       "      <td>8.660254e-01</td>\n",
       "      <td>22</td>\n",
       "      <td>...</td>\n",
       "      <td>5</td>\n",
       "      <td>-0.500000</td>\n",
       "      <td>8.660254e-01</td>\n",
       "      <td>2</td>\n",
       "      <td>8.660254e-01</td>\n",
       "      <td>0.500000</td>\n",
       "      <td>47</td>\n",
       "      <td>0.207912</td>\n",
       "      <td>-0.978148</td>\n",
       "      <td>1429325231000000000</td>\n",
       "    </tr>\n",
       "    <tr>\n",
       "      <th>1</th>\n",
       "      <td>333320</td>\n",
       "      <td>16</td>\n",
       "      <td>53</td>\n",
       "      <td>68456</td>\n",
       "      <td>2015</td>\n",
       "      <td>6</td>\n",
       "      <td>6</td>\n",
       "      <td>-1.000000</td>\n",
       "      <td>1.224647e-16</td>\n",
       "      <td>20</td>\n",
       "      <td>...</td>\n",
       "      <td>0</td>\n",
       "      <td>-1.000000</td>\n",
       "      <td>1.224647e-16</td>\n",
       "      <td>1</td>\n",
       "      <td>9.659258e-01</td>\n",
       "      <td>0.258819</td>\n",
       "      <td>38</td>\n",
       "      <td>-0.669131</td>\n",
       "      <td>-0.743145</td>\n",
       "      <td>1433727534000000000</td>\n",
       "    </tr>\n",
       "    <tr>\n",
       "      <th>2</th>\n",
       "      <td>1359</td>\n",
       "      <td>15</td>\n",
       "      <td>53</td>\n",
       "      <td>86399</td>\n",
       "      <td>2015</td>\n",
       "      <td>1</td>\n",
       "      <td>3</td>\n",
       "      <td>0.866025</td>\n",
       "      <td>5.000000e-01</td>\n",
       "      <td>18</td>\n",
       "      <td>...</td>\n",
       "      <td>3</td>\n",
       "      <td>0.866025</td>\n",
       "      <td>5.000000e-01</td>\n",
       "      <td>18</td>\n",
       "      <td>-1.836970e-16</td>\n",
       "      <td>-1.000000</td>\n",
       "      <td>52</td>\n",
       "      <td>0.669131</td>\n",
       "      <td>-0.743145</td>\n",
       "      <td>1420138365000000000</td>\n",
       "    </tr>\n",
       "  </tbody>\n",
       "</table>\n",
       "<p>3 rows × 28 columns</p>\n",
       "</div>"
      ],
      "text/plain": [
       "   user_id  purchase_value  age  delay_signup_purchase  signup_year  \\\n",
       "0    22058              34   39                  72518         2015   \n",
       "1   333320              16   53                  68456         2015   \n",
       "2     1359              15   53                  86399         2015   \n",
       "\n",
       "   signup_month  signup_weekday  cos_signup_month  sin_signup_month  \\\n",
       "0             2               1          0.500000      8.660254e-01   \n",
       "1             6               6         -1.000000      1.224647e-16   \n",
       "2             1               3          0.866025      5.000000e-01   \n",
       "\n",
       "   signup_hour  ...  purchase_weekday  cos_purchase_month  sin_purchase_month  \\\n",
       "0           22  ...                 5           -0.500000        8.660254e-01   \n",
       "1           20  ...                 0           -1.000000        1.224647e-16   \n",
       "2           18  ...                 3            0.866025        5.000000e-01   \n",
       "\n",
       "   purchase_hour  cos_purchase_hour  sin_purchase_hour  purchase_minute  \\\n",
       "0              2       8.660254e-01           0.500000               47   \n",
       "1              1       9.659258e-01           0.258819               38   \n",
       "2             18      -1.836970e-16          -1.000000               52   \n",
       "\n",
       "   cos_purchase_minute  sin_purchase_minute   purchase_int_value  \n",
       "0             0.207912            -0.978148  1429325231000000000  \n",
       "1            -0.669131            -0.743145  1433727534000000000  \n",
       "2             0.669131            -0.743145  1420138365000000000  \n",
       "\n",
       "[3 rows x 28 columns]"
      ]
     },
     "execution_count": 11,
     "metadata": {},
     "output_type": "execute_result"
    }
   ],
   "source": [
    "x_df.head(3)"
   ]
  },
  {
   "cell_type": "code",
   "execution_count": 12,
   "id": "34a7a5c7",
   "metadata": {},
   "outputs": [
    {
     "data": {
      "text/plain": [
       "(273922, 28)"
      ]
     },
     "execution_count": 12,
     "metadata": {},
     "output_type": "execute_result"
    }
   ],
   "source": [
    "x_df.shape"
   ]
  },
  {
   "cell_type": "code",
   "execution_count": 13,
   "id": "f573d438",
   "metadata": {},
   "outputs": [
    {
     "data": {
      "text/html": [
       "<div>\n",
       "<style scoped>\n",
       "    .dataframe tbody tr th:only-of-type {\n",
       "        vertical-align: middle;\n",
       "    }\n",
       "\n",
       "    .dataframe tbody tr th {\n",
       "        vertical-align: top;\n",
       "    }\n",
       "\n",
       "    .dataframe thead th {\n",
       "        text-align: right;\n",
       "    }\n",
       "</style>\n",
       "<table border=\"1\" class=\"dataframe\">\n",
       "  <thead>\n",
       "    <tr style=\"text-align: right;\">\n",
       "      <th></th>\n",
       "      <th>is_fraud</th>\n",
       "    </tr>\n",
       "  </thead>\n",
       "  <tbody>\n",
       "    <tr>\n",
       "      <th>0</th>\n",
       "      <td>0</td>\n",
       "    </tr>\n",
       "    <tr>\n",
       "      <th>1</th>\n",
       "      <td>0</td>\n",
       "    </tr>\n",
       "    <tr>\n",
       "      <th>2</th>\n",
       "      <td>1</td>\n",
       "    </tr>\n",
       "  </tbody>\n",
       "</table>\n",
       "</div>"
      ],
      "text/plain": [
       "   is_fraud\n",
       "0         0\n",
       "1         0\n",
       "2         1"
      ]
     },
     "execution_count": 13,
     "metadata": {},
     "output_type": "execute_result"
    }
   ],
   "source": [
    "y_df.head(3)"
   ]
  },
  {
   "cell_type": "code",
   "execution_count": 14,
   "id": "0339738e",
   "metadata": {},
   "outputs": [
    {
     "data": {
      "text/plain": [
       "(273922, 1)"
      ]
     },
     "execution_count": 14,
     "metadata": {},
     "output_type": "execute_result"
    }
   ],
   "source": [
    "y_df.shape"
   ]
  },
  {
   "cell_type": "code",
   "execution_count": 15,
   "id": "dc58f5fb",
   "metadata": {},
   "outputs": [],
   "source": [
    "gs = GroupShuffleSplit(n_splits=1, train_size=.8, random_state=SEED)"
   ]
  },
  {
   "cell_type": "code",
   "execution_count": 16,
   "id": "46f2a33c",
   "metadata": {},
   "outputs": [],
   "source": [
    "train_indexes, test_indexes = next(gs.split(x_df, y_df, groups=x_df.user_id))\n",
    "\n",
    "x_train = x_df.iloc[train_indexes]\n",
    "y_train = y_df.iloc[train_indexes]\n",
    "\n",
    "x_test = x_df.iloc[test_indexes]\n",
    "y_test = y_df.iloc[test_indexes]\n",
    "\n",
    "x_train = x_train.drop(columns=['user_id'])\n",
    "x_test = x_test.drop(columns=['user_id'])"
   ]
  },
  {
   "cell_type": "markdown",
   "id": "b66f844d",
   "metadata": {},
   "source": [
    "# Train model on train data"
   ]
  },
  {
   "cell_type": "code",
   "execution_count": 17,
   "id": "7dc4f375",
   "metadata": {},
   "outputs": [],
   "source": [
    "clf = lgb.LGBMClassifier()"
   ]
  },
  {
   "cell_type": "code",
   "execution_count": 18,
   "id": "10845cc0",
   "metadata": {},
   "outputs": [],
   "source": [
    "#List of parameters and their values to choose randomly from\n",
    "param_dist = { 'max_depth':[2, 4, 6],  \n",
    "               'min_child_weight':[0.001, 0.01, 0.1, 1, 2],\n",
    "               'subsample':np.arange(0.75, 0.90, 0.01),\n",
    "               'colsample_bytree': np.arange(0.80, 1, 0.1), \n",
    "               'reg_alpha':[.001, .005, .0005],\n",
    "               'reg_lambda':[.001, .005, .0005],\n",
    "                    }"
   ]
  },
  {
   "cell_type": "code",
   "execution_count": 19,
   "id": "19fe8625",
   "metadata": {},
   "outputs": [
    {
     "name": "stdout",
     "output_type": "stream",
     "text": [
      "Fitting 5 folds for each of 10 candidates, totalling 50 fits\n"
     ]
    },
    {
     "data": {
      "text/plain": [
       "RandomizedSearchCV(cv=5, estimator=LGBMClassifier(), n_jobs=-1,\n",
       "                   param_distributions={'colsample_bytree': array([0.8, 0.9]),\n",
       "                                        'max_depth': [2, 4, 6],\n",
       "                                        'min_child_weight': [0.001, 0.01, 0.1,\n",
       "                                                             1, 2],\n",
       "                                        'reg_alpha': [0.001, 0.005, 0.0005],\n",
       "                                        'reg_lambda': [0.001, 0.005, 0.0005],\n",
       "                                        'subsample': array([0.75, 0.76, 0.77, 0.78, 0.79, 0.8 , 0.81, 0.82, 0.83, 0.84, 0.85,\n",
       "       0.86, 0.87, 0.88, 0.89, 0.9 ])},\n",
       "                   verbose=1)"
      ]
     },
     "execution_count": 19,
     "metadata": {},
     "output_type": "execute_result"
    }
   ],
   "source": [
    "grid = RandomizedSearchCV(clf, param_dist, verbose=1, cv=5, n_jobs = -1, n_iter=10)\n",
    "grid.fit(x_train, y_train.values.ravel())"
   ]
  },
  {
   "cell_type": "code",
   "execution_count": 20,
   "id": "08dfe3b8",
   "metadata": {},
   "outputs": [],
   "source": [
    "optimized_model = lgb.LGBMClassifier(**grid.best_params_)"
   ]
  },
  {
   "cell_type": "markdown",
   "id": "9b224e78",
   "metadata": {},
   "source": [
    "# Variable selection"
   ]
  },
  {
   "cell_type": "code",
   "execution_count": 21,
   "id": "bc72d649",
   "metadata": {},
   "outputs": [],
   "source": [
    "selector = RFE(optimized_model, step=1)\n",
    "selector = selector.fit(x_train, y_train.values.ravel())"
   ]
  },
  {
   "cell_type": "code",
   "execution_count": 22,
   "id": "9632db55",
   "metadata": {},
   "outputs": [],
   "source": [
    "cols_to_keep = x_train.loc[:, selector.support_].columns"
   ]
  },
  {
   "cell_type": "code",
   "execution_count": 23,
   "id": "9ed70098",
   "metadata": {},
   "outputs": [
    {
     "data": {
      "text/plain": [
       "Index(['purchase_value', 'age', 'delay_signup_purchase', 'signup_hour',\n",
       "       'signup_minute', 'cos_signup_minute', 'sin_signup_minute',\n",
       "       'signup_int_value', 'purchase_hour', 'sin_purchase_hour',\n",
       "       'cos_purchase_minute', 'sin_purchase_minute', 'purchase_int_value'],\n",
       "      dtype='object')"
      ]
     },
     "execution_count": 23,
     "metadata": {},
     "output_type": "execute_result"
    }
   ],
   "source": [
    "cols_to_keep"
   ]
  },
  {
   "cell_type": "code",
   "execution_count": 24,
   "id": "27476021",
   "metadata": {},
   "outputs": [
    {
     "data": {
      "text/plain": [
       "LGBMClassifier(colsample_bytree=0.9, max_depth=6, min_child_weight=0.01,\n",
       "               reg_alpha=0.001, reg_lambda=0.0005,\n",
       "               subsample=0.8200000000000001)"
      ]
     },
     "execution_count": 24,
     "metadata": {},
     "output_type": "execute_result"
    }
   ],
   "source": [
    "more_optimized_model = lgb.LGBMClassifier(**grid.best_params_)\n",
    "more_optimized_model.fit(x_train[cols_to_keep], y_train.values.ravel())"
   ]
  },
  {
   "cell_type": "markdown",
   "id": "51678fc4",
   "metadata": {},
   "source": [
    "# Discover variables importance"
   ]
  },
  {
   "cell_type": "code",
   "execution_count": 25,
   "id": "218e13c1",
   "metadata": {},
   "outputs": [
    {
     "data": {
      "text/plain": [
       "<AxesSubplot:title={'center':'Feature importance'}, xlabel='Feature importance', ylabel='Features'>"
      ]
     },
     "execution_count": 25,
     "metadata": {},
     "output_type": "execute_result"
    },
    {
     "data": {
      "image/png": "[encoded data removed]",
      "text/plain": [
       "<Figure size 432x288 with 1 Axes>"
      ]
     },
     "metadata": {
      "needs_background": "light"
     },
     "output_type": "display_data"
    }
   ],
   "source": [
    "lgb.plot_importance(more_optimized_model)"
   ]
  },
  {
   "cell_type": "markdown",
   "id": "bdab9452",
   "metadata": {},
   "source": [
    "# Tune hyperparameters after variable selection"
   ]
  },
  {
   "cell_type": "code",
   "execution_count": 26,
   "id": "90b61d31",
   "metadata": {},
   "outputs": [],
   "source": [
    "clf = lgb.LGBMClassifier()"
   ]
  },
  {
   "cell_type": "code",
   "execution_count": 27,
   "id": "9433428f",
   "metadata": {},
   "outputs": [],
   "source": [
    "#List of parameters and their values to choose randomly from\n",
    "param_dist = { 'max_depth':[2, 4, 6],  \n",
    "               'min_child_weight':[0.001, 0.01, 0.1, 1, 2],\n",
    "               'subsample':np.arange(0.75, 0.90, 0.01),\n",
    "               'colsample_bytree': np.arange(0.80, 1, 0.1), \n",
    "               'reg_alpha':[.001, .005, .0005],\n",
    "               'reg_lambda':[.001, .005, .0005],\n",
    "                    }"
   ]
  },
  {
   "cell_type": "code",
   "execution_count": 28,
   "id": "b3e02f83",
   "metadata": {},
   "outputs": [
    {
     "name": "stdout",
     "output_type": "stream",
     "text": [
      "Fitting 5 folds for each of 10 candidates, totalling 50 fits\n"
     ]
    },
    {
     "data": {
      "text/plain": [
       "RandomizedSearchCV(cv=5, estimator=LGBMClassifier(), n_jobs=-1,\n",
       "                   param_distributions={'colsample_bytree': array([0.8, 0.9]),\n",
       "                                        'max_depth': [2, 4, 6],\n",
       "                                        'min_child_weight': [0.001, 0.01, 0.1,\n",
       "                                                             1, 2],\n",
       "                                        'reg_alpha': [0.001, 0.005, 0.0005],\n",
       "                                        'reg_lambda': [0.001, 0.005, 0.0005],\n",
       "                                        'subsample': array([0.75, 0.76, 0.77, 0.78, 0.79, 0.8 , 0.81, 0.82, 0.83, 0.84, 0.85,\n",
       "       0.86, 0.87, 0.88, 0.89, 0.9 ])},\n",
       "                   verbose=1)"
      ]
     },
     "execution_count": 28,
     "metadata": {},
     "output_type": "execute_result"
    }
   ],
   "source": [
    "grid = RandomizedSearchCV(clf, param_dist, verbose=1, cv=5, n_jobs = -1, n_iter=10)\n",
    "grid.fit(x_train[cols_to_keep], y_train.values.ravel())"
   ]
  },
  {
   "cell_type": "code",
   "execution_count": 29,
   "id": "24fb2686",
   "metadata": {},
   "outputs": [],
   "source": [
    "best_optimized_model = lgb.LGBMClassifier(**grid.best_params_)"
   ]
  },
  {
   "cell_type": "code",
   "execution_count": 30,
   "id": "db46a2cb",
   "metadata": {},
   "outputs": [
    {
     "data": {
      "text/plain": [
       "LGBMClassifier(colsample_bytree=0.8, max_depth=6, min_child_weight=0.01,\n",
       "               reg_alpha=0.001, reg_lambda=0.005, subsample=0.8700000000000001)"
      ]
     },
     "execution_count": 30,
     "metadata": {},
     "output_type": "execute_result"
    }
   ],
   "source": [
    "best_optimized_model.fit(x_train[cols_to_keep], y_train.values.ravel())"
   ]
  },
  {
   "cell_type": "markdown",
   "id": "f4e0c20c",
   "metadata": {},
   "source": [
    "# Test on test set"
   ]
  },
  {
   "cell_type": "code",
   "execution_count": 31,
   "id": "8051028f",
   "metadata": {},
   "outputs": [],
   "source": [
    "y_pred = best_optimized_model.predict(x_test[cols_to_keep])"
   ]
  },
  {
   "cell_type": "code",
   "execution_count": 32,
   "id": "2543ea0e",
   "metadata": {},
   "outputs": [
    {
     "data": {
      "text/plain": [
       "0.7070121314745657"
      ]
     },
     "execution_count": 32,
     "metadata": {},
     "output_type": "execute_result"
    }
   ],
   "source": [
    "f1_score(y_test.values.ravel(), y_pred)"
   ]
  },
  {
   "cell_type": "code",
   "execution_count": 33,
   "id": "953e1357",
   "metadata": {},
   "outputs": [
    {
     "data": {
      "text/plain": [
       "0.5472368846278143"
      ]
     },
     "execution_count": 33,
     "metadata": {},
     "output_type": "execute_result"
    }
   ],
   "source": [
    "recall_score(y_test.values.ravel(), y_pred)"
   ]
  },
  {
   "cell_type": "code",
   "execution_count": 34,
   "id": "79de4a4b",
   "metadata": {},
   "outputs": [
    {
     "data": {
      "text/plain": [
       "0.9985585113353427"
      ]
     },
     "execution_count": 34,
     "metadata": {},
     "output_type": "execute_result"
    }
   ],
   "source": [
    "precision_score(y_test.values.ravel(), y_pred)"
   ]
  },
  {
   "cell_type": "code",
   "execution_count": 35,
   "id": "d17704e4",
   "metadata": {},
   "outputs": [
    {
     "data": {
      "text/plain": [
       "array([[27324,    22],\n",
       "       [12609, 15240]], dtype=int64)"
      ]
     },
     "execution_count": 35,
     "metadata": {},
     "output_type": "execute_result"
    }
   ],
   "source": [
    "confusion_matrix(y_test.values.ravel(), y_pred)"
   ]
  },
  {
   "cell_type": "markdown",
   "id": "39587d09",
   "metadata": {},
   "source": [
    "# Final preprocessing_function for further use on new data"
   ]
  },
  {
   "cell_type": "code",
   "execution_count": 36,
   "id": "fe3ee917",
   "metadata": {},
   "outputs": [],
   "source": [
    "def process_df(original_df):\n",
    "    df = original_df.copy()\n",
    "    df['delay_signup_purchase'] = (df['signup_time'] - df['purchase_time']).dt.seconds\n",
    "    for col_prefix in ['signup', 'purchase']:\n",
    "        df[f'{col_prefix}_year'] = df[f'{col_prefix}_time'].dt.year\n",
    "        df[f'{col_prefix}_month'] = df[f'{col_prefix}_time'].dt.month\n",
    "        df[f'{col_prefix}_weekday'] = df[f'{col_prefix}_time'].dt.weekday\n",
    "        df[f'cos_{col_prefix}_month'] = np.cos(2.*np.pi*df[f'{col_prefix}_month']/12.)\n",
    "        df[f'sin_{col_prefix}_month'] = np.sin(2.*np.pi*df[f'{col_prefix}_month']/12.)\n",
    "        df[f'{col_prefix}_hour'] = df[f'{col_prefix}_time'].dt.hour\n",
    "        df[f'cos_{col_prefix}_hour'] = np.cos(2.*np.pi*df[f'{col_prefix}_hour']/24.)\n",
    "        df[f'sin_{col_prefix}_hour'] = np.sin(2.*np.pi*df[f'{col_prefix}_hour']/24.)\n",
    "        df[f'{col_prefix}_minute'] = df[f'{col_prefix}_time'].dt.minute\n",
    "        df[f'cos_{col_prefix}_minute'] = np.cos(2.*np.pi*df[f'{col_prefix}_minute']/60.)\n",
    "        df[f'sin_{col_prefix}_minute'] = np.sin(2.*np.pi*df[f'{col_prefix}_minute']/60.)\n",
    "        df[f'{col_prefix}_int_value'] = df[f'{col_prefix}_time'].apply(lambda x: x.value)\n",
    "        df = df.drop(columns=[f'{col_prefix}_time'])\n",
    "    df = df[['purchase_value', 'age', 'delay_signup_purchase', 'signup_hour',\n",
    "           'signup_minute', 'cos_signup_minute', 'sin_signup_minute',\n",
    "           'signup_int_value', 'purchase_hour', 'sin_purchase_hour',\n",
    "           'purchase_minute', 'cos_purchase_minute', 'purchase_int_value']]\n",
    "    return df"
   ]
  },
  {
   "cell_type": "markdown",
   "id": "d9751779",
   "metadata": {},
   "source": [
    "# Saving trained model for further use"
   ]
  },
  {
   "cell_type": "code",
   "execution_count": 37,
   "id": "c51e468b",
   "metadata": {},
   "outputs": [],
   "source": [
    "joblib.dump(best_optimized_model, 'fraud_lgb.pkl')\n",
    "gbm_pickle = joblib.load('fraud_lgb.pkl')"
   ]
  },
  {
   "cell_type": "code",
   "execution_count": null,
   "id": "e38855bb",
   "metadata": {},
   "outputs": [],
   "source": []
  }
 ],
 "metadata": {
  "kernelspec": {
   "display_name": "Python 3",
   "language": "python",
   "name": "python3"
  },
  "language_info": {
   "codemirror_mode": {
    "name": "ipython",
    "version": 3
   },
   "file_extension": ".py",
   "mimetype": "text/x-python",
   "name": "python",
   "nbconvert_exporter": "python",
   "pygments_lexer": "ipython3",
   "version": "3.8.8"
  }
 },
 "nbformat": 4,
 "nbformat_minor": 5
}
