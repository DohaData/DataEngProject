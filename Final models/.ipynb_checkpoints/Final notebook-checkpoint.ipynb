{
 "cells": [
  {
   "cell_type": "markdown",
   "id": "2c293333",
   "metadata": {},
   "source": [
    "# 0. Introduction "
   ]
  },
  {
   "cell_type": "raw",
   "id": "63bc18b8",
   "metadata": {},
   "source": [
    "Pour le projet de fraude nous sommes partis sur deux modélisations, une avec randomforestclassifier et une avec lightgbm.\n",
    "La première est assez simple mais obtient des résultats proches de la seconde qui a été effectuée avec de l'oversampling, une recherche des hyperparamètres par validation croisée, ainsi qu'une sélection des features par RFE."
   ]
  },
  {
   "cell_type": "markdown",
   "id": "b03b19a0",
   "metadata": {},
   "source": [
    "# I. Dépendances"
   ]
  },
  {
   "cell_type": "code",
   "execution_count": 70,
   "id": "47ea4389",
   "metadata": {},
   "outputs": [],
   "source": [
    "#Importation des bibliothèques nécessaires au preprocessing\n",
    "#et à l'entraînement des deux modèles finaux choisis\n",
    "\n",
    "import pandas as pd\n",
    "import numpy as np\n",
    "from random import sample\n",
    "from datetime import date\n",
    "\n",
    "import matplotlib.pyplot as plt\n",
    "import seaborn as sns\n",
    "%matplotlib inline\n",
    "\n",
    "from sklearn import preprocessing\n",
    "from sklearn.model_selection import GroupShuffleSplit, RandomizedSearchCV, train_test_split\n",
    "from sklearn.feature_selection import RFE\n",
    "from sklearn.metrics import f1_score, recall_score, precision_score, confusion_matrix\n",
    "from sklearn.svm import SVC\n",
    "from sklearn import ensemble\n",
    "import lightgbm as lgb\n",
    "from imblearn.over_sampling import RandomOverSampler, SMOTE\n",
    "from imblearn.under_sampling import RandomUnderSampler,  ClusterCentroids\n",
    "from imblearn.metrics import classification_report_imbalanced, geometric_mean_score\n",
    "\n",
    "import joblib"
   ]
  },
  {
   "cell_type": "markdown",
   "id": "bfdebb51",
   "metadata": {},
   "source": [
    "# II. Import des données"
   ]
  },
  {
   "cell_type": "code",
   "execution_count": 71,
   "id": "b556dfcd",
   "metadata": {},
   "outputs": [],
   "source": [
    "SEED = 42"
   ]
  },
  {
   "cell_type": "code",
   "execution_count": 72,
   "id": "27870f80",
   "metadata": {},
   "outputs": [],
   "source": [
    "# Chargement du jeu de données\n",
    "fraud_df = pd.read_csv('https://assets-datascientest.s3-eu-west-1.amazonaws.com/de/total/fraud.csv',\n",
    "                       parse_dates = ['signup_time','purchase_time'])"
   ]
  },
  {
   "cell_type": "markdown",
   "id": "625b59aa",
   "metadata": {},
   "source": [
    "# III. Description et recherche des valeurs manquantes"
   ]
  },
  {
   "cell_type": "code",
   "execution_count": 73,
   "id": "8b51d4d6",
   "metadata": {},
   "outputs": [
    {
     "name": "stdout",
     "output_type": "stream",
     "text": [
      "<class 'pandas.core.frame.DataFrame'>\n",
      "RangeIndex: 151112 entries, 0 to 151111\n",
      "Data columns (total 11 columns):\n",
      " #   Column          Non-Null Count   Dtype         \n",
      "---  ------          --------------   -----         \n",
      " 0   user_id         151112 non-null  int64         \n",
      " 1   signup_time     151112 non-null  datetime64[ns]\n",
      " 2   purchase_time   151112 non-null  datetime64[ns]\n",
      " 3   purchase_value  151112 non-null  int64         \n",
      " 4   device_id       151112 non-null  object        \n",
      " 5   source          151112 non-null  object        \n",
      " 6   browser         151112 non-null  object        \n",
      " 7   sex             151112 non-null  object        \n",
      " 8   age             151112 non-null  int64         \n",
      " 9   ip_address      151112 non-null  float64       \n",
      " 10  is_fraud        151112 non-null  int64         \n",
      "dtypes: datetime64[ns](2), float64(1), int64(4), object(4)\n",
      "memory usage: 12.7+ MB\n"
     ]
    }
   ],
   "source": [
    "# Infos sur chaque colonne\n",
    "fraud_df.info()"
   ]
  },
  {
   "cell_type": "code",
   "execution_count": 74,
   "id": "0142c560",
   "metadata": {},
   "outputs": [
    {
     "data": {
      "text/html": [
       "<div>\n",
       "<style scoped>\n",
       "    .dataframe tbody tr th:only-of-type {\n",
       "        vertical-align: middle;\n",
       "    }\n",
       "\n",
       "    .dataframe tbody tr th {\n",
       "        vertical-align: top;\n",
       "    }\n",
       "\n",
       "    .dataframe thead th {\n",
       "        text-align: right;\n",
       "    }\n",
       "</style>\n",
       "<table border=\"1\" class=\"dataframe\">\n",
       "  <thead>\n",
       "    <tr style=\"text-align: right;\">\n",
       "      <th></th>\n",
       "      <th>user_id</th>\n",
       "      <th>signup_time</th>\n",
       "      <th>purchase_time</th>\n",
       "      <th>purchase_value</th>\n",
       "      <th>device_id</th>\n",
       "      <th>source</th>\n",
       "      <th>browser</th>\n",
       "      <th>sex</th>\n",
       "      <th>age</th>\n",
       "      <th>ip_address</th>\n",
       "      <th>is_fraud</th>\n",
       "    </tr>\n",
       "  </thead>\n",
       "  <tbody>\n",
       "    <tr>\n",
       "      <th>0</th>\n",
       "      <td>22058</td>\n",
       "      <td>2015-02-24 22:55:49</td>\n",
       "      <td>2015-04-18 02:47:11</td>\n",
       "      <td>34</td>\n",
       "      <td>QVPSPJUOCKZAR</td>\n",
       "      <td>SEO</td>\n",
       "      <td>Chrome</td>\n",
       "      <td>M</td>\n",
       "      <td>39</td>\n",
       "      <td>7.327584e+08</td>\n",
       "      <td>0</td>\n",
       "    </tr>\n",
       "    <tr>\n",
       "      <th>1</th>\n",
       "      <td>333320</td>\n",
       "      <td>2015-06-07 20:39:50</td>\n",
       "      <td>2015-06-08 01:38:54</td>\n",
       "      <td>16</td>\n",
       "      <td>EOGFQPIZPYXFZ</td>\n",
       "      <td>Ads</td>\n",
       "      <td>Chrome</td>\n",
       "      <td>F</td>\n",
       "      <td>53</td>\n",
       "      <td>3.503114e+08</td>\n",
       "      <td>0</td>\n",
       "    </tr>\n",
       "    <tr>\n",
       "      <th>2</th>\n",
       "      <td>1359</td>\n",
       "      <td>2015-01-01 18:52:44</td>\n",
       "      <td>2015-01-01 18:52:45</td>\n",
       "      <td>15</td>\n",
       "      <td>YSSKYOSJHPPLJ</td>\n",
       "      <td>SEO</td>\n",
       "      <td>Opera</td>\n",
       "      <td>M</td>\n",
       "      <td>53</td>\n",
       "      <td>2.621474e+09</td>\n",
       "      <td>1</td>\n",
       "    </tr>\n",
       "    <tr>\n",
       "      <th>3</th>\n",
       "      <td>150084</td>\n",
       "      <td>2015-04-28 21:13:25</td>\n",
       "      <td>2015-05-04 13:54:50</td>\n",
       "      <td>44</td>\n",
       "      <td>ATGTXKYKUDUQN</td>\n",
       "      <td>SEO</td>\n",
       "      <td>Safari</td>\n",
       "      <td>M</td>\n",
       "      <td>41</td>\n",
       "      <td>3.840542e+09</td>\n",
       "      <td>0</td>\n",
       "    </tr>\n",
       "    <tr>\n",
       "      <th>4</th>\n",
       "      <td>221365</td>\n",
       "      <td>2015-07-21 07:09:52</td>\n",
       "      <td>2015-09-09 18:40:53</td>\n",
       "      <td>39</td>\n",
       "      <td>NAUITBZFJKHWW</td>\n",
       "      <td>Ads</td>\n",
       "      <td>Safari</td>\n",
       "      <td>M</td>\n",
       "      <td>45</td>\n",
       "      <td>4.155831e+08</td>\n",
       "      <td>0</td>\n",
       "    </tr>\n",
       "  </tbody>\n",
       "</table>\n",
       "</div>"
      ],
      "text/plain": [
       "   user_id         signup_time       purchase_time  purchase_value  \\\n",
       "0    22058 2015-02-24 22:55:49 2015-04-18 02:47:11              34   \n",
       "1   333320 2015-06-07 20:39:50 2015-06-08 01:38:54              16   \n",
       "2     1359 2015-01-01 18:52:44 2015-01-01 18:52:45              15   \n",
       "3   150084 2015-04-28 21:13:25 2015-05-04 13:54:50              44   \n",
       "4   221365 2015-07-21 07:09:52 2015-09-09 18:40:53              39   \n",
       "\n",
       "       device_id source browser sex  age    ip_address  is_fraud  \n",
       "0  QVPSPJUOCKZAR    SEO  Chrome   M   39  7.327584e+08         0  \n",
       "1  EOGFQPIZPYXFZ    Ads  Chrome   F   53  3.503114e+08         0  \n",
       "2  YSSKYOSJHPPLJ    SEO   Opera   M   53  2.621474e+09         1  \n",
       "3  ATGTXKYKUDUQN    SEO  Safari   M   41  3.840542e+09         0  \n",
       "4  NAUITBZFJKHWW    Ads  Safari   M   45  4.155831e+08         0  "
      ]
     },
     "execution_count": 74,
     "metadata": {},
     "output_type": "execute_result"
    }
   ],
   "source": [
    "fraud_df.head()"
   ]
  },
  {
   "cell_type": "code",
   "execution_count": 75,
   "id": "5444b67f",
   "metadata": {},
   "outputs": [
    {
     "data": {
      "text/plain": [
       "user_id           0\n",
       "signup_time       0\n",
       "purchase_time     0\n",
       "purchase_value    0\n",
       "device_id         0\n",
       "source            0\n",
       "browser           0\n",
       "sex               0\n",
       "age               0\n",
       "ip_address        0\n",
       "is_fraud          0\n",
       "dtype: int64"
      ]
     },
     "execution_count": 75,
     "metadata": {},
     "output_type": "execute_result"
    }
   ],
   "source": [
    "fraud_df.isna().sum()\n",
    "\n",
    "#Aucune donnée ne comporte des valeurs nulles"
   ]
  },
  {
   "cell_type": "code",
   "execution_count": 76,
   "id": "0589de4d",
   "metadata": {},
   "outputs": [
    {
     "data": {
      "text/plain": [
       "user_id           151112\n",
       "signup_time       151112\n",
       "purchase_time     150679\n",
       "purchase_value       122\n",
       "device_id         137956\n",
       "source                 3\n",
       "browser                5\n",
       "sex                    2\n",
       "age                   58\n",
       "ip_address        143511\n",
       "is_fraud               2\n",
       "dtype: int64"
      ]
     },
     "execution_count": 76,
     "metadata": {},
     "output_type": "execute_result"
    }
   ],
   "source": [
    "# Nombre de valeurs uniques par colonne\n",
    "fraud_df.nunique()\n",
    "\n",
    "#Les user_id sont tous uniques\n",
    "#Il sera inutile d'éviter les doublons lors de la séparation du jeu de données entre entraînement et test"
   ]
  },
  {
   "cell_type": "code",
   "execution_count": 77,
   "id": "63194fe9",
   "metadata": {},
   "outputs": [
    {
     "name": "stdout",
     "output_type": "stream",
     "text": [
      "0    136961\n",
      "1     14151\n",
      "Name: is_fraud, dtype: int64\n",
      "0    0.906354\n",
      "1    0.093646\n",
      "Name: is_fraud, dtype: float64\n"
     ]
    }
   ],
   "source": [
    "# Proportion de fraudes dans le jeu de données, le jeu de données est déséquilibré\n",
    "print(fraud_df.is_fraud.value_counts())\n",
    "print(fraud_df.is_fraud.value_counts(normalize=True))"
   ]
  },
  {
   "cell_type": "markdown",
   "id": "520d63b8",
   "metadata": {},
   "source": [
    "# IV. Data Viz"
   ]
  },
  {
   "cell_type": "code",
   "execution_count": 78,
   "id": "f41c5efb",
   "metadata": {},
   "outputs": [
    {
     "data": {
      "text/html": [
       "<div>\n",
       "<style scoped>\n",
       "    .dataframe tbody tr th:only-of-type {\n",
       "        vertical-align: middle;\n",
       "    }\n",
       "\n",
       "    .dataframe tbody tr th {\n",
       "        vertical-align: top;\n",
       "    }\n",
       "\n",
       "    .dataframe thead th {\n",
       "        text-align: right;\n",
       "    }\n",
       "</style>\n",
       "<table border=\"1\" class=\"dataframe\">\n",
       "  <thead>\n",
       "    <tr style=\"text-align: right;\">\n",
       "      <th></th>\n",
       "      <th>user_id</th>\n",
       "      <th>signup_time</th>\n",
       "      <th>purchase_time</th>\n",
       "      <th>purchase_value</th>\n",
       "      <th>device_id</th>\n",
       "      <th>source</th>\n",
       "      <th>browser</th>\n",
       "      <th>sex</th>\n",
       "      <th>age</th>\n",
       "      <th>ip_address</th>\n",
       "      <th>is_fraud</th>\n",
       "      <th>purchase_date</th>\n",
       "      <th>purchase_hour</th>\n",
       "      <th>purchase_weekday</th>\n",
       "      <th>purchase_month</th>\n",
       "      <th>purchase_day</th>\n",
       "      <th>signup_date</th>\n",
       "      <th>days_till_signup</th>\n",
       "    </tr>\n",
       "  </thead>\n",
       "  <tbody>\n",
       "    <tr>\n",
       "      <th>0</th>\n",
       "      <td>22058</td>\n",
       "      <td>2015-02-24 22:55:49</td>\n",
       "      <td>2015-04-18 02:47:11</td>\n",
       "      <td>34</td>\n",
       "      <td>QVPSPJUOCKZAR</td>\n",
       "      <td>SEO</td>\n",
       "      <td>Chrome</td>\n",
       "      <td>M</td>\n",
       "      <td>39</td>\n",
       "      <td>7.327584e+08</td>\n",
       "      <td>0</td>\n",
       "      <td>2015-04-18</td>\n",
       "      <td>2</td>\n",
       "      <td>5</td>\n",
       "      <td>4</td>\n",
       "      <td>18</td>\n",
       "      <td>2015-02-24</td>\n",
       "      <td>53</td>\n",
       "    </tr>\n",
       "    <tr>\n",
       "      <th>1</th>\n",
       "      <td>333320</td>\n",
       "      <td>2015-06-07 20:39:50</td>\n",
       "      <td>2015-06-08 01:38:54</td>\n",
       "      <td>16</td>\n",
       "      <td>EOGFQPIZPYXFZ</td>\n",
       "      <td>Ads</td>\n",
       "      <td>Chrome</td>\n",
       "      <td>F</td>\n",
       "      <td>53</td>\n",
       "      <td>3.503114e+08</td>\n",
       "      <td>0</td>\n",
       "      <td>2015-06-08</td>\n",
       "      <td>1</td>\n",
       "      <td>0</td>\n",
       "      <td>6</td>\n",
       "      <td>8</td>\n",
       "      <td>2015-06-07</td>\n",
       "      <td>1</td>\n",
       "    </tr>\n",
       "    <tr>\n",
       "      <th>2</th>\n",
       "      <td>1359</td>\n",
       "      <td>2015-01-01 18:52:44</td>\n",
       "      <td>2015-01-01 18:52:45</td>\n",
       "      <td>15</td>\n",
       "      <td>YSSKYOSJHPPLJ</td>\n",
       "      <td>SEO</td>\n",
       "      <td>Opera</td>\n",
       "      <td>M</td>\n",
       "      <td>53</td>\n",
       "      <td>2.621474e+09</td>\n",
       "      <td>1</td>\n",
       "      <td>2015-01-01</td>\n",
       "      <td>18</td>\n",
       "      <td>3</td>\n",
       "      <td>1</td>\n",
       "      <td>1</td>\n",
       "      <td>2015-01-01</td>\n",
       "      <td>0</td>\n",
       "    </tr>\n",
       "    <tr>\n",
       "      <th>3</th>\n",
       "      <td>150084</td>\n",
       "      <td>2015-04-28 21:13:25</td>\n",
       "      <td>2015-05-04 13:54:50</td>\n",
       "      <td>44</td>\n",
       "      <td>ATGTXKYKUDUQN</td>\n",
       "      <td>SEO</td>\n",
       "      <td>Safari</td>\n",
       "      <td>M</td>\n",
       "      <td>41</td>\n",
       "      <td>3.840542e+09</td>\n",
       "      <td>0</td>\n",
       "      <td>2015-05-04</td>\n",
       "      <td>13</td>\n",
       "      <td>0</td>\n",
       "      <td>5</td>\n",
       "      <td>4</td>\n",
       "      <td>2015-04-28</td>\n",
       "      <td>6</td>\n",
       "    </tr>\n",
       "    <tr>\n",
       "      <th>4</th>\n",
       "      <td>221365</td>\n",
       "      <td>2015-07-21 07:09:52</td>\n",
       "      <td>2015-09-09 18:40:53</td>\n",
       "      <td>39</td>\n",
       "      <td>NAUITBZFJKHWW</td>\n",
       "      <td>Ads</td>\n",
       "      <td>Safari</td>\n",
       "      <td>M</td>\n",
       "      <td>45</td>\n",
       "      <td>4.155831e+08</td>\n",
       "      <td>0</td>\n",
       "      <td>2015-09-09</td>\n",
       "      <td>18</td>\n",
       "      <td>2</td>\n",
       "      <td>9</td>\n",
       "      <td>9</td>\n",
       "      <td>2015-07-21</td>\n",
       "      <td>50</td>\n",
       "    </tr>\n",
       "  </tbody>\n",
       "</table>\n",
       "</div>"
      ],
      "text/plain": [
       "   user_id         signup_time       purchase_time  purchase_value  \\\n",
       "0    22058 2015-02-24 22:55:49 2015-04-18 02:47:11              34   \n",
       "1   333320 2015-06-07 20:39:50 2015-06-08 01:38:54              16   \n",
       "2     1359 2015-01-01 18:52:44 2015-01-01 18:52:45              15   \n",
       "3   150084 2015-04-28 21:13:25 2015-05-04 13:54:50              44   \n",
       "4   221365 2015-07-21 07:09:52 2015-09-09 18:40:53              39   \n",
       "\n",
       "       device_id source browser sex  age    ip_address  is_fraud  \\\n",
       "0  QVPSPJUOCKZAR    SEO  Chrome   M   39  7.327584e+08         0   \n",
       "1  EOGFQPIZPYXFZ    Ads  Chrome   F   53  3.503114e+08         0   \n",
       "2  YSSKYOSJHPPLJ    SEO   Opera   M   53  2.621474e+09         1   \n",
       "3  ATGTXKYKUDUQN    SEO  Safari   M   41  3.840542e+09         0   \n",
       "4  NAUITBZFJKHWW    Ads  Safari   M   45  4.155831e+08         0   \n",
       "\n",
       "  purchase_date  purchase_hour  purchase_weekday  purchase_month  \\\n",
       "0    2015-04-18              2                 5               4   \n",
       "1    2015-06-08              1                 0               6   \n",
       "2    2015-01-01             18                 3               1   \n",
       "3    2015-05-04             13                 0               5   \n",
       "4    2015-09-09             18                 2               9   \n",
       "\n",
       "   purchase_day signup_date  days_till_signup  \n",
       "0            18  2015-02-24                53  \n",
       "1             8  2015-06-07                 1  \n",
       "2             1  2015-01-01                 0  \n",
       "3             4  2015-04-28                 6  \n",
       "4             9  2015-07-21                50  "
      ]
     },
     "execution_count": 78,
     "metadata": {},
     "output_type": "execute_result"
    }
   ],
   "source": [
    "# Création de colonnes de temps afin de mieux visualiser des patterns dans le jeu de données\n",
    "fraud = fraud_df.copy()\n",
    "fraud[\"purchase_date\"] = fraud.purchase_time.dt.date\n",
    "fraud[\"purchase_hour\"] = fraud.purchase_time.dt.hour\n",
    "fraud[\"purchase_weekday\"] = fraud.purchase_time.dt.weekday\n",
    "fraud[\"purchase_month\"] = fraud.purchase_time.dt.month\n",
    "fraud[\"purchase_day\"] = fraud.purchase_time.dt.day\n",
    "fraud[\"signup_date\"] = fraud.signup_time.dt.date\n",
    "fraud[\"days_till_signup\"] = fraud.purchase_date - fraud.signup_date\n",
    "fraud.days_till_signup = fraud.days_till_signup.dt.days\n",
    "fraud.head()"
   ]
  },
  {
   "cell_type": "code",
   "execution_count": 79,
   "id": "e7747736",
   "metadata": {},
   "outputs": [
    {
     "data": {
      "image/png": "[encoded data removed]",
      "text/plain": [
       "<Figure size 720x360 with 1 Axes>"
      ]
     },
     "metadata": {
      "needs_background": "light"
     },
     "output_type": "display_data"
    }
   ],
   "source": [
    "plt.figure(figsize=(10,5))\n",
    "plt.plot(fraud[[\"purchase_date\", \"is_fraud\"]].groupby([\"purchase_date\"]).mean());\n",
    "plt.title(\"Evolution du taux de fraude quotidien\");\n",
    "#On remarque que le jeu de données présente comme une \"cassure\" au mois de janvier\n",
    "#Le taux de fraude passe de 100% à 5%"
   ]
  },
  {
   "cell_type": "code",
   "execution_count": 80,
   "id": "7bda894d",
   "metadata": {},
   "outputs": [
    {
     "data": {
      "image/png": "[encoded data removed]",
      "text/plain": [
       "<Figure size 720x360 with 1 Axes>"
      ]
     },
     "metadata": {
      "needs_background": "light"
     },
     "output_type": "display_data"
    }
   ],
   "source": [
    "plt.figure(figsize=(10,5))\n",
    "plt.plot(fraud[[\"purchase_month\", \"is_fraud\"]].groupby([\"purchase_month\"]).mean());\n",
    "plt.title(\"Taux de fraude moyen selon le mois de l'année\");\n",
    "\n",
    "#Exception faite du mois de janvier, on constate uniquement une légère augmentation en décembre"
   ]
  },
  {
   "cell_type": "code",
   "execution_count": 81,
   "id": "d219ecd9",
   "metadata": {},
   "outputs": [
    {
     "data": {
      "text/plain": [
       "Text(0.5, 1.0, 'Taux de fraude moyen selon le jour de la semaine')"
      ]
     },
     "execution_count": 81,
     "metadata": {},
     "output_type": "execute_result"
    },
    {
     "data": {
      "image/png": "[encoded data removed]",
      "text/plain": [
       "<Figure size 720x360 with 1 Axes>"
      ]
     },
     "metadata": {
      "needs_background": "light"
     },
     "output_type": "display_data"
    }
   ],
   "source": [
    "plt.figure(figsize=(10,5))\n",
    "plt.plot([\"lun\", \"mar\", \"mer\", \"jeu\", \"ven\", \"sam\", \"dim\"], \n",
    "         fraud[[\"purchase_weekday\", \"is_fraud\"]].groupby([\"purchase_weekday\"]).mean()[\"is_fraud\"]);\n",
    "plt.title(\"Taux de fraude moyen selon le jour de la semaine\")\n",
    "\n",
    "#Il ne semble pas y avoir une grosse influence du jour de la semaine sur le taux de fraude"
   ]
  },
  {
   "cell_type": "code",
   "execution_count": 82,
   "id": "0d2a9c41",
   "metadata": {},
   "outputs": [
    {
     "data": {
      "image/png": "[encoded data removed]",
      "text/plain": [
       "<Figure size 720x360 with 1 Axes>"
      ]
     },
     "metadata": {
      "needs_background": "light"
     },
     "output_type": "display_data"
    }
   ],
   "source": [
    "plt.figure(figsize=(10,5))\n",
    "plt.plot(fraud[[\"purchase_hour\", \"is_fraud\"]].groupby([\"purchase_hour\"]).mean());\n",
    "plt.title(\"Taux de fraude moyen selon l'heure de la journée\");\n",
    "\n",
    "#Même constat pour l'heure"
   ]
  },
  {
   "cell_type": "code",
   "execution_count": 83,
   "id": "5d732f2d",
   "metadata": {},
   "outputs": [
    {
     "name": "stderr",
     "output_type": "stream",
     "text": [
      "/Users/francois/opt/anaconda3/lib/python3.9/site-packages/seaborn/_decorators.py:36: FutureWarning: Pass the following variable as a keyword arg: x. From version 0.12, the only valid positional argument will be `data`, and passing other arguments without an explicit keyword will result in an error or misinterpretation.\n",
      "  warnings.warn(\n"
     ]
    },
    {
     "data": {
      "text/plain": [
       "<AxesSubplot:xlabel='is_fraud', ylabel='count'>"
      ]
     },
     "execution_count": 83,
     "metadata": {},
     "output_type": "execute_result"
    },
    {
     "data": {
      "image/png": "[encoded data removed]",
      "text/plain": [
       "<Figure size 432x288 with 1 Axes>"
      ]
     },
     "metadata": {
      "needs_background": "light"
     },
     "output_type": "display_data"
    }
   ],
   "source": [
    "target = fraud[\"is_fraud\"]\n",
    "sns.countplot(target)\n",
    "\n",
    "#Le déséquilibre des données apparaît clairement, \n",
    "#nous allons employer des techniques visant à ré-équilibrer l'écart afin de ne pas avoir de biais dans nos prédictions"
   ]
  },
  {
   "cell_type": "markdown",
   "id": "db6865b3",
   "metadata": {},
   "source": [
    "# V. Data Preprocessing"
   ]
  },
  {
   "cell_type": "markdown",
   "id": "ed079ed2",
   "metadata": {},
   "source": [
    "## V.1. Preprocessing pour le premier modèle"
   ]
  },
  {
   "cell_type": "code",
   "execution_count": 84,
   "id": "d754dbc1",
   "metadata": {},
   "outputs": [],
   "source": [
    "# Choix des variables quantitatives\n",
    "data = fraud[[\"days_till_signup\", \"purchase_month\", \"purchase_day\", \"purchase_weekday\", \n",
    "              \"purchase_hour\", \"purchase_value\", \"age\"]]"
   ]
  },
  {
   "cell_type": "code",
   "execution_count": 85,
   "id": "8ecdbdbc",
   "metadata": {},
   "outputs": [],
   "source": [
    "# Choix et encodage des variables catégorielles\n",
    "data = data.join(pd.get_dummies(fraud[[\"source\", \"browser\"]], drop_first=True))\n",
    "data = data.join(fraud.sex.replace([\"M\", \"F\"], [0,1]))"
   ]
  },
  {
   "cell_type": "code",
   "execution_count": 86,
   "id": "e2fccf87",
   "metadata": {},
   "outputs": [
    {
     "data": {
      "text/html": [
       "<div>\n",
       "<style scoped>\n",
       "    .dataframe tbody tr th:only-of-type {\n",
       "        vertical-align: middle;\n",
       "    }\n",
       "\n",
       "    .dataframe tbody tr th {\n",
       "        vertical-align: top;\n",
       "    }\n",
       "\n",
       "    .dataframe thead th {\n",
       "        text-align: right;\n",
       "    }\n",
       "</style>\n",
       "<table border=\"1\" class=\"dataframe\">\n",
       "  <thead>\n",
       "    <tr style=\"text-align: right;\">\n",
       "      <th></th>\n",
       "      <th>days_till_signup</th>\n",
       "      <th>purchase_month</th>\n",
       "      <th>purchase_day</th>\n",
       "      <th>purchase_weekday</th>\n",
       "      <th>purchase_hour</th>\n",
       "      <th>purchase_value</th>\n",
       "      <th>age</th>\n",
       "      <th>source_Direct</th>\n",
       "      <th>source_SEO</th>\n",
       "      <th>browser_FireFox</th>\n",
       "      <th>browser_IE</th>\n",
       "      <th>browser_Opera</th>\n",
       "      <th>browser_Safari</th>\n",
       "      <th>sex</th>\n",
       "    </tr>\n",
       "  </thead>\n",
       "  <tbody>\n",
       "    <tr>\n",
       "      <th>0</th>\n",
       "      <td>53</td>\n",
       "      <td>4</td>\n",
       "      <td>18</td>\n",
       "      <td>5</td>\n",
       "      <td>2</td>\n",
       "      <td>34</td>\n",
       "      <td>39</td>\n",
       "      <td>0</td>\n",
       "      <td>1</td>\n",
       "      <td>0</td>\n",
       "      <td>0</td>\n",
       "      <td>0</td>\n",
       "      <td>0</td>\n",
       "      <td>0</td>\n",
       "    </tr>\n",
       "    <tr>\n",
       "      <th>1</th>\n",
       "      <td>1</td>\n",
       "      <td>6</td>\n",
       "      <td>8</td>\n",
       "      <td>0</td>\n",
       "      <td>1</td>\n",
       "      <td>16</td>\n",
       "      <td>53</td>\n",
       "      <td>0</td>\n",
       "      <td>0</td>\n",
       "      <td>0</td>\n",
       "      <td>0</td>\n",
       "      <td>0</td>\n",
       "      <td>0</td>\n",
       "      <td>1</td>\n",
       "    </tr>\n",
       "    <tr>\n",
       "      <th>2</th>\n",
       "      <td>0</td>\n",
       "      <td>1</td>\n",
       "      <td>1</td>\n",
       "      <td>3</td>\n",
       "      <td>18</td>\n",
       "      <td>15</td>\n",
       "      <td>53</td>\n",
       "      <td>0</td>\n",
       "      <td>1</td>\n",
       "      <td>0</td>\n",
       "      <td>0</td>\n",
       "      <td>1</td>\n",
       "      <td>0</td>\n",
       "      <td>0</td>\n",
       "    </tr>\n",
       "    <tr>\n",
       "      <th>3</th>\n",
       "      <td>6</td>\n",
       "      <td>5</td>\n",
       "      <td>4</td>\n",
       "      <td>0</td>\n",
       "      <td>13</td>\n",
       "      <td>44</td>\n",
       "      <td>41</td>\n",
       "      <td>0</td>\n",
       "      <td>1</td>\n",
       "      <td>0</td>\n",
       "      <td>0</td>\n",
       "      <td>0</td>\n",
       "      <td>1</td>\n",
       "      <td>0</td>\n",
       "    </tr>\n",
       "    <tr>\n",
       "      <th>4</th>\n",
       "      <td>50</td>\n",
       "      <td>9</td>\n",
       "      <td>9</td>\n",
       "      <td>2</td>\n",
       "      <td>18</td>\n",
       "      <td>39</td>\n",
       "      <td>45</td>\n",
       "      <td>0</td>\n",
       "      <td>0</td>\n",
       "      <td>0</td>\n",
       "      <td>0</td>\n",
       "      <td>0</td>\n",
       "      <td>1</td>\n",
       "      <td>0</td>\n",
       "    </tr>\n",
       "  </tbody>\n",
       "</table>\n",
       "</div>"
      ],
      "text/plain": [
       "   days_till_signup  purchase_month  purchase_day  purchase_weekday  \\\n",
       "0                53               4            18                 5   \n",
       "1                 1               6             8                 0   \n",
       "2                 0               1             1                 3   \n",
       "3                 6               5             4                 0   \n",
       "4                50               9             9                 2   \n",
       "\n",
       "   purchase_hour  purchase_value  age  source_Direct  source_SEO  \\\n",
       "0              2              34   39              0           1   \n",
       "1              1              16   53              0           0   \n",
       "2             18              15   53              0           1   \n",
       "3             13              44   41              0           1   \n",
       "4             18              39   45              0           0   \n",
       "\n",
       "   browser_FireFox  browser_IE  browser_Opera  browser_Safari  sex  \n",
       "0                0           0              0               0    0  \n",
       "1                0           0              0               0    1  \n",
       "2                0           0              1               0    0  \n",
       "3                0           0              0               1    0  \n",
       "4                0           0              0               1    0  "
      ]
     },
     "execution_count": 86,
     "metadata": {},
     "output_type": "execute_result"
    }
   ],
   "source": [
    "data.head()"
   ]
  },
  {
   "cell_type": "code",
   "execution_count": 87,
   "id": "1c5a9a12",
   "metadata": {},
   "outputs": [],
   "source": [
    "# Définition de la variable cible\n",
    "target = fraud.is_fraud"
   ]
  },
  {
   "cell_type": "markdown",
   "id": "56d070e3",
   "metadata": {},
   "source": [
    "## V.2. Preprocessing pour le second modèle"
   ]
  },
  {
   "cell_type": "code",
   "execution_count": 89,
   "id": "8a17fe3a",
   "metadata": {},
   "outputs": [],
   "source": [
    "def process_df(original_df):\n",
    "    df = original_df.copy()\n",
    "    df = df.drop(columns=['device_id','source','browser',\n",
    "                             'sex','ip_address'])\n",
    "    df['delay_signup_purchase'] = (df['signup_time'] - df['purchase_time']).dt.seconds\n",
    "    for col_prefix in ['signup', 'purchase']:\n",
    "        df[f'{col_prefix}_year'] = df[f'{col_prefix}_time'].dt.year\n",
    "        df[f'{col_prefix}_month'] = df[f'{col_prefix}_time'].dt.month\n",
    "        df[f'{col_prefix}_weekday'] = df[f'{col_prefix}_time'].dt.weekday\n",
    "        df[f'cos_{col_prefix}_month'] = np.cos(2.*np.pi*df[f'{col_prefix}_month']/12.)\n",
    "        df[f'sin_{col_prefix}_month'] = np.sin(2.*np.pi*df[f'{col_prefix}_month']/12.)\n",
    "        df[f'{col_prefix}_hour'] = df[f'{col_prefix}_time'].dt.hour\n",
    "        df[f'cos_{col_prefix}_hour'] = np.cos(2.*np.pi*df[f'{col_prefix}_hour']/24.)\n",
    "        df[f'sin_{col_prefix}_hour'] = np.sin(2.*np.pi*df[f'{col_prefix}_hour']/24.)\n",
    "        df[f'{col_prefix}_minute'] = df[f'{col_prefix}_time'].dt.minute\n",
    "        df[f'cos_{col_prefix}_minute'] = np.cos(2.*np.pi*df[f'{col_prefix}_minute']/60.)\n",
    "        df[f'sin_{col_prefix}_minute'] = np.sin(2.*np.pi*df[f'{col_prefix}_minute']/60.)\n",
    "        df[f'{col_prefix}_int_value'] = df[f'{col_prefix}_time'].apply(lambda x: x.value)\n",
    "        df = df.drop(columns=[f'{col_prefix}_time'])\n",
    "    return df"
   ]
  },
  {
   "cell_type": "code",
   "execution_count": 90,
   "id": "b0cb695e",
   "metadata": {},
   "outputs": [],
   "source": [
    "processed_balanced_fraud_df = process_df(fraud_df)"
   ]
  },
  {
   "cell_type": "code",
   "execution_count": 91,
   "id": "94b092f9",
   "metadata": {},
   "outputs": [
    {
     "data": {
      "text/html": [
       "<div>\n",
       "<style scoped>\n",
       "    .dataframe tbody tr th:only-of-type {\n",
       "        vertical-align: middle;\n",
       "    }\n",
       "\n",
       "    .dataframe tbody tr th {\n",
       "        vertical-align: top;\n",
       "    }\n",
       "\n",
       "    .dataframe thead th {\n",
       "        text-align: right;\n",
       "    }\n",
       "</style>\n",
       "<table border=\"1\" class=\"dataframe\">\n",
       "  <thead>\n",
       "    <tr style=\"text-align: right;\">\n",
       "      <th></th>\n",
       "      <th>user_id</th>\n",
       "      <th>purchase_value</th>\n",
       "      <th>age</th>\n",
       "      <th>is_fraud</th>\n",
       "      <th>delay_signup_purchase</th>\n",
       "      <th>signup_year</th>\n",
       "      <th>signup_month</th>\n",
       "      <th>signup_weekday</th>\n",
       "      <th>cos_signup_month</th>\n",
       "      <th>sin_signup_month</th>\n",
       "      <th>...</th>\n",
       "      <th>purchase_weekday</th>\n",
       "      <th>cos_purchase_month</th>\n",
       "      <th>sin_purchase_month</th>\n",
       "      <th>purchase_hour</th>\n",
       "      <th>cos_purchase_hour</th>\n",
       "      <th>sin_purchase_hour</th>\n",
       "      <th>purchase_minute</th>\n",
       "      <th>cos_purchase_minute</th>\n",
       "      <th>sin_purchase_minute</th>\n",
       "      <th>purchase_int_value</th>\n",
       "    </tr>\n",
       "  </thead>\n",
       "  <tbody>\n",
       "    <tr>\n",
       "      <th>0</th>\n",
       "      <td>22058</td>\n",
       "      <td>34</td>\n",
       "      <td>39</td>\n",
       "      <td>0</td>\n",
       "      <td>72518</td>\n",
       "      <td>2015</td>\n",
       "      <td>2</td>\n",
       "      <td>1</td>\n",
       "      <td>0.500000</td>\n",
       "      <td>8.660254e-01</td>\n",
       "      <td>...</td>\n",
       "      <td>5</td>\n",
       "      <td>-5.000000e-01</td>\n",
       "      <td>8.660254e-01</td>\n",
       "      <td>2</td>\n",
       "      <td>8.660254e-01</td>\n",
       "      <td>0.500000</td>\n",
       "      <td>47</td>\n",
       "      <td>0.207912</td>\n",
       "      <td>-0.978148</td>\n",
       "      <td>1429325231000000000</td>\n",
       "    </tr>\n",
       "    <tr>\n",
       "      <th>1</th>\n",
       "      <td>333320</td>\n",
       "      <td>16</td>\n",
       "      <td>53</td>\n",
       "      <td>0</td>\n",
       "      <td>68456</td>\n",
       "      <td>2015</td>\n",
       "      <td>6</td>\n",
       "      <td>6</td>\n",
       "      <td>-1.000000</td>\n",
       "      <td>1.224647e-16</td>\n",
       "      <td>...</td>\n",
       "      <td>0</td>\n",
       "      <td>-1.000000e+00</td>\n",
       "      <td>1.224647e-16</td>\n",
       "      <td>1</td>\n",
       "      <td>9.659258e-01</td>\n",
       "      <td>0.258819</td>\n",
       "      <td>38</td>\n",
       "      <td>-0.669131</td>\n",
       "      <td>-0.743145</td>\n",
       "      <td>1433727534000000000</td>\n",
       "    </tr>\n",
       "    <tr>\n",
       "      <th>2</th>\n",
       "      <td>1359</td>\n",
       "      <td>15</td>\n",
       "      <td>53</td>\n",
       "      <td>1</td>\n",
       "      <td>86399</td>\n",
       "      <td>2015</td>\n",
       "      <td>1</td>\n",
       "      <td>3</td>\n",
       "      <td>0.866025</td>\n",
       "      <td>5.000000e-01</td>\n",
       "      <td>...</td>\n",
       "      <td>3</td>\n",
       "      <td>8.660254e-01</td>\n",
       "      <td>5.000000e-01</td>\n",
       "      <td>18</td>\n",
       "      <td>-1.836970e-16</td>\n",
       "      <td>-1.000000</td>\n",
       "      <td>52</td>\n",
       "      <td>0.669131</td>\n",
       "      <td>-0.743145</td>\n",
       "      <td>1420138365000000000</td>\n",
       "    </tr>\n",
       "    <tr>\n",
       "      <th>3</th>\n",
       "      <td>150084</td>\n",
       "      <td>44</td>\n",
       "      <td>41</td>\n",
       "      <td>0</td>\n",
       "      <td>26315</td>\n",
       "      <td>2015</td>\n",
       "      <td>4</td>\n",
       "      <td>1</td>\n",
       "      <td>-0.500000</td>\n",
       "      <td>8.660254e-01</td>\n",
       "      <td>...</td>\n",
       "      <td>0</td>\n",
       "      <td>-8.660254e-01</td>\n",
       "      <td>5.000000e-01</td>\n",
       "      <td>13</td>\n",
       "      <td>-9.659258e-01</td>\n",
       "      <td>-0.258819</td>\n",
       "      <td>54</td>\n",
       "      <td>0.809017</td>\n",
       "      <td>-0.587785</td>\n",
       "      <td>1430747690000000000</td>\n",
       "    </tr>\n",
       "    <tr>\n",
       "      <th>4</th>\n",
       "      <td>221365</td>\n",
       "      <td>39</td>\n",
       "      <td>45</td>\n",
       "      <td>0</td>\n",
       "      <td>44939</td>\n",
       "      <td>2015</td>\n",
       "      <td>7</td>\n",
       "      <td>1</td>\n",
       "      <td>-0.866025</td>\n",
       "      <td>-5.000000e-01</td>\n",
       "      <td>...</td>\n",
       "      <td>2</td>\n",
       "      <td>-1.836970e-16</td>\n",
       "      <td>-1.000000e+00</td>\n",
       "      <td>18</td>\n",
       "      <td>-1.836970e-16</td>\n",
       "      <td>-1.000000</td>\n",
       "      <td>40</td>\n",
       "      <td>-0.500000</td>\n",
       "      <td>-0.866025</td>\n",
       "      <td>1441824053000000000</td>\n",
       "    </tr>\n",
       "  </tbody>\n",
       "</table>\n",
       "<p>5 rows × 29 columns</p>\n",
       "</div>"
      ],
      "text/plain": [
       "   user_id  purchase_value  age  is_fraud  delay_signup_purchase  signup_year  \\\n",
       "0    22058              34   39         0                  72518         2015   \n",
       "1   333320              16   53         0                  68456         2015   \n",
       "2     1359              15   53         1                  86399         2015   \n",
       "3   150084              44   41         0                  26315         2015   \n",
       "4   221365              39   45         0                  44939         2015   \n",
       "\n",
       "   signup_month  signup_weekday  cos_signup_month  sin_signup_month  ...  \\\n",
       "0             2               1          0.500000      8.660254e-01  ...   \n",
       "1             6               6         -1.000000      1.224647e-16  ...   \n",
       "2             1               3          0.866025      5.000000e-01  ...   \n",
       "3             4               1         -0.500000      8.660254e-01  ...   \n",
       "4             7               1         -0.866025     -5.000000e-01  ...   \n",
       "\n",
       "   purchase_weekday  cos_purchase_month  sin_purchase_month  purchase_hour  \\\n",
       "0                 5       -5.000000e-01        8.660254e-01              2   \n",
       "1                 0       -1.000000e+00        1.224647e-16              1   \n",
       "2                 3        8.660254e-01        5.000000e-01             18   \n",
       "3                 0       -8.660254e-01        5.000000e-01             13   \n",
       "4                 2       -1.836970e-16       -1.000000e+00             18   \n",
       "\n",
       "   cos_purchase_hour  sin_purchase_hour  purchase_minute  cos_purchase_minute  \\\n",
       "0       8.660254e-01           0.500000               47             0.207912   \n",
       "1       9.659258e-01           0.258819               38            -0.669131   \n",
       "2      -1.836970e-16          -1.000000               52             0.669131   \n",
       "3      -9.659258e-01          -0.258819               54             0.809017   \n",
       "4      -1.836970e-16          -1.000000               40            -0.500000   \n",
       "\n",
       "   sin_purchase_minute   purchase_int_value  \n",
       "0            -0.978148  1429325231000000000  \n",
       "1            -0.743145  1433727534000000000  \n",
       "2            -0.743145  1420138365000000000  \n",
       "3            -0.587785  1430747690000000000  \n",
       "4            -0.866025  1441824053000000000  \n",
       "\n",
       "[5 rows x 29 columns]"
      ]
     },
     "execution_count": 91,
     "metadata": {},
     "output_type": "execute_result"
    }
   ],
   "source": [
    "processed_balanced_fraud_df.head()"
   ]
  },
  {
   "cell_type": "markdown",
   "id": "f73f8585",
   "metadata": {},
   "source": [
    "# VI. Modélisation"
   ]
  },
  {
   "cell_type": "markdown",
   "id": "044b37fb",
   "metadata": {},
   "source": [
    "## VI.1. Modélisation avec RandomForestClassifier"
   ]
  },
  {
   "cell_type": "code",
   "execution_count": 59,
   "id": "9778e5f8",
   "metadata": {},
   "outputs": [],
   "source": [
    "# Séparation en jeu d'entrainement et de test.\n",
    "X_train, X_test, y_train, y_test = train_test_split(data, target, test_size=0.3, random_state=50)"
   ]
  },
  {
   "cell_type": "code",
   "execution_count": 60,
   "id": "330f9e63",
   "metadata": {},
   "outputs": [],
   "source": [
    "scaler = preprocessing.MinMaxScaler()\n",
    "X_train = scaler.fit_transform(X_train)\n",
    "X_test = scaler.transform(X_test)"
   ]
  },
  {
   "cell_type": "code",
   "execution_count": 61,
   "id": "a7b4f4fe",
   "metadata": {},
   "outputs": [
    {
     "data": {
      "text/plain": [
       "RandomForestClassifier(random_state=321)"
      ]
     },
     "execution_count": 61,
     "metadata": {},
     "output_type": "execute_result"
    }
   ],
   "source": [
    "from sklearn import ensemble\n",
    "clf = ensemble.RandomForestClassifier(random_state=321)\n",
    "clf.fit(X_train, y_train)"
   ]
  },
  {
   "cell_type": "code",
   "execution_count": 62,
   "id": "6a3eba10",
   "metadata": {},
   "outputs": [
    {
     "data": {
      "text/html": [
       "<div>\n",
       "<style scoped>\n",
       "    .dataframe tbody tr th:only-of-type {\n",
       "        vertical-align: middle;\n",
       "    }\n",
       "\n",
       "    .dataframe tbody tr th {\n",
       "        vertical-align: top;\n",
       "    }\n",
       "\n",
       "    .dataframe thead th {\n",
       "        text-align: right;\n",
       "    }\n",
       "</style>\n",
       "<table border=\"1\" class=\"dataframe\">\n",
       "  <thead>\n",
       "    <tr style=\"text-align: right;\">\n",
       "      <th>prédites</th>\n",
       "      <th>0</th>\n",
       "      <th>1</th>\n",
       "    </tr>\n",
       "    <tr>\n",
       "      <th>réelles</th>\n",
       "      <th></th>\n",
       "      <th></th>\n",
       "    </tr>\n",
       "  </thead>\n",
       "  <tbody>\n",
       "    <tr>\n",
       "      <th>0</th>\n",
       "      <td>41022</td>\n",
       "      <td>9</td>\n",
       "    </tr>\n",
       "    <tr>\n",
       "      <th>1</th>\n",
       "      <td>1964</td>\n",
       "      <td>2339</td>\n",
       "    </tr>\n",
       "  </tbody>\n",
       "</table>\n",
       "</div>"
      ],
      "text/plain": [
       "prédites      0     1\n",
       "réelles              \n",
       "0         41022     9\n",
       "1          1964  2339"
      ]
     },
     "execution_count": 62,
     "metadata": {},
     "output_type": "execute_result"
    }
   ],
   "source": [
    "y_pred = clf.predict(X_test)\n",
    "pd.crosstab(y_test, y_pred, rownames=[\"réelles\"], colnames=[\"prédites\"])"
   ]
  },
  {
   "cell_type": "code",
   "execution_count": 63,
   "id": "20ab3c7c",
   "metadata": {},
   "outputs": [
    {
     "data": {
      "text/plain": [
       "0.9564785811973353"
      ]
     },
     "execution_count": 63,
     "metadata": {},
     "output_type": "execute_result"
    }
   ],
   "source": [
    "clf.score(X_test, y_test)"
   ]
  },
  {
   "cell_type": "code",
   "execution_count": 64,
   "id": "eec044e9",
   "metadata": {},
   "outputs": [
    {
     "name": "stdout",
     "output_type": "stream",
     "text": [
      "                   pre       rec       spe        f1       geo       iba       sup\n",
      "\n",
      "          0       0.95      1.00      0.54      0.98      0.74      0.57     41031\n",
      "          1       1.00      0.54      1.00      0.70      0.74      0.52      4303\n",
      "\n",
      "avg / total       0.96      0.96      0.59      0.95      0.74      0.56     45334\n",
      "\n"
     ]
    }
   ],
   "source": [
    "print(classification_report_imbalanced(y_test, y_pred))"
   ]
  },
  {
   "cell_type": "code",
   "execution_count": null,
   "id": "fc912281",
   "metadata": {},
   "outputs": [],
   "source": [
    "#Fonction pour reproduction du preprocessing plus tard dans l'API\n",
    "\n",
    "def process_first_model(original_df):\n",
    "    df = original_df.copy()\n",
    "    df[\"purchase_date\"] = df.purchase_time.dt.date\n",
    "    df[\"purchase_hour\"] = df.purchase_time.dt.hour\n",
    "    df[\"purchase_weekday\"] = df.purchase_time.dt.weekday\n",
    "    df[\"purchase_month\"] = df.purchase_time.dt.month\n",
    "    df[\"purchase_day\"] = df.purchase_time.dt.day\n",
    "    df[\"signup_date\"] = df.signup_time.dt.date\n",
    "    df[\"days_till_signup\"] = df.purchase_date - df.signup_date\n",
    "    df.days_till_signup = df.days_till_signup.dt.days\n",
    "    df = df[[\"days_till_signup\", \"purchase_month\", \"purchase_day\", \"purchase_weekday\", \n",
    "              \"purchase_hour\", \"purchase_value\", \"age\"]]\n",
    "    df = df.join(pd.get_dummies(original_df[[\"source\", \"browser\"]], drop_first=True))\n",
    "    df = df.join(original_df.sex.replace([\"M\", \"F\"], [0,1]))\n",
    "    \n",
    "    return df"
   ]
  },
  {
   "cell_type": "markdown",
   "id": "f1ca54d8",
   "metadata": {},
   "source": [
    "## VI.2. Modélisation avec lightgbm et oversampling"
   ]
  },
  {
   "cell_type": "code",
   "execution_count": 92,
   "id": "ae69517d",
   "metadata": {},
   "outputs": [],
   "source": [
    "x_df_unb = processed_balanced_fraud_df.loc[:, processed_balanced_fraud_df.columns != 'is_fraud'].reset_index(drop=True)\n",
    "y_df_unb = processed_balanced_fraud_df[['is_fraud']]\n",
    "ros = RandomOverSampler(random_state=SEED)\n",
    "x_df, y_df = ros.fit_resample(x_df_unb, y_df_unb)"
   ]
  },
  {
   "cell_type": "code",
   "execution_count": 93,
   "id": "58ad9b2f",
   "metadata": {},
   "outputs": [
    {
     "data": {
      "text/html": [
       "<div>\n",
       "<style scoped>\n",
       "    .dataframe tbody tr th:only-of-type {\n",
       "        vertical-align: middle;\n",
       "    }\n",
       "\n",
       "    .dataframe tbody tr th {\n",
       "        vertical-align: top;\n",
       "    }\n",
       "\n",
       "    .dataframe thead th {\n",
       "        text-align: right;\n",
       "    }\n",
       "</style>\n",
       "<table border=\"1\" class=\"dataframe\">\n",
       "  <thead>\n",
       "    <tr style=\"text-align: right;\">\n",
       "      <th></th>\n",
       "      <th>user_id</th>\n",
       "      <th>purchase_value</th>\n",
       "      <th>age</th>\n",
       "      <th>delay_signup_purchase</th>\n",
       "      <th>signup_year</th>\n",
       "      <th>signup_month</th>\n",
       "      <th>signup_weekday</th>\n",
       "      <th>cos_signup_month</th>\n",
       "      <th>sin_signup_month</th>\n",
       "      <th>signup_hour</th>\n",
       "      <th>...</th>\n",
       "      <th>purchase_weekday</th>\n",
       "      <th>cos_purchase_month</th>\n",
       "      <th>sin_purchase_month</th>\n",
       "      <th>purchase_hour</th>\n",
       "      <th>cos_purchase_hour</th>\n",
       "      <th>sin_purchase_hour</th>\n",
       "      <th>purchase_minute</th>\n",
       "      <th>cos_purchase_minute</th>\n",
       "      <th>sin_purchase_minute</th>\n",
       "      <th>purchase_int_value</th>\n",
       "    </tr>\n",
       "  </thead>\n",
       "  <tbody>\n",
       "    <tr>\n",
       "      <th>0</th>\n",
       "      <td>22058</td>\n",
       "      <td>34</td>\n",
       "      <td>39</td>\n",
       "      <td>72518</td>\n",
       "      <td>2015</td>\n",
       "      <td>2</td>\n",
       "      <td>1</td>\n",
       "      <td>0.500000</td>\n",
       "      <td>8.660254e-01</td>\n",
       "      <td>22</td>\n",
       "      <td>...</td>\n",
       "      <td>5</td>\n",
       "      <td>-0.500000</td>\n",
       "      <td>8.660254e-01</td>\n",
       "      <td>2</td>\n",
       "      <td>8.660254e-01</td>\n",
       "      <td>0.500000</td>\n",
       "      <td>47</td>\n",
       "      <td>0.207912</td>\n",
       "      <td>-0.978148</td>\n",
       "      <td>1429325231000000000</td>\n",
       "    </tr>\n",
       "    <tr>\n",
       "      <th>1</th>\n",
       "      <td>333320</td>\n",
       "      <td>16</td>\n",
       "      <td>53</td>\n",
       "      <td>68456</td>\n",
       "      <td>2015</td>\n",
       "      <td>6</td>\n",
       "      <td>6</td>\n",
       "      <td>-1.000000</td>\n",
       "      <td>1.224647e-16</td>\n",
       "      <td>20</td>\n",
       "      <td>...</td>\n",
       "      <td>0</td>\n",
       "      <td>-1.000000</td>\n",
       "      <td>1.224647e-16</td>\n",
       "      <td>1</td>\n",
       "      <td>9.659258e-01</td>\n",
       "      <td>0.258819</td>\n",
       "      <td>38</td>\n",
       "      <td>-0.669131</td>\n",
       "      <td>-0.743145</td>\n",
       "      <td>1433727534000000000</td>\n",
       "    </tr>\n",
       "    <tr>\n",
       "      <th>2</th>\n",
       "      <td>1359</td>\n",
       "      <td>15</td>\n",
       "      <td>53</td>\n",
       "      <td>86399</td>\n",
       "      <td>2015</td>\n",
       "      <td>1</td>\n",
       "      <td>3</td>\n",
       "      <td>0.866025</td>\n",
       "      <td>5.000000e-01</td>\n",
       "      <td>18</td>\n",
       "      <td>...</td>\n",
       "      <td>3</td>\n",
       "      <td>0.866025</td>\n",
       "      <td>5.000000e-01</td>\n",
       "      <td>18</td>\n",
       "      <td>-1.836970e-16</td>\n",
       "      <td>-1.000000</td>\n",
       "      <td>52</td>\n",
       "      <td>0.669131</td>\n",
       "      <td>-0.743145</td>\n",
       "      <td>1420138365000000000</td>\n",
       "    </tr>\n",
       "  </tbody>\n",
       "</table>\n",
       "<p>3 rows × 28 columns</p>\n",
       "</div>"
      ],
      "text/plain": [
       "   user_id  purchase_value  age  delay_signup_purchase  signup_year  \\\n",
       "0    22058              34   39                  72518         2015   \n",
       "1   333320              16   53                  68456         2015   \n",
       "2     1359              15   53                  86399         2015   \n",
       "\n",
       "   signup_month  signup_weekday  cos_signup_month  sin_signup_month  \\\n",
       "0             2               1          0.500000      8.660254e-01   \n",
       "1             6               6         -1.000000      1.224647e-16   \n",
       "2             1               3          0.866025      5.000000e-01   \n",
       "\n",
       "   signup_hour  ...  purchase_weekday  cos_purchase_month  sin_purchase_month  \\\n",
       "0           22  ...                 5           -0.500000        8.660254e-01   \n",
       "1           20  ...                 0           -1.000000        1.224647e-16   \n",
       "2           18  ...                 3            0.866025        5.000000e-01   \n",
       "\n",
       "   purchase_hour  cos_purchase_hour  sin_purchase_hour  purchase_minute  \\\n",
       "0              2       8.660254e-01           0.500000               47   \n",
       "1              1       9.659258e-01           0.258819               38   \n",
       "2             18      -1.836970e-16          -1.000000               52   \n",
       "\n",
       "   cos_purchase_minute  sin_purchase_minute   purchase_int_value  \n",
       "0             0.207912            -0.978148  1429325231000000000  \n",
       "1            -0.669131            -0.743145  1433727534000000000  \n",
       "2             0.669131            -0.743145  1420138365000000000  \n",
       "\n",
       "[3 rows x 28 columns]"
      ]
     },
     "execution_count": 93,
     "metadata": {},
     "output_type": "execute_result"
    }
   ],
   "source": [
    "x_df.head(3)"
   ]
  },
  {
   "cell_type": "code",
   "execution_count": 94,
   "id": "dc58f5fb",
   "metadata": {},
   "outputs": [],
   "source": [
    "gs = GroupShuffleSplit(n_splits=1, train_size=.8, random_state=SEED)"
   ]
  },
  {
   "cell_type": "code",
   "execution_count": 95,
   "id": "46f2a33c",
   "metadata": {},
   "outputs": [],
   "source": [
    "train_indexes, test_indexes = next(gs.split(x_df, y_df, groups=x_df.user_id))\n",
    "\n",
    "x_train = x_df.iloc[train_indexes]\n",
    "y_train = y_df.iloc[train_indexes]\n",
    "\n",
    "x_test = x_df.iloc[test_indexes]\n",
    "y_test = y_df.iloc[test_indexes]\n",
    "\n",
    "x_train = x_train.drop(columns=['user_id'])\n",
    "x_test = x_test.drop(columns=['user_id'])"
   ]
  },
  {
   "cell_type": "code",
   "execution_count": 96,
   "id": "7dc4f375",
   "metadata": {},
   "outputs": [
    {
     "name": "stdout",
     "output_type": "stream",
     "text": [
      "Fitting 5 folds for each of 10 candidates, totalling 50 fits\n"
     ]
    },
    {
     "data": {
      "text/plain": [
       "RandomizedSearchCV(cv=5, estimator=LGBMClassifier(), n_jobs=-1,\n",
       "                   param_distributions={'colsample_bytree': array([0.8, 0.9]),\n",
       "                                        'max_depth': [2, 4, 6],\n",
       "                                        'min_child_weight': [0.001, 0.01, 0.1,\n",
       "                                                             1, 2],\n",
       "                                        'reg_alpha': [0.001, 0.005, 0.0005],\n",
       "                                        'reg_lambda': [0.001, 0.005, 0.0005],\n",
       "                                        'subsample': array([0.75, 0.76, 0.77, 0.78, 0.79, 0.8 , 0.81, 0.82, 0.83, 0.84, 0.85,\n",
       "       0.86, 0.87, 0.88, 0.89, 0.9 ])},\n",
       "                   verbose=1)"
      ]
     },
     "execution_count": 96,
     "metadata": {},
     "output_type": "execute_result"
    }
   ],
   "source": [
    "#Entraînement avec recherche par validation croisée afin d'obtenir un modèle optimisé\n",
    "#qui servira à extraire les features les plus importantes avec RFE\n",
    "clf = lgb.LGBMClassifier()\n",
    "\n",
    "#Liste des paramètres et de leurs valeurs possibles\n",
    "param_dist = { 'max_depth':[2, 4, 6],  \n",
    "               'min_child_weight':[0.001, 0.01, 0.1, 1, 2],\n",
    "               'subsample':np.arange(0.75, 0.90, 0.01),\n",
    "               'colsample_bytree': np.arange(0.80, 1, 0.1), \n",
    "               'reg_alpha':[.001, .005, .0005],\n",
    "               'reg_lambda':[.001, .005, .0005],\n",
    "                    }\n",
    "\n",
    "grid = RandomizedSearchCV(clf, param_dist, verbose=1, cv=5, n_jobs = -1, n_iter=10)\n",
    "grid.fit(x_train, y_train.values.ravel())"
   ]
  },
  {
   "cell_type": "code",
   "execution_count": 97,
   "id": "08dfe3b8",
   "metadata": {},
   "outputs": [],
   "source": [
    "optimized_model = lgb.LGBMClassifier(**grid.best_params_)\n",
    "\n",
    "#Ce modèle optimisé va servir de base à la sélection des features"
   ]
  },
  {
   "cell_type": "code",
   "execution_count": 98,
   "id": "bc72d649",
   "metadata": {},
   "outputs": [],
   "source": [
    "#Sélection des variables à partir du modèle obtenu précédemment\n",
    "selector = RFE(optimized_model, step=1)\n",
    "selector = selector.fit(x_train, y_train.values.ravel())"
   ]
  },
  {
   "cell_type": "code",
   "execution_count": 99,
   "id": "9632db55",
   "metadata": {},
   "outputs": [
    {
     "data": {
      "text/plain": [
       "Index(['purchase_value', 'age', 'delay_signup_purchase', 'signup_hour',\n",
       "       'signup_minute', 'cos_signup_minute', 'sin_signup_minute',\n",
       "       'signup_int_value', 'purchase_hour', 'sin_purchase_hour',\n",
       "       'purchase_minute', 'cos_purchase_minute', 'purchase_int_value'],\n",
       "      dtype='object')"
      ]
     },
     "execution_count": 99,
     "metadata": {},
     "output_type": "execute_result"
    }
   ],
   "source": [
    "cols_to_keep = x_train.loc[:, selector.support_].columns\n",
    "cols_to_keep"
   ]
  },
  {
   "cell_type": "code",
   "execution_count": 100,
   "id": "27476021",
   "metadata": {},
   "outputs": [
    {
     "data": {
      "text/plain": [
       "LGBMClassifier(colsample_bytree=0.9, max_depth=6, min_child_weight=0.01,\n",
       "               reg_alpha=0.005, reg_lambda=0.001, subsample=0.8800000000000001)"
      ]
     },
     "execution_count": 100,
     "metadata": {},
     "output_type": "execute_result"
    }
   ],
   "source": [
    "#On ré-entraîne le modèle uniquement avec les features issues de la sélection RFE\n",
    "\n",
    "more_optimized_model = lgb.LGBMClassifier(**grid.best_params_)\n",
    "more_optimized_model.fit(x_train[cols_to_keep], y_train.values.ravel())"
   ]
  },
  {
   "cell_type": "code",
   "execution_count": 101,
   "id": "218e13c1",
   "metadata": {},
   "outputs": [
    {
     "data": {
      "text/plain": [
       "<AxesSubplot:title={'center':'Feature importance'}, xlabel='Feature importance', ylabel='Features'>"
      ]
     },
     "execution_count": 101,
     "metadata": {},
     "output_type": "execute_result"
    },
    {
     "data": {
      "image/png": "[encoded data removed]",
      "text/plain": [
       "<Figure size 432x288 with 1 Axes>"
      ]
     },
     "metadata": {
      "needs_background": "light"
     },
     "output_type": "display_data"
    }
   ],
   "source": [
    "#Identification de l'importance des variables \n",
    "\n",
    "lgb.plot_importance(more_optimized_model)"
   ]
  },
  {
   "cell_type": "code",
   "execution_count": 102,
   "id": "9a056b96",
   "metadata": {},
   "outputs": [
    {
     "data": {
      "text/plain": [
       "<AxesSubplot:title={'center':'Feature importance'}, xlabel='Feature importance', ylabel='Features'>"
      ]
     },
     "execution_count": 102,
     "metadata": {},
     "output_type": "execute_result"
    },
    {
     "data": {
      "image/png": "[encoded data removed]",
      "text/plain": [
       "<Figure size 432x288 with 1 Axes>"
      ]
     },
     "metadata": {
      "needs_background": "light"
     },
     "output_type": "display_data"
    }
   ],
   "source": [
    "lgb.plot_importance(more_optimized_model, importance_type=\"gain\")"
   ]
  },
  {
   "cell_type": "code",
   "execution_count": null,
   "id": "8f219be2",
   "metadata": {},
   "outputs": [],
   "source": [
    "#Le temps écoulé entre la souscription et la transaction est la feature la plus importante\n",
    "#Vient ensuite la valeur de la transaction"
   ]
  },
  {
   "cell_type": "code",
   "execution_count": 103,
   "id": "90b61d31",
   "metadata": {},
   "outputs": [
    {
     "name": "stdout",
     "output_type": "stream",
     "text": [
      "Fitting 5 folds for each of 10 candidates, totalling 50 fits\n"
     ]
    },
    {
     "data": {
      "text/plain": [
       "RandomizedSearchCV(cv=5, estimator=LGBMClassifier(), n_jobs=-1,\n",
       "                   param_distributions={'colsample_bytree': array([0.8, 0.9]),\n",
       "                                        'max_depth': [2, 4, 6],\n",
       "                                        'min_child_weight': [0.001, 0.01, 0.1,\n",
       "                                                             1, 2],\n",
       "                                        'reg_alpha': [0.001, 0.005, 0.0005],\n",
       "                                        'reg_lambda': [0.001, 0.005, 0.0005],\n",
       "                                        'subsample': array([0.75, 0.76, 0.77, 0.78, 0.79, 0.8 , 0.81, 0.82, 0.83, 0.84, 0.85,\n",
       "       0.86, 0.87, 0.88, 0.89, 0.9 ])},\n",
       "                   verbose=1)"
      ]
     },
     "execution_count": 103,
     "metadata": {},
     "output_type": "execute_result"
    }
   ],
   "source": [
    "#Maintenant que nous connaissons les features les plus importantes,\n",
    "#nous allons faire une nouvelle modélisation en modifiant les hyperparamètres uniquement avec ces features\n",
    "clf = lgb.LGBMClassifier()\n",
    "\n",
    "param_dist = { 'max_depth':[2, 4, 6],  \n",
    "               'min_child_weight':[0.001, 0.01, 0.1, 1, 2],\n",
    "               'subsample':np.arange(0.75, 0.90, 0.01),\n",
    "               'colsample_bytree': np.arange(0.80, 1, 0.1), \n",
    "               'reg_alpha':[.001, .005, .0005],\n",
    "               'reg_lambda':[.001, .005, .0005],\n",
    "                    }\n",
    "\n",
    "grid = RandomizedSearchCV(clf, param_dist, verbose=1, cv=5, n_jobs = -1, n_iter=10)\n",
    "grid.fit(x_train[cols_to_keep], y_train.values.ravel())"
   ]
  },
  {
   "cell_type": "code",
   "execution_count": 104,
   "id": "24fb2686",
   "metadata": {},
   "outputs": [
    {
     "data": {
      "text/plain": [
       "LGBMClassifier(colsample_bytree=0.9, max_depth=6, min_child_weight=0.01,\n",
       "               reg_alpha=0.005, reg_lambda=0.005, subsample=0.8800000000000001)"
      ]
     },
     "execution_count": 104,
     "metadata": {},
     "output_type": "execute_result"
    }
   ],
   "source": [
    "best_optimized_model = lgb.LGBMClassifier(**grid.best_params_)\n",
    "best_optimized_model.fit(x_train[cols_to_keep], y_train.values.ravel())"
   ]
  },
  {
   "cell_type": "code",
   "execution_count": 105,
   "id": "8051028f",
   "metadata": {},
   "outputs": [
    {
     "data": {
      "text/plain": [
       "0.7067557535263549"
      ]
     },
     "execution_count": 105,
     "metadata": {},
     "output_type": "execute_result"
    }
   ],
   "source": [
    "#Tests sur les données de test\n",
    "y_pred = best_optimized_model.predict(x_test[cols_to_keep])\n",
    "\n",
    "f1_score(y_test.values.ravel(), y_pred)"
   ]
  },
  {
   "cell_type": "code",
   "execution_count": 106,
   "id": "953e1357",
   "metadata": {},
   "outputs": [
    {
     "data": {
      "text/plain": [
       "0.5469496211713167"
      ]
     },
     "execution_count": 106,
     "metadata": {},
     "output_type": "execute_result"
    }
   ],
   "source": [
    "recall_score(y_test.values.ravel(), y_pred)"
   ]
  },
  {
   "cell_type": "code",
   "execution_count": 107,
   "id": "79de4a4b",
   "metadata": {},
   "outputs": [
    {
     "data": {
      "text/plain": [
       "0.9984922976073418"
      ]
     },
     "execution_count": 107,
     "metadata": {},
     "output_type": "execute_result"
    }
   ],
   "source": [
    "precision_score(y_test.values.ravel(), y_pred)"
   ]
  },
  {
   "cell_type": "code",
   "execution_count": 108,
   "id": "d17704e4",
   "metadata": {},
   "outputs": [
    {
     "data": {
      "text/plain": [
       "array([[27323,    23],\n",
       "       [12617, 15232]])"
      ]
     },
     "execution_count": 108,
     "metadata": {},
     "output_type": "execute_result"
    }
   ],
   "source": [
    "confusion_matrix(y_test.values.ravel(), y_pred)"
   ]
  },
  {
   "cell_type": "code",
   "execution_count": 109,
   "id": "fe3ee917",
   "metadata": {},
   "outputs": [],
   "source": [
    "#Fonction pour reproduction du preprocessing plus tard dans l'API\n",
    "\n",
    "def process_second_model(original_df):\n",
    "    df = original_df.copy()\n",
    "    df['delay_signup_purchase'] = (df['signup_time'] - df['purchase_time']).dt.seconds\n",
    "    for col_prefix in ['signup', 'purchase']:\n",
    "        df[f'{col_prefix}_year'] = df[f'{col_prefix}_time'].dt.year\n",
    "        df[f'{col_prefix}_month'] = df[f'{col_prefix}_time'].dt.month\n",
    "        df[f'{col_prefix}_weekday'] = df[f'{col_prefix}_time'].dt.weekday\n",
    "        df[f'cos_{col_prefix}_month'] = np.cos(2.*np.pi*df[f'{col_prefix}_month']/12.)\n",
    "        df[f'sin_{col_prefix}_month'] = np.sin(2.*np.pi*df[f'{col_prefix}_month']/12.)\n",
    "        df[f'{col_prefix}_hour'] = df[f'{col_prefix}_time'].dt.hour\n",
    "        df[f'cos_{col_prefix}_hour'] = np.cos(2.*np.pi*df[f'{col_prefix}_hour']/24.)\n",
    "        df[f'sin_{col_prefix}_hour'] = np.sin(2.*np.pi*df[f'{col_prefix}_hour']/24.)\n",
    "        df[f'{col_prefix}_minute'] = df[f'{col_prefix}_time'].dt.minute\n",
    "        df[f'cos_{col_prefix}_minute'] = np.cos(2.*np.pi*df[f'{col_prefix}_minute']/60.)\n",
    "        df[f'sin_{col_prefix}_minute'] = np.sin(2.*np.pi*df[f'{col_prefix}_minute']/60.)\n",
    "        df[f'{col_prefix}_int_value'] = df[f'{col_prefix}_time'].apply(lambda x: x.value)\n",
    "        df = df.drop(columns=[f'{col_prefix}_time'])\n",
    "    df = df[['purchase_value', 'age', 'delay_signup_purchase', 'signup_hour',\n",
    "           'signup_minute', 'cos_signup_minute', 'sin_signup_minute',\n",
    "           'signup_int_value', 'purchase_hour', 'sin_purchase_hour',\n",
    "           'purchase_minute', 'cos_purchase_minute', 'purchase_int_value']]\n",
    "    return df"
   ]
  },
  {
   "cell_type": "markdown",
   "id": "d9751779",
   "metadata": {},
   "source": [
    "# VII. Sauvegarde des modèles entraînés pour utilisation ultérieure"
   ]
  },
  {
   "cell_type": "markdown",
   "id": "cab85e28",
   "metadata": {},
   "source": [
    "## VII.1. Premier modèle "
   ]
  },
  {
   "cell_type": "code",
   "execution_count": 111,
   "id": "a0dd9ea7",
   "metadata": {},
   "outputs": [],
   "source": [
    "joblib.dump(clf, 'fraud_rfc.pkl')\n",
    "rfc_pickle = joblib.load('fraud_rfc.pkl')"
   ]
  },
  {
   "cell_type": "markdown",
   "id": "e81158dc",
   "metadata": {},
   "source": [
    "## VII.2. Deuxième modèle"
   ]
  },
  {
   "cell_type": "code",
   "execution_count": 110,
   "id": "c51e468b",
   "metadata": {},
   "outputs": [],
   "source": [
    "joblib.dump(best_optimized_model, 'fraud_lgb.pkl')\n",
    "gbm_pickle = joblib.load('fraud_lgb.pkl')"
   ]
  }
 ],
 "metadata": {
  "kernelspec": {
   "display_name": "Python 3 (ipykernel)",
   "language": "python",
   "name": "python3"
  },
  "language_info": {
   "codemirror_mode": {
    "name": "ipython",
    "version": 3
   },
   "file_extension": ".py",
   "mimetype": "text/x-python",
   "name": "python",
   "nbconvert_exporter": "python",
   "pygments_lexer": "ipython3",
   "version": "3.9.7"
  }
 },
 "nbformat": 4,
 "nbformat_minor": 5
}
