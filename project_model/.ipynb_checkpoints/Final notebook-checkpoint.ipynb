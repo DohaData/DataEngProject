{
 "cells": [
  {
   "cell_type": "markdown",
   "id": "8a2cf584",
   "metadata": {},
   "source": [
    "# 0. Introduction "
   ]
  },
  {
   "cell_type": "raw",
   "id": "25b96ff3",
   "metadata": {},
   "source": [
    "Pour le projet de fraude nous sommes partis sur deux modélisations, une avec randomforestclassifier et une avec lightgbm.\n",
    "La première est assez simple mais obtient des résultats proches de la seconde qui a été effectuée avec de l'oversampling, une recherche des hyperparamètres par validation croisée, ainsi qu'une sélection des features par RFE."
   ]
  },
  {
   "cell_type": "markdown",
   "id": "f75cee4c",
   "metadata": {},
   "source": [
    "# I. Dépendances"
   ]
  },
  {
   "cell_type": "code",
   "execution_count": 1,
   "id": "5400b222",
   "metadata": {},
   "outputs": [],
   "source": [
    "#Importation des bibliothèques nécessaires au preprocessing\n",
    "#et à l'entraînement des deux modèles finaux choisis\n",
    "\n",
    "import pandas as pd\n",
    "import numpy as np\n",
    "from random import sample\n",
    "from datetime import date\n",
    "\n",
    "import matplotlib.pyplot as plt\n",
    "import seaborn as sns\n",
    "%matplotlib inline\n",
    "\n",
    "from sklearn import preprocessing\n",
    "from sklearn.model_selection import GroupShuffleSplit, RandomizedSearchCV, train_test_split\n",
    "from sklearn.feature_selection import RFE\n",
    "from sklearn.metrics import f1_score, recall_score, precision_score, confusion_matrix\n",
    "from sklearn.svm import SVC\n",
    "from sklearn import ensemble, linear_model, neighbors\n",
    "import lightgbm as lgb\n",
    "from imblearn.over_sampling import RandomOverSampler, SMOTE\n",
    "from imblearn.under_sampling import RandomUnderSampler,  ClusterCentroids\n",
    "from imblearn.metrics import classification_report_imbalanced, geometric_mean_score\n",
    "\n",
    "import joblib"
   ]
  },
  {
   "cell_type": "markdown",
   "id": "c40d6fa0",
   "metadata": {},
   "source": [
    "# II. Import des données"
   ]
  },
  {
   "cell_type": "code",
   "execution_count": 2,
   "id": "65e043c9",
   "metadata": {},
   "outputs": [],
   "source": [
    "SEED = 42"
   ]
  },
  {
   "cell_type": "code",
   "execution_count": 3,
   "id": "e35030e0",
   "metadata": {},
   "outputs": [],
   "source": [
    "# Chargement du jeu de données\n",
    "fraud_df = pd.read_csv('https://assets-datascientest.s3-eu-west-1.amazonaws.com/de/total/fraud.csv',\n",
    "                       parse_dates = ['signup_time','purchase_time'])"
   ]
  },
  {
   "cell_type": "markdown",
   "id": "909cf4b7",
   "metadata": {},
   "source": [
    "# III. Description et recherche des valeurs manquantes"
   ]
  },
  {
   "cell_type": "code",
   "execution_count": 4,
   "id": "db196750",
   "metadata": {},
   "outputs": [
    {
     "name": "stdout",
     "output_type": "stream",
     "text": [
      "<class 'pandas.core.frame.DataFrame'>\n",
      "RangeIndex: 151112 entries, 0 to 151111\n",
      "Data columns (total 11 columns):\n",
      " #   Column          Non-Null Count   Dtype         \n",
      "---  ------          --------------   -----         \n",
      " 0   user_id         151112 non-null  int64         \n",
      " 1   signup_time     151112 non-null  datetime64[ns]\n",
      " 2   purchase_time   151112 non-null  datetime64[ns]\n",
      " 3   purchase_value  151112 non-null  int64         \n",
      " 4   device_id       151112 non-null  object        \n",
      " 5   source          151112 non-null  object        \n",
      " 6   browser         151112 non-null  object        \n",
      " 7   sex             151112 non-null  object        \n",
      " 8   age             151112 non-null  int64         \n",
      " 9   ip_address      151112 non-null  float64       \n",
      " 10  is_fraud        151112 non-null  int64         \n",
      "dtypes: datetime64[ns](2), float64(1), int64(4), object(4)\n",
      "memory usage: 12.7+ MB\n"
     ]
    }
   ],
   "source": [
    "# Infos sur chaque colonne\n",
    "fraud_df.info()"
   ]
  },
  {
   "cell_type": "code",
   "execution_count": 5,
   "id": "3111a113",
   "metadata": {},
   "outputs": [
    {
     "data": {
      "text/html": [
       "<div>\n",
       "<style scoped>\n",
       "    .dataframe tbody tr th:only-of-type {\n",
       "        vertical-align: middle;\n",
       "    }\n",
       "\n",
       "    .dataframe tbody tr th {\n",
       "        vertical-align: top;\n",
       "    }\n",
       "\n",
       "    .dataframe thead th {\n",
       "        text-align: right;\n",
       "    }\n",
       "</style>\n",
       "<table border=\"1\" class=\"dataframe\">\n",
       "  <thead>\n",
       "    <tr style=\"text-align: right;\">\n",
       "      <th></th>\n",
       "      <th>user_id</th>\n",
       "      <th>signup_time</th>\n",
       "      <th>purchase_time</th>\n",
       "      <th>purchase_value</th>\n",
       "      <th>device_id</th>\n",
       "      <th>source</th>\n",
       "      <th>browser</th>\n",
       "      <th>sex</th>\n",
       "      <th>age</th>\n",
       "      <th>ip_address</th>\n",
       "      <th>is_fraud</th>\n",
       "    </tr>\n",
       "  </thead>\n",
       "  <tbody>\n",
       "    <tr>\n",
       "      <th>0</th>\n",
       "      <td>22058</td>\n",
       "      <td>2015-02-24 22:55:49</td>\n",
       "      <td>2015-04-18 02:47:11</td>\n",
       "      <td>34</td>\n",
       "      <td>QVPSPJUOCKZAR</td>\n",
       "      <td>SEO</td>\n",
       "      <td>Chrome</td>\n",
       "      <td>M</td>\n",
       "      <td>39</td>\n",
       "      <td>7.327584e+08</td>\n",
       "      <td>0</td>\n",
       "    </tr>\n",
       "    <tr>\n",
       "      <th>1</th>\n",
       "      <td>333320</td>\n",
       "      <td>2015-06-07 20:39:50</td>\n",
       "      <td>2015-06-08 01:38:54</td>\n",
       "      <td>16</td>\n",
       "      <td>EOGFQPIZPYXFZ</td>\n",
       "      <td>Ads</td>\n",
       "      <td>Chrome</td>\n",
       "      <td>F</td>\n",
       "      <td>53</td>\n",
       "      <td>3.503114e+08</td>\n",
       "      <td>0</td>\n",
       "    </tr>\n",
       "    <tr>\n",
       "      <th>2</th>\n",
       "      <td>1359</td>\n",
       "      <td>2015-01-01 18:52:44</td>\n",
       "      <td>2015-01-01 18:52:45</td>\n",
       "      <td>15</td>\n",
       "      <td>YSSKYOSJHPPLJ</td>\n",
       "      <td>SEO</td>\n",
       "      <td>Opera</td>\n",
       "      <td>M</td>\n",
       "      <td>53</td>\n",
       "      <td>2.621474e+09</td>\n",
       "      <td>1</td>\n",
       "    </tr>\n",
       "    <tr>\n",
       "      <th>3</th>\n",
       "      <td>150084</td>\n",
       "      <td>2015-04-28 21:13:25</td>\n",
       "      <td>2015-05-04 13:54:50</td>\n",
       "      <td>44</td>\n",
       "      <td>ATGTXKYKUDUQN</td>\n",
       "      <td>SEO</td>\n",
       "      <td>Safari</td>\n",
       "      <td>M</td>\n",
       "      <td>41</td>\n",
       "      <td>3.840542e+09</td>\n",
       "      <td>0</td>\n",
       "    </tr>\n",
       "    <tr>\n",
       "      <th>4</th>\n",
       "      <td>221365</td>\n",
       "      <td>2015-07-21 07:09:52</td>\n",
       "      <td>2015-09-09 18:40:53</td>\n",
       "      <td>39</td>\n",
       "      <td>NAUITBZFJKHWW</td>\n",
       "      <td>Ads</td>\n",
       "      <td>Safari</td>\n",
       "      <td>M</td>\n",
       "      <td>45</td>\n",
       "      <td>4.155831e+08</td>\n",
       "      <td>0</td>\n",
       "    </tr>\n",
       "  </tbody>\n",
       "</table>\n",
       "</div>"
      ],
      "text/plain": [
       "   user_id         signup_time       purchase_time  purchase_value  \\\n",
       "0    22058 2015-02-24 22:55:49 2015-04-18 02:47:11              34   \n",
       "1   333320 2015-06-07 20:39:50 2015-06-08 01:38:54              16   \n",
       "2     1359 2015-01-01 18:52:44 2015-01-01 18:52:45              15   \n",
       "3   150084 2015-04-28 21:13:25 2015-05-04 13:54:50              44   \n",
       "4   221365 2015-07-21 07:09:52 2015-09-09 18:40:53              39   \n",
       "\n",
       "       device_id source browser sex  age    ip_address  is_fraud  \n",
       "0  QVPSPJUOCKZAR    SEO  Chrome   M   39  7.327584e+08         0  \n",
       "1  EOGFQPIZPYXFZ    Ads  Chrome   F   53  3.503114e+08         0  \n",
       "2  YSSKYOSJHPPLJ    SEO   Opera   M   53  2.621474e+09         1  \n",
       "3  ATGTXKYKUDUQN    SEO  Safari   M   41  3.840542e+09         0  \n",
       "4  NAUITBZFJKHWW    Ads  Safari   M   45  4.155831e+08         0  "
      ]
     },
     "execution_count": 5,
     "metadata": {},
     "output_type": "execute_result"
    }
   ],
   "source": [
    "fraud_df.head()"
   ]
  },
  {
   "cell_type": "code",
   "execution_count": 6,
   "id": "12e9d800",
   "metadata": {},
   "outputs": [
    {
     "data": {
      "text/plain": [
       "user_id           0\n",
       "signup_time       0\n",
       "purchase_time     0\n",
       "purchase_value    0\n",
       "device_id         0\n",
       "source            0\n",
       "browser           0\n",
       "sex               0\n",
       "age               0\n",
       "ip_address        0\n",
       "is_fraud          0\n",
       "dtype: int64"
      ]
     },
     "execution_count": 6,
     "metadata": {},
     "output_type": "execute_result"
    }
   ],
   "source": [
    "fraud_df.isna().sum()\n",
    "\n",
    "#Aucune donnée ne comporte des valeurs nulles"
   ]
  },
  {
   "cell_type": "code",
   "execution_count": 7,
   "id": "4e1b49ba",
   "metadata": {},
   "outputs": [
    {
     "data": {
      "text/plain": [
       "user_id           151112\n",
       "signup_time       151112\n",
       "purchase_time     150679\n",
       "purchase_value       122\n",
       "device_id         137956\n",
       "source                 3\n",
       "browser                5\n",
       "sex                    2\n",
       "age                   58\n",
       "ip_address        143511\n",
       "is_fraud               2\n",
       "dtype: int64"
      ]
     },
     "execution_count": 7,
     "metadata": {},
     "output_type": "execute_result"
    }
   ],
   "source": [
    "# Nombre de valeurs uniques par colonne\n",
    "fraud_df.nunique()\n",
    "\n",
    "#Les user_id sont tous uniques\n",
    "#Il sera inutile d'éviter les doublons lors de la séparation du jeu de données entre entraînement et test"
   ]
  },
  {
   "cell_type": "code",
   "execution_count": 8,
   "id": "b8d52421",
   "metadata": {},
   "outputs": [
    {
     "name": "stdout",
     "output_type": "stream",
     "text": [
      "0    136961\n",
      "1     14151\n",
      "Name: is_fraud, dtype: int64\n",
      "0    0.906354\n",
      "1    0.093646\n",
      "Name: is_fraud, dtype: float64\n"
     ]
    }
   ],
   "source": [
    "# Proportion de fraudes dans le jeu de données, le jeu de données est déséquilibré\n",
    "print(fraud_df.is_fraud.value_counts())\n",
    "print(fraud_df.is_fraud.value_counts(normalize=True))"
   ]
  },
  {
   "cell_type": "markdown",
   "id": "06fef34d",
   "metadata": {},
   "source": [
    "# IV. Data Viz"
   ]
  },
  {
   "cell_type": "code",
   "execution_count": 9,
   "id": "579f2a60",
   "metadata": {},
   "outputs": [
    {
     "data": {
      "text/html": [
       "<div>\n",
       "<style scoped>\n",
       "    .dataframe tbody tr th:only-of-type {\n",
       "        vertical-align: middle;\n",
       "    }\n",
       "\n",
       "    .dataframe tbody tr th {\n",
       "        vertical-align: top;\n",
       "    }\n",
       "\n",
       "    .dataframe thead th {\n",
       "        text-align: right;\n",
       "    }\n",
       "</style>\n",
       "<table border=\"1\" class=\"dataframe\">\n",
       "  <thead>\n",
       "    <tr style=\"text-align: right;\">\n",
       "      <th></th>\n",
       "      <th>user_id</th>\n",
       "      <th>signup_time</th>\n",
       "      <th>purchase_time</th>\n",
       "      <th>purchase_value</th>\n",
       "      <th>device_id</th>\n",
       "      <th>source</th>\n",
       "      <th>browser</th>\n",
       "      <th>sex</th>\n",
       "      <th>age</th>\n",
       "      <th>ip_address</th>\n",
       "      <th>is_fraud</th>\n",
       "      <th>purchase_date</th>\n",
       "      <th>purchase_hour</th>\n",
       "      <th>purchase_weekday</th>\n",
       "      <th>purchase_month</th>\n",
       "      <th>purchase_day</th>\n",
       "      <th>signup_date</th>\n",
       "      <th>days_till_signup</th>\n",
       "    </tr>\n",
       "  </thead>\n",
       "  <tbody>\n",
       "    <tr>\n",
       "      <th>0</th>\n",
       "      <td>22058</td>\n",
       "      <td>2015-02-24 22:55:49</td>\n",
       "      <td>2015-04-18 02:47:11</td>\n",
       "      <td>34</td>\n",
       "      <td>QVPSPJUOCKZAR</td>\n",
       "      <td>SEO</td>\n",
       "      <td>Chrome</td>\n",
       "      <td>M</td>\n",
       "      <td>39</td>\n",
       "      <td>7.327584e+08</td>\n",
       "      <td>0</td>\n",
       "      <td>2015-04-18</td>\n",
       "      <td>2</td>\n",
       "      <td>5</td>\n",
       "      <td>4</td>\n",
       "      <td>18</td>\n",
       "      <td>2015-02-24</td>\n",
       "      <td>53</td>\n",
       "    </tr>\n",
       "    <tr>\n",
       "      <th>1</th>\n",
       "      <td>333320</td>\n",
       "      <td>2015-06-07 20:39:50</td>\n",
       "      <td>2015-06-08 01:38:54</td>\n",
       "      <td>16</td>\n",
       "      <td>EOGFQPIZPYXFZ</td>\n",
       "      <td>Ads</td>\n",
       "      <td>Chrome</td>\n",
       "      <td>F</td>\n",
       "      <td>53</td>\n",
       "      <td>3.503114e+08</td>\n",
       "      <td>0</td>\n",
       "      <td>2015-06-08</td>\n",
       "      <td>1</td>\n",
       "      <td>0</td>\n",
       "      <td>6</td>\n",
       "      <td>8</td>\n",
       "      <td>2015-06-07</td>\n",
       "      <td>1</td>\n",
       "    </tr>\n",
       "    <tr>\n",
       "      <th>2</th>\n",
       "      <td>1359</td>\n",
       "      <td>2015-01-01 18:52:44</td>\n",
       "      <td>2015-01-01 18:52:45</td>\n",
       "      <td>15</td>\n",
       "      <td>YSSKYOSJHPPLJ</td>\n",
       "      <td>SEO</td>\n",
       "      <td>Opera</td>\n",
       "      <td>M</td>\n",
       "      <td>53</td>\n",
       "      <td>2.621474e+09</td>\n",
       "      <td>1</td>\n",
       "      <td>2015-01-01</td>\n",
       "      <td>18</td>\n",
       "      <td>3</td>\n",
       "      <td>1</td>\n",
       "      <td>1</td>\n",
       "      <td>2015-01-01</td>\n",
       "      <td>0</td>\n",
       "    </tr>\n",
       "    <tr>\n",
       "      <th>3</th>\n",
       "      <td>150084</td>\n",
       "      <td>2015-04-28 21:13:25</td>\n",
       "      <td>2015-05-04 13:54:50</td>\n",
       "      <td>44</td>\n",
       "      <td>ATGTXKYKUDUQN</td>\n",
       "      <td>SEO</td>\n",
       "      <td>Safari</td>\n",
       "      <td>M</td>\n",
       "      <td>41</td>\n",
       "      <td>3.840542e+09</td>\n",
       "      <td>0</td>\n",
       "      <td>2015-05-04</td>\n",
       "      <td>13</td>\n",
       "      <td>0</td>\n",
       "      <td>5</td>\n",
       "      <td>4</td>\n",
       "      <td>2015-04-28</td>\n",
       "      <td>6</td>\n",
       "    </tr>\n",
       "    <tr>\n",
       "      <th>4</th>\n",
       "      <td>221365</td>\n",
       "      <td>2015-07-21 07:09:52</td>\n",
       "      <td>2015-09-09 18:40:53</td>\n",
       "      <td>39</td>\n",
       "      <td>NAUITBZFJKHWW</td>\n",
       "      <td>Ads</td>\n",
       "      <td>Safari</td>\n",
       "      <td>M</td>\n",
       "      <td>45</td>\n",
       "      <td>4.155831e+08</td>\n",
       "      <td>0</td>\n",
       "      <td>2015-09-09</td>\n",
       "      <td>18</td>\n",
       "      <td>2</td>\n",
       "      <td>9</td>\n",
       "      <td>9</td>\n",
       "      <td>2015-07-21</td>\n",
       "      <td>50</td>\n",
       "    </tr>\n",
       "  </tbody>\n",
       "</table>\n",
       "</div>"
      ],
      "text/plain": [
       "   user_id         signup_time       purchase_time  purchase_value  \\\n",
       "0    22058 2015-02-24 22:55:49 2015-04-18 02:47:11              34   \n",
       "1   333320 2015-06-07 20:39:50 2015-06-08 01:38:54              16   \n",
       "2     1359 2015-01-01 18:52:44 2015-01-01 18:52:45              15   \n",
       "3   150084 2015-04-28 21:13:25 2015-05-04 13:54:50              44   \n",
       "4   221365 2015-07-21 07:09:52 2015-09-09 18:40:53              39   \n",
       "\n",
       "       device_id source browser sex  age    ip_address  is_fraud  \\\n",
       "0  QVPSPJUOCKZAR    SEO  Chrome   M   39  7.327584e+08         0   \n",
       "1  EOGFQPIZPYXFZ    Ads  Chrome   F   53  3.503114e+08         0   \n",
       "2  YSSKYOSJHPPLJ    SEO   Opera   M   53  2.621474e+09         1   \n",
       "3  ATGTXKYKUDUQN    SEO  Safari   M   41  3.840542e+09         0   \n",
       "4  NAUITBZFJKHWW    Ads  Safari   M   45  4.155831e+08         0   \n",
       "\n",
       "  purchase_date  purchase_hour  purchase_weekday  purchase_month  \\\n",
       "0    2015-04-18              2                 5               4   \n",
       "1    2015-06-08              1                 0               6   \n",
       "2    2015-01-01             18                 3               1   \n",
       "3    2015-05-04             13                 0               5   \n",
       "4    2015-09-09             18                 2               9   \n",
       "\n",
       "   purchase_day signup_date  days_till_signup  \n",
       "0            18  2015-02-24                53  \n",
       "1             8  2015-06-07                 1  \n",
       "2             1  2015-01-01                 0  \n",
       "3             4  2015-04-28                 6  \n",
       "4             9  2015-07-21                50  "
      ]
     },
     "execution_count": 9,
     "metadata": {},
     "output_type": "execute_result"
    }
   ],
   "source": [
    "# Création de colonnes de temps afin de mieux visualiser des patterns dans le jeu de données\n",
    "fraud = fraud_df.copy()\n",
    "fraud[\"purchase_date\"] = fraud.purchase_time.dt.date\n",
    "fraud[\"purchase_hour\"] = fraud.purchase_time.dt.hour\n",
    "fraud[\"purchase_weekday\"] = fraud.purchase_time.dt.weekday\n",
    "fraud[\"purchase_month\"] = fraud.purchase_time.dt.month\n",
    "fraud[\"purchase_day\"] = fraud.purchase_time.dt.day\n",
    "fraud[\"signup_date\"] = fraud.signup_time.dt.date\n",
    "fraud[\"days_till_signup\"] = fraud.purchase_date - fraud.signup_date\n",
    "fraud.days_till_signup = fraud.days_till_signup.dt.days\n",
    "fraud.head()"
   ]
  },
  {
   "cell_type": "code",
   "execution_count": 10,
   "id": "e53e6377",
   "metadata": {},
   "outputs": [
    {
     "data": {
      "image/png": "[encoded data removed]",
      "text/plain": [
       "<Figure size 720x360 with 1 Axes>"
      ]
     },
     "metadata": {
      "needs_background": "light"
     },
     "output_type": "display_data"
    }
   ],
   "source": [
    "plt.figure(figsize=(10,5))\n",
    "plt.plot(fraud[[\"purchase_date\", \"is_fraud\"]].groupby([\"purchase_date\"]).mean());\n",
    "plt.title(\"Evolution du taux de fraude quotidien\");\n",
    "#On remarque que le jeu de données présente comme une \"cassure\" au mois de janvier\n",
    "#Le taux de fraude passe de 100% à 5%"
   ]
  },
  {
   "cell_type": "code",
   "execution_count": 11,
   "id": "d98fe02b",
   "metadata": {},
   "outputs": [
    {
     "data": {
      "image/png": "[encoded data removed]",
      "text/plain": [
       "<Figure size 720x360 with 1 Axes>"
      ]
     },
     "metadata": {
      "needs_background": "light"
     },
     "output_type": "display_data"
    }
   ],
   "source": [
    "plt.figure(figsize=(10,5))\n",
    "plt.plot(fraud[[\"purchase_month\", \"is_fraud\"]].groupby([\"purchase_month\"]).mean());\n",
    "plt.title(\"Taux de fraude moyen selon le mois de l'année\");\n",
    "\n",
    "#Exception faite du mois de janvier, on constate uniquement une légère augmentation en décembre"
   ]
  },
  {
   "cell_type": "code",
   "execution_count": 12,
   "id": "8d35c6ff",
   "metadata": {},
   "outputs": [
    {
     "data": {
      "text/plain": [
       "Text(0.5, 1.0, 'Taux de fraude moyen selon le jour de la semaine')"
      ]
     },
     "execution_count": 12,
     "metadata": {},
     "output_type": "execute_result"
    },
    {
     "data": {
      "image/png": "[encoded data removed]",
      "text/plain": [
       "<Figure size 720x360 with 1 Axes>"
      ]
     },
     "metadata": {
      "needs_background": "light"
     },
     "output_type": "display_data"
    }
   ],
   "source": [
    "plt.figure(figsize=(10,5))\n",
    "plt.plot([\"lun\", \"mar\", \"mer\", \"jeu\", \"ven\", \"sam\", \"dim\"], \n",
    "         fraud[[\"purchase_weekday\", \"is_fraud\"]].groupby([\"purchase_weekday\"]).mean()[\"is_fraud\"]);\n",
    "plt.title(\"Taux de fraude moyen selon le jour de la semaine\")\n",
    "\n",
    "#Il ne semble pas y avoir une grosse influence du jour de la semaine sur le taux de fraude"
   ]
  },
  {
   "cell_type": "code",
   "execution_count": 13,
   "id": "35898d43",
   "metadata": {},
   "outputs": [
    {
     "data": {
      "image/png": "[encoded data removed]",
      "text/plain": [
       "<Figure size 720x360 with 1 Axes>"
      ]
     },
     "metadata": {
      "needs_background": "light"
     },
     "output_type": "display_data"
    }
   ],
   "source": [
    "plt.figure(figsize=(10,5))\n",
    "plt.plot(fraud[[\"purchase_hour\", \"is_fraud\"]].groupby([\"purchase_hour\"]).mean());\n",
    "plt.title(\"Taux de fraude moyen selon l'heure de la journée\");\n",
    "\n",
    "#Même constat pour l'heure"
   ]
  },
  {
   "cell_type": "markdown",
   "id": "4e85584a",
   "metadata": {},
   "source": [
    "# V. Data Preprocessing"
   ]
  },
  {
   "cell_type": "markdown",
   "id": "15e39ef2",
   "metadata": {},
   "source": [
    "## V.1. Preprocessing pour le premier modèle"
   ]
  },
  {
   "cell_type": "code",
   "execution_count": 14,
   "id": "f679606f",
   "metadata": {},
   "outputs": [],
   "source": [
    "#Fonction pour reproduction du preprocessing plus tard dans l'API\n",
    "\n",
    "#def process_first_model(original_df):\n",
    "#    df = original_df.copy()\n",
    "#    df[\"purchase_date\"] = df.purchase_time.dt.date\n",
    "#    df[\"purchase_hour\"] = df.purchase_time.dt.hour\n",
    "#    df[\"purchase_weekday\"] = df.purchase_time.dt.weekday\n",
    "#    df[\"purchase_month\"] = df.purchase_time.dt.month\n",
    "#    df[\"purchase_day\"] = df.purchase_time.dt.day\n",
    "#    df[\"signup_date\"] = df.signup_time.dt.date\n",
    "#    df[\"days_till_signup\"] = df.purchase_date - df.signup_date\n",
    "#    df.days_till_signup = df.days_till_signup.dt.days\n",
    "#    df = df[[\"days_till_signup\", \"purchase_month\", \"purchase_day\", \"purchase_weekday\", \n",
    "#              \"purchase_hour\", \"purchase_value\", \"age\"]]\n",
    "#    df = df.join(pd.get_dummies(original_df[[\"source\", \"browser\"]], drop_first=True))\n",
    "#    df = df.join(original_df.sex.replace([\"M\", \"F\"], [0,1]))\n",
    "    \n",
    "#    return df"
   ]
  },
  {
   "cell_type": "code",
   "execution_count": 15,
   "id": "7e97014f",
   "metadata": {},
   "outputs": [],
   "source": [
    "# Choix des variables quantitatives\n",
    "data = fraud[[\"days_till_signup\", \"purchase_month\", \"purchase_day\", \"purchase_weekday\", \n",
    "              \"purchase_hour\", \"purchase_value\", \"age\"]]"
   ]
  },
  {
   "cell_type": "code",
   "execution_count": 16,
   "id": "cafef6c9",
   "metadata": {},
   "outputs": [],
   "source": [
    "# Choix et encodage des variables catégorielles\n",
    "data = data.join(pd.get_dummies(fraud[[\"source\", \"browser\"]], drop_first=True))\n",
    "data = data.join(fraud.sex.replace([\"M\", \"F\"], [0,1]))"
   ]
  },
  {
   "cell_type": "code",
   "execution_count": 17,
   "id": "04111e98",
   "metadata": {},
   "outputs": [
    {
     "data": {
      "text/html": [
       "<div>\n",
       "<style scoped>\n",
       "    .dataframe tbody tr th:only-of-type {\n",
       "        vertical-align: middle;\n",
       "    }\n",
       "\n",
       "    .dataframe tbody tr th {\n",
       "        vertical-align: top;\n",
       "    }\n",
       "\n",
       "    .dataframe thead th {\n",
       "        text-align: right;\n",
       "    }\n",
       "</style>\n",
       "<table border=\"1\" class=\"dataframe\">\n",
       "  <thead>\n",
       "    <tr style=\"text-align: right;\">\n",
       "      <th></th>\n",
       "      <th>days_till_signup</th>\n",
       "      <th>purchase_month</th>\n",
       "      <th>purchase_day</th>\n",
       "      <th>purchase_weekday</th>\n",
       "      <th>purchase_hour</th>\n",
       "      <th>purchase_value</th>\n",
       "      <th>age</th>\n",
       "      <th>source_Direct</th>\n",
       "      <th>source_SEO</th>\n",
       "      <th>browser_FireFox</th>\n",
       "      <th>browser_IE</th>\n",
       "      <th>browser_Opera</th>\n",
       "      <th>browser_Safari</th>\n",
       "      <th>sex</th>\n",
       "    </tr>\n",
       "  </thead>\n",
       "  <tbody>\n",
       "    <tr>\n",
       "      <th>0</th>\n",
       "      <td>53</td>\n",
       "      <td>4</td>\n",
       "      <td>18</td>\n",
       "      <td>5</td>\n",
       "      <td>2</td>\n",
       "      <td>34</td>\n",
       "      <td>39</td>\n",
       "      <td>0</td>\n",
       "      <td>1</td>\n",
       "      <td>0</td>\n",
       "      <td>0</td>\n",
       "      <td>0</td>\n",
       "      <td>0</td>\n",
       "      <td>0</td>\n",
       "    </tr>\n",
       "    <tr>\n",
       "      <th>1</th>\n",
       "      <td>1</td>\n",
       "      <td>6</td>\n",
       "      <td>8</td>\n",
       "      <td>0</td>\n",
       "      <td>1</td>\n",
       "      <td>16</td>\n",
       "      <td>53</td>\n",
       "      <td>0</td>\n",
       "      <td>0</td>\n",
       "      <td>0</td>\n",
       "      <td>0</td>\n",
       "      <td>0</td>\n",
       "      <td>0</td>\n",
       "      <td>1</td>\n",
       "    </tr>\n",
       "    <tr>\n",
       "      <th>2</th>\n",
       "      <td>0</td>\n",
       "      <td>1</td>\n",
       "      <td>1</td>\n",
       "      <td>3</td>\n",
       "      <td>18</td>\n",
       "      <td>15</td>\n",
       "      <td>53</td>\n",
       "      <td>0</td>\n",
       "      <td>1</td>\n",
       "      <td>0</td>\n",
       "      <td>0</td>\n",
       "      <td>1</td>\n",
       "      <td>0</td>\n",
       "      <td>0</td>\n",
       "    </tr>\n",
       "    <tr>\n",
       "      <th>3</th>\n",
       "      <td>6</td>\n",
       "      <td>5</td>\n",
       "      <td>4</td>\n",
       "      <td>0</td>\n",
       "      <td>13</td>\n",
       "      <td>44</td>\n",
       "      <td>41</td>\n",
       "      <td>0</td>\n",
       "      <td>1</td>\n",
       "      <td>0</td>\n",
       "      <td>0</td>\n",
       "      <td>0</td>\n",
       "      <td>1</td>\n",
       "      <td>0</td>\n",
       "    </tr>\n",
       "    <tr>\n",
       "      <th>4</th>\n",
       "      <td>50</td>\n",
       "      <td>9</td>\n",
       "      <td>9</td>\n",
       "      <td>2</td>\n",
       "      <td>18</td>\n",
       "      <td>39</td>\n",
       "      <td>45</td>\n",
       "      <td>0</td>\n",
       "      <td>0</td>\n",
       "      <td>0</td>\n",
       "      <td>0</td>\n",
       "      <td>0</td>\n",
       "      <td>1</td>\n",
       "      <td>0</td>\n",
       "    </tr>\n",
       "  </tbody>\n",
       "</table>\n",
       "</div>"
      ],
      "text/plain": [
       "   days_till_signup  purchase_month  purchase_day  purchase_weekday  \\\n",
       "0                53               4            18                 5   \n",
       "1                 1               6             8                 0   \n",
       "2                 0               1             1                 3   \n",
       "3                 6               5             4                 0   \n",
       "4                50               9             9                 2   \n",
       "\n",
       "   purchase_hour  purchase_value  age  source_Direct  source_SEO  \\\n",
       "0              2              34   39              0           1   \n",
       "1              1              16   53              0           0   \n",
       "2             18              15   53              0           1   \n",
       "3             13              44   41              0           1   \n",
       "4             18              39   45              0           0   \n",
       "\n",
       "   browser_FireFox  browser_IE  browser_Opera  browser_Safari  sex  \n",
       "0                0           0              0               0    0  \n",
       "1                0           0              0               0    1  \n",
       "2                0           0              1               0    0  \n",
       "3                0           0              0               1    0  \n",
       "4                0           0              0               1    0  "
      ]
     },
     "execution_count": 17,
     "metadata": {},
     "output_type": "execute_result"
    }
   ],
   "source": [
    "data.head()"
   ]
  },
  {
   "cell_type": "code",
   "execution_count": 43,
   "id": "0d921f9e",
   "metadata": {},
   "outputs": [
    {
     "data": {
      "text/plain": [
       "(151112, 14)"
      ]
     },
     "execution_count": 43,
     "metadata": {},
     "output_type": "execute_result"
    }
   ],
   "source": [
    "data.shape"
   ]
  },
  {
   "cell_type": "code",
   "execution_count": 18,
   "id": "8f89f2b2",
   "metadata": {},
   "outputs": [],
   "source": [
    "# Définition de la variable cible\n",
    "target = fraud.is_fraud"
   ]
  },
  {
   "cell_type": "code",
   "execution_count": 19,
   "id": "c8491808",
   "metadata": {},
   "outputs": [],
   "source": [
    "# Séparation en jeu d'entrainement et de test.\n",
    "X_train, X_test, y_train, y_test = train_test_split(data, target, test_size=0.3, random_state=50)"
   ]
  },
  {
   "cell_type": "code",
   "execution_count": 20,
   "id": "96d03108",
   "metadata": {},
   "outputs": [],
   "source": [
    "scaler = preprocessing.MinMaxScaler()\n",
    "X_train = scaler.fit_transform(X_train)\n",
    "X_test = scaler.transform(X_test)"
   ]
  },
  {
   "cell_type": "markdown",
   "id": "bdc7323a",
   "metadata": {},
   "source": [
    "# VI. Modélisation"
   ]
  },
  {
   "cell_type": "markdown",
   "id": "9b8d9492",
   "metadata": {},
   "source": [
    "## VI.1. Oversampling avec SMOTE"
   ]
  },
  {
   "cell_type": "code",
   "execution_count": 21,
   "id": "8517f5a9",
   "metadata": {},
   "outputs": [
    {
     "data": {
      "text/plain": [
       "0    95930\n",
       "1     9848\n",
       "Name: is_fraud, dtype: int64"
      ]
     },
     "execution_count": 21,
     "metadata": {},
     "output_type": "execute_result"
    }
   ],
   "source": [
    "y_train.value_counts()"
   ]
  },
  {
   "cell_type": "code",
   "execution_count": 22,
   "id": "699fb86c",
   "metadata": {},
   "outputs": [
    {
     "data": {
      "text/plain": [
       "0    95930\n",
       "1    95930\n",
       "Name: is_fraud, dtype: int64"
      ]
     },
     "execution_count": 22,
     "metadata": {},
     "output_type": "execute_result"
    }
   ],
   "source": [
    "smo = SMOTE()\n",
    "X_sm, y_sm = smo.fit_resample(X_train, y_train)\n",
    "y_sm.value_counts()"
   ]
  },
  {
   "cell_type": "markdown",
   "id": "139c99b6",
   "metadata": {},
   "source": [
    "## VI.2. Modélisation avec Linear Model"
   ]
  },
  {
   "cell_type": "code",
   "execution_count": 23,
   "id": "b24affcb",
   "metadata": {},
   "outputs": [
    {
     "data": {
      "text/plain": [
       "LogisticRegression()"
      ]
     },
     "execution_count": 23,
     "metadata": {},
     "output_type": "execute_result"
    }
   ],
   "source": [
    "lm = linear_model.LogisticRegression(C = 1.0)\n",
    "\n",
    "lm.fit(X_sm,y_sm)"
   ]
  },
  {
   "cell_type": "code",
   "execution_count": 24,
   "id": "d57c2464",
   "metadata": {},
   "outputs": [
    {
     "data": {
      "text/html": [
       "<div>\n",
       "<style scoped>\n",
       "    .dataframe tbody tr th:only-of-type {\n",
       "        vertical-align: middle;\n",
       "    }\n",
       "\n",
       "    .dataframe tbody tr th {\n",
       "        vertical-align: top;\n",
       "    }\n",
       "\n",
       "    .dataframe thead th {\n",
       "        text-align: right;\n",
       "    }\n",
       "</style>\n",
       "<table border=\"1\" class=\"dataframe\">\n",
       "  <thead>\n",
       "    <tr style=\"text-align: right;\">\n",
       "      <th>prédites</th>\n",
       "      <th>0</th>\n",
       "      <th>1</th>\n",
       "    </tr>\n",
       "    <tr>\n",
       "      <th>réelles</th>\n",
       "      <th></th>\n",
       "      <th></th>\n",
       "    </tr>\n",
       "  </thead>\n",
       "  <tbody>\n",
       "    <tr>\n",
       "      <th>0</th>\n",
       "      <td>30646</td>\n",
       "      <td>10385</td>\n",
       "    </tr>\n",
       "    <tr>\n",
       "      <th>1</th>\n",
       "      <td>1420</td>\n",
       "      <td>2883</td>\n",
       "    </tr>\n",
       "  </tbody>\n",
       "</table>\n",
       "</div>"
      ],
      "text/plain": [
       "prédites      0      1\n",
       "réelles               \n",
       "0         30646  10385\n",
       "1          1420   2883"
      ]
     },
     "execution_count": 24,
     "metadata": {},
     "output_type": "execute_result"
    }
   ],
   "source": [
    "y_pred_lm = lm.predict(X_test)\n",
    "pd.crosstab(y_test, y_pred_lm, rownames=[\"réelles\"], colnames=[\"prédites\"])"
   ]
  },
  {
   "cell_type": "code",
   "execution_count": 25,
   "id": "5721f817",
   "metadata": {},
   "outputs": [
    {
     "name": "stdout",
     "output_type": "stream",
     "text": [
      "                   pre       rec       spe        f1       geo       iba       sup\n",
      "\n",
      "          0       0.96      0.75      0.67      0.84      0.71      0.50     41031\n",
      "          1       0.22      0.67      0.75      0.33      0.71      0.50      4303\n",
      "\n",
      "avg / total       0.89      0.74      0.68      0.79      0.71      0.50     45334\n",
      "\n"
     ]
    }
   ],
   "source": [
    "print(classification_report_imbalanced(y_test, y_pred_lm))"
   ]
  },
  {
   "cell_type": "code",
   "execution_count": 26,
   "id": "9a1af35c",
   "metadata": {},
   "outputs": [],
   "source": [
    "## Pécision insuffisante"
   ]
  },
  {
   "cell_type": "markdown",
   "id": "17b43707",
   "metadata": {},
   "source": [
    "## VI.3. Modélisation avec RandomForestClassifier"
   ]
  },
  {
   "cell_type": "code",
   "execution_count": 27,
   "id": "3b3f9848",
   "metadata": {},
   "outputs": [
    {
     "data": {
      "text/plain": [
       "RandomForestClassifier(random_state=42)"
      ]
     },
     "execution_count": 27,
     "metadata": {},
     "output_type": "execute_result"
    }
   ],
   "source": [
    "from sklearn import ensemble\n",
    "clf = ensemble.RandomForestClassifier(random_state=SEED)\n",
    "clf.fit(X_sm, y_sm)"
   ]
  },
  {
   "cell_type": "code",
   "execution_count": 28,
   "id": "115e8aad",
   "metadata": {},
   "outputs": [
    {
     "data": {
      "text/html": [
       "<div>\n",
       "<style scoped>\n",
       "    .dataframe tbody tr th:only-of-type {\n",
       "        vertical-align: middle;\n",
       "    }\n",
       "\n",
       "    .dataframe tbody tr th {\n",
       "        vertical-align: top;\n",
       "    }\n",
       "\n",
       "    .dataframe thead th {\n",
       "        text-align: right;\n",
       "    }\n",
       "</style>\n",
       "<table border=\"1\" class=\"dataframe\">\n",
       "  <thead>\n",
       "    <tr style=\"text-align: right;\">\n",
       "      <th>prédites</th>\n",
       "      <th>0</th>\n",
       "      <th>1</th>\n",
       "    </tr>\n",
       "    <tr>\n",
       "      <th>réelles</th>\n",
       "      <th></th>\n",
       "      <th></th>\n",
       "    </tr>\n",
       "  </thead>\n",
       "  <tbody>\n",
       "    <tr>\n",
       "      <th>0</th>\n",
       "      <td>41001</td>\n",
       "      <td>30</td>\n",
       "    </tr>\n",
       "    <tr>\n",
       "      <th>1</th>\n",
       "      <td>1963</td>\n",
       "      <td>2340</td>\n",
       "    </tr>\n",
       "  </tbody>\n",
       "</table>\n",
       "</div>"
      ],
      "text/plain": [
       "prédites      0     1\n",
       "réelles              \n",
       "0         41001    30\n",
       "1          1963  2340"
      ]
     },
     "execution_count": 28,
     "metadata": {},
     "output_type": "execute_result"
    }
   ],
   "source": [
    "y_pred = clf.predict(X_test)\n",
    "pd.crosstab(y_test, y_pred, rownames=[\"réelles\"], colnames=[\"prédites\"])"
   ]
  },
  {
   "cell_type": "code",
   "execution_count": 29,
   "id": "57ff360b",
   "metadata": {},
   "outputs": [
    {
     "name": "stdout",
     "output_type": "stream",
     "text": [
      "                   pre       rec       spe        f1       geo       iba       sup\n",
      "\n",
      "          0       0.95      1.00      0.54      0.98      0.74      0.57     41031\n",
      "          1       0.99      0.54      1.00      0.70      0.74      0.52      4303\n",
      "\n",
      "avg / total       0.96      0.96      0.59      0.95      0.74      0.56     45334\n",
      "\n"
     ]
    }
   ],
   "source": [
    "print(classification_report_imbalanced(y_test, y_pred))"
   ]
  },
  {
   "cell_type": "markdown",
   "id": "898a963c",
   "metadata": {},
   "source": [
    "## VI.4. Modélisation avec lightgbm et oversampling"
   ]
  },
  {
   "cell_type": "code",
   "execution_count": 30,
   "id": "ee29fab8",
   "metadata": {},
   "outputs": [
    {
     "name": "stdout",
     "output_type": "stream",
     "text": [
      "Fitting 5 folds for each of 10 candidates, totalling 50 fits\n"
     ]
    },
    {
     "data": {
      "text/plain": [
       "RandomizedSearchCV(cv=5, estimator=LGBMClassifier(), n_jobs=-1,\n",
       "                   param_distributions={'colsample_bytree': array([0.8, 0.9]),\n",
       "                                        'max_depth': [2, 4, 6],\n",
       "                                        'min_child_weight': [0.001, 0.01, 0.1,\n",
       "                                                             1, 2],\n",
       "                                        'reg_alpha': [0.001, 0.005, 0.0005],\n",
       "                                        'reg_lambda': [0.001, 0.005, 0.0005],\n",
       "                                        'subsample': array([0.75, 0.76, 0.77, 0.78, 0.79, 0.8 , 0.81, 0.82, 0.83, 0.84, 0.85,\n",
       "       0.86, 0.87, 0.88, 0.89, 0.9 ])},\n",
       "                   verbose=1)"
      ]
     },
     "execution_count": 30,
     "metadata": {},
     "output_type": "execute_result"
    }
   ],
   "source": [
    "#Entraînement avec recherche par validation croisée afin d'obtenir un modèle optimisé\n",
    "#qui servira à extraire les features les plus importantes avec RFE\n",
    "lgbm_model = lgb.LGBMClassifier()\n",
    "\n",
    "#Liste des paramètres et de leurs valeurs possibles\n",
    "param_dist = { 'max_depth':[2, 4, 6],  \n",
    "               'min_child_weight':[0.001, 0.01, 0.1, 1, 2],\n",
    "               'subsample':np.arange(0.75, 0.90, 0.01),\n",
    "               'colsample_bytree': np.arange(0.80, 1, 0.1), \n",
    "               'reg_alpha':[.001, .005, .0005],\n",
    "               'reg_lambda':[.001, .005, .0005],\n",
    "                    }\n",
    "\n",
    "grid = RandomizedSearchCV(lgbm_model, param_dist, verbose=1, cv=5, n_jobs = -1, n_iter=10)\n",
    "grid.fit(X_train, y_train.values.ravel())"
   ]
  },
  {
   "cell_type": "code",
   "execution_count": 31,
   "id": "e9aea691",
   "metadata": {},
   "outputs": [],
   "source": [
    "optimized_model = lgb.LGBMClassifier(**grid.best_params_)\n",
    "\n",
    "#Ce modèle optimisé va servir de base à la sélection des features"
   ]
  },
  {
   "cell_type": "code",
   "execution_count": 32,
   "id": "a9388652",
   "metadata": {},
   "outputs": [],
   "source": [
    "#Sélection des variables à partir du modèle obtenu précédemment\n",
    "selector = RFE(optimized_model, step=1)\n",
    "selector = selector.fit(X_train, y_train.values.ravel())"
   ]
  },
  {
   "cell_type": "code",
   "execution_count": 33,
   "id": "547996b3",
   "metadata": {},
   "outputs": [
    {
     "data": {
      "text/plain": [
       "LGBMClassifier(colsample_bytree=0.9, max_depth=4, reg_alpha=0.0005,\n",
       "               reg_lambda=0.005, subsample=0.78)"
      ]
     },
     "execution_count": 33,
     "metadata": {},
     "output_type": "execute_result"
    }
   ],
   "source": [
    "#On ré-entraîne le modèle uniquement avec les features issues de la sélection RFE\n",
    "\n",
    "more_optimized_model = lgb.LGBMClassifier(**grid.best_params_)\n",
    "more_optimized_model.fit(pd.DataFrame(X_train, columns=data.columns), y_train.values.ravel())"
   ]
  },
  {
   "cell_type": "code",
   "execution_count": 34,
   "id": "c7218f19",
   "metadata": {},
   "outputs": [
    {
     "data": {
      "text/plain": [
       "<AxesSubplot:title={'center':'Feature importance'}, xlabel='Feature importance', ylabel='Features'>"
      ]
     },
     "execution_count": 34,
     "metadata": {},
     "output_type": "execute_result"
    },
    {
     "data": {
      "image/png": "[encoded data removed]",
      "text/plain": [
       "<Figure size 432x288 with 1 Axes>"
      ]
     },
     "metadata": {
      "needs_background": "light"
     },
     "output_type": "display_data"
    }
   ],
   "source": [
    "#Identification de l'importance des variables \n",
    "lgb.plot_importance(more_optimized_model)"
   ]
  },
  {
   "cell_type": "code",
   "execution_count": 35,
   "id": "5acf45cd",
   "metadata": {},
   "outputs": [],
   "source": [
    "#Le temps écoulé entre la souscription et la transaction est la feature la plus importante\n",
    "#Vient ensuite la valeur de la transaction"
   ]
  },
  {
   "cell_type": "code",
   "execution_count": 36,
   "id": "5b296644",
   "metadata": {},
   "outputs": [
    {
     "data": {
      "text/html": [
       "<div>\n",
       "<style scoped>\n",
       "    .dataframe tbody tr th:only-of-type {\n",
       "        vertical-align: middle;\n",
       "    }\n",
       "\n",
       "    .dataframe tbody tr th {\n",
       "        vertical-align: top;\n",
       "    }\n",
       "\n",
       "    .dataframe thead th {\n",
       "        text-align: right;\n",
       "    }\n",
       "</style>\n",
       "<table border=\"1\" class=\"dataframe\">\n",
       "  <thead>\n",
       "    <tr style=\"text-align: right;\">\n",
       "      <th>prédites</th>\n",
       "      <th>0</th>\n",
       "      <th>1</th>\n",
       "    </tr>\n",
       "    <tr>\n",
       "      <th>réelles</th>\n",
       "      <th></th>\n",
       "      <th></th>\n",
       "    </tr>\n",
       "  </thead>\n",
       "  <tbody>\n",
       "    <tr>\n",
       "      <th>0</th>\n",
       "      <td>41021</td>\n",
       "      <td>10</td>\n",
       "    </tr>\n",
       "    <tr>\n",
       "      <th>1</th>\n",
       "      <td>1964</td>\n",
       "      <td>2339</td>\n",
       "    </tr>\n",
       "  </tbody>\n",
       "</table>\n",
       "</div>"
      ],
      "text/plain": [
       "prédites      0     1\n",
       "réelles              \n",
       "0         41021    10\n",
       "1          1964  2339"
      ]
     },
     "execution_count": 36,
     "metadata": {},
     "output_type": "execute_result"
    }
   ],
   "source": [
    "#Tests sur les données de test\n",
    "y_pred_lgb = more_optimized_model.predict(X_test)\n",
    "pd.crosstab(y_test, y_pred_lgb, rownames=[\"réelles\"], colnames=[\"prédites\"])"
   ]
  },
  {
   "cell_type": "code",
   "execution_count": 37,
   "id": "6ba2533e",
   "metadata": {},
   "outputs": [
    {
     "name": "stdout",
     "output_type": "stream",
     "text": [
      "                   pre       rec       spe        f1       geo       iba       sup\n",
      "\n",
      "          0       0.95      1.00      0.54      0.98      0.74      0.57     41031\n",
      "          1       1.00      0.54      1.00      0.70      0.74      0.52      4303\n",
      "\n",
      "avg / total       0.96      0.96      0.59      0.95      0.74      0.56     45334\n",
      "\n"
     ]
    }
   ],
   "source": [
    "print(classification_report_imbalanced(y_test, y_pred_lgb))"
   ]
  },
  {
   "cell_type": "code",
   "execution_count": 38,
   "id": "996925c1",
   "metadata": {},
   "outputs": [
    {
     "data": {
      "text/html": [
       "<div>\n",
       "<style scoped>\n",
       "    .dataframe tbody tr th:only-of-type {\n",
       "        vertical-align: middle;\n",
       "    }\n",
       "\n",
       "    .dataframe tbody tr th {\n",
       "        vertical-align: top;\n",
       "    }\n",
       "\n",
       "    .dataframe thead th {\n",
       "        text-align: right;\n",
       "    }\n",
       "</style>\n",
       "<table border=\"1\" class=\"dataframe\">\n",
       "  <thead>\n",
       "    <tr style=\"text-align: right;\">\n",
       "      <th>prédites</th>\n",
       "      <th>0</th>\n",
       "      <th>1</th>\n",
       "    </tr>\n",
       "    <tr>\n",
       "      <th>réelles</th>\n",
       "      <th></th>\n",
       "      <th></th>\n",
       "    </tr>\n",
       "  </thead>\n",
       "  <tbody>\n",
       "    <tr>\n",
       "      <th>0</th>\n",
       "      <td>95911</td>\n",
       "      <td>19</td>\n",
       "    </tr>\n",
       "    <tr>\n",
       "      <th>1</th>\n",
       "      <td>4585</td>\n",
       "      <td>5263</td>\n",
       "    </tr>\n",
       "  </tbody>\n",
       "</table>\n",
       "</div>"
      ],
      "text/plain": [
       "prédites      0     1\n",
       "réelles              \n",
       "0         95911    19\n",
       "1          4585  5263"
      ]
     },
     "execution_count": 38,
     "metadata": {},
     "output_type": "execute_result"
    }
   ],
   "source": [
    "#résultat sur les données d'entrainement\n",
    "y_pred_train = more_optimized_model.predict(X_train)\n",
    "pd.crosstab(y_train, y_pred_train, rownames=[\"réelles\"], colnames=[\"prédites\"])"
   ]
  },
  {
   "cell_type": "code",
   "execution_count": 39,
   "id": "c17b9303",
   "metadata": {},
   "outputs": [
    {
     "name": "stdout",
     "output_type": "stream",
     "text": [
      "                   pre       rec       spe        f1       geo       iba       sup\n",
      "\n",
      "          0       0.95      1.00      0.53      0.98      0.73      0.56     95930\n",
      "          1       1.00      0.53      1.00      0.70      0.73      0.51      9848\n",
      "\n",
      "avg / total       0.96      0.96      0.58      0.95      0.73      0.55    105778\n",
      "\n"
     ]
    }
   ],
   "source": [
    "print(classification_report_imbalanced(y_train, y_pred_train))"
   ]
  },
  {
   "cell_type": "code",
   "execution_count": 40,
   "id": "98dece09",
   "metadata": {},
   "outputs": [],
   "source": [
    "# On ne constate pas d'overfitting"
   ]
  },
  {
   "cell_type": "markdown",
   "id": "446e6e65",
   "metadata": {},
   "source": [
    "# VII. Sauvegarde des modèles entraînés pour utilisation ultérieure"
   ]
  },
  {
   "cell_type": "markdown",
   "id": "9ddbf600",
   "metadata": {},
   "source": [
    "## VII.1. Premier modèle "
   ]
  },
  {
   "cell_type": "code",
   "execution_count": 41,
   "id": "7c96064a",
   "metadata": {},
   "outputs": [
    {
     "data": {
      "text/plain": [
       "['fraud_rfc.pkl']"
      ]
     },
     "execution_count": 41,
     "metadata": {},
     "output_type": "execute_result"
    }
   ],
   "source": [
    "joblib.dump(clf, 'fraud_rfc.pkl')"
   ]
  },
  {
   "cell_type": "markdown",
   "id": "91fb7a52",
   "metadata": {},
   "source": [
    "## VII.2. Deuxième modèle"
   ]
  },
  {
   "cell_type": "code",
   "execution_count": 42,
   "id": "274c040e",
   "metadata": {},
   "outputs": [
    {
     "data": {
      "text/plain": [
       "['fraud_lgb.pkl']"
      ]
     },
     "execution_count": 42,
     "metadata": {},
     "output_type": "execute_result"
    }
   ],
   "source": [
    "joblib.dump(more_optimized_model, 'fraud_lgb.pkl')"
   ]
  },
  {
   "cell_type": "code",
   "execution_count": 76,
   "id": "ef7bafc1",
   "metadata": {},
   "outputs": [],
   "source": [
    "def _encode_categorical_feature(original_df, feature, category):\n",
    "    df = original_df.copy()\n",
    "    df[f\"{feature}_{category}\"] = 0\n",
    "    df[f\"{feature}_{category}\"] = df[f\"{feature}\"].apply(lambda x: 1 if x == f\"{category}\" else 0)\n",
    "    return df\n",
    "\n",
    "\n",
    "def preprocess_new_data(original_df):\n",
    "    \"\"\"\n",
    "    Preprocess new data by accentuating the cyclical character of temporal data\n",
    "    Input: original_df pd.DataFrame\n",
    "    Ouput: df pd.DataFrame\n",
    "    \"\"\"\n",
    "    df = original_df.copy()\n",
    "    df[\"purchase_date\"] = df.purchase_time.dt.date\n",
    "    df[\"purchase_hour\"] = df.purchase_time.dt.hour\n",
    "    df[\"purchase_weekday\"] = df.purchase_time.dt.weekday\n",
    "    df[\"purchase_month\"] = df.purchase_time.dt.month\n",
    "    df[\"purchase_day\"] = df.purchase_time.dt.day\n",
    "    df[\"signup_date\"] = df.signup_time.dt.date\n",
    "    df[\"days_till_signup\"] = df.purchase_date - df.signup_date\n",
    "    df.days_till_signup = df.days_till_signup.dt.days\n",
    "    df[\"sex\"] = df[\"sex\"].replace([\"M\", \"F\"], [0,1])\n",
    "    for source in [\"Direct\", \"SEO\"]:\n",
    "        df = _encode_categorical_feature(df, \"source\", source)\n",
    "    for browser in [\"FireFox\", \"IE\", \"Opera\", \"Safari\"]:\n",
    "        df = _encode_categorical_feature(df, \"browser\", browser)\n",
    "    df = df[[\"days_till_signup\", \"purchase_month\", \"purchase_day\", \"purchase_weekday\", \n",
    "             \"purchase_hour\", \"purchase_value\", \"age\", \"source_Direct\", \"source_SEO\",\n",
    "             \"browser_FireFox\", \"browser_IE\", \"browser_Opera\", \"browser_Safari\", \"sex\"]]\n",
    "    return df"
   ]
  },
  {
   "cell_type": "code",
   "execution_count": 77,
   "id": "bc57454e",
   "metadata": {},
   "outputs": [],
   "source": [
    "df_test = preprocess_new_data(fraud_df)"
   ]
  },
  {
   "cell_type": "code",
   "execution_count": 78,
   "id": "ba72ed15",
   "metadata": {},
   "outputs": [],
   "source": [
    "MODEL_V1 = joblib.load(\"fraud_rfc.pkl\")\n",
    "\n",
    "MODEL_V2 = joblib.load(\"fraud_lgb.pkl\")"
   ]
  },
  {
   "cell_type": "code",
   "execution_count": 79,
   "id": "873d73c6",
   "metadata": {},
   "outputs": [
    {
     "data": {
      "text/plain": [
       "{'age',\n",
       " 'browser_FireFox',\n",
       " 'browser_IE',\n",
       " 'browser_Opera',\n",
       " 'browser_Safari',\n",
       " 'days_till_signup',\n",
       " 'purchase_day',\n",
       " 'purchase_hour',\n",
       " 'purchase_month',\n",
       " 'purchase_value',\n",
       " 'purchase_weekday',\n",
       " 'sex',\n",
       " 'source_Direct',\n",
       " 'source_SEO'}"
      ]
     },
     "execution_count": 79,
     "metadata": {},
     "output_type": "execute_result"
    }
   ],
   "source": [
    "set(data.columns)"
   ]
  },
  {
   "cell_type": "code",
   "execution_count": 80,
   "id": "d91694bc",
   "metadata": {},
   "outputs": [
    {
     "data": {
      "text/plain": [
       "{'age',\n",
       " 'browser_FireFox',\n",
       " 'browser_IE',\n",
       " 'browser_Opera',\n",
       " 'browser_Safari',\n",
       " 'days_till_signup',\n",
       " 'purchase_day',\n",
       " 'purchase_hour',\n",
       " 'purchase_month',\n",
       " 'purchase_value',\n",
       " 'purchase_weekday',\n",
       " 'source_Direct',\n",
       " 'source_SEO'}"
      ]
     },
     "execution_count": 80,
     "metadata": {},
     "output_type": "execute_result"
    }
   ],
   "source": [
    "set(df_test.columns)"
   ]
  },
  {
   "cell_type": "code",
   "execution_count": 81,
   "id": "58af6101",
   "metadata": {},
   "outputs": [
    {
     "ename": "ValueError",
     "evalue": "Number of features of the model must match the input. Model n_features_ is 14 and input n_features is 13 ",
     "output_type": "error",
     "traceback": [
      "\u001b[0;31m---------------------------------------------------------------------------\u001b[0m",
      "\u001b[0;31mValueError\u001b[0m                                Traceback (most recent call last)",
      "Input \u001b[0;32mIn [81]\u001b[0m, in \u001b[0;36m<cell line: 1>\u001b[0;34m()\u001b[0m\n\u001b[0;32m----> 1\u001b[0m \u001b[43mMODEL_V2\u001b[49m\u001b[38;5;241;43m.\u001b[39;49m\u001b[43mpredict\u001b[49m\u001b[43m(\u001b[49m\u001b[43mdf_test\u001b[49m\u001b[43m)\u001b[49m\n",
      "File \u001b[0;32m~/anaconda3/envs/datascientest_project/lib/python3.10/site-packages/lightgbm/sklearn.py:907\u001b[0m, in \u001b[0;36mLGBMClassifier.predict\u001b[0;34m(self, X, raw_score, start_iteration, num_iteration, pred_leaf, pred_contrib, **kwargs)\u001b[0m\n\u001b[1;32m    904\u001b[0m \u001b[38;5;28;01mdef\u001b[39;00m \u001b[38;5;21mpredict\u001b[39m(\u001b[38;5;28mself\u001b[39m, X, raw_score\u001b[38;5;241m=\u001b[39m\u001b[38;5;28;01mFalse\u001b[39;00m, start_iteration\u001b[38;5;241m=\u001b[39m\u001b[38;5;241m0\u001b[39m, num_iteration\u001b[38;5;241m=\u001b[39m\u001b[38;5;28;01mNone\u001b[39;00m,\n\u001b[1;32m    905\u001b[0m             pred_leaf\u001b[38;5;241m=\u001b[39m\u001b[38;5;28;01mFalse\u001b[39;00m, pred_contrib\u001b[38;5;241m=\u001b[39m\u001b[38;5;28;01mFalse\u001b[39;00m, \u001b[38;5;241m*\u001b[39m\u001b[38;5;241m*\u001b[39mkwargs):\n\u001b[1;32m    906\u001b[0m     \u001b[38;5;124;03m\"\"\"Docstring is inherited from the LGBMModel.\"\"\"\u001b[39;00m\n\u001b[0;32m--> 907\u001b[0m     result \u001b[38;5;241m=\u001b[39m \u001b[38;5;28;43mself\u001b[39;49m\u001b[38;5;241;43m.\u001b[39;49m\u001b[43mpredict_proba\u001b[49m\u001b[43m(\u001b[49m\u001b[43mX\u001b[49m\u001b[43m,\u001b[49m\u001b[43m \u001b[49m\u001b[43mraw_score\u001b[49m\u001b[43m,\u001b[49m\u001b[43m \u001b[49m\u001b[43mstart_iteration\u001b[49m\u001b[43m,\u001b[49m\u001b[43m \u001b[49m\u001b[43mnum_iteration\u001b[49m\u001b[43m,\u001b[49m\n\u001b[1;32m    908\u001b[0m \u001b[43m                                \u001b[49m\u001b[43mpred_leaf\u001b[49m\u001b[43m,\u001b[49m\u001b[43m \u001b[49m\u001b[43mpred_contrib\u001b[49m\u001b[43m,\u001b[49m\u001b[43m \u001b[49m\u001b[38;5;241;43m*\u001b[39;49m\u001b[38;5;241;43m*\u001b[39;49m\u001b[43mkwargs\u001b[49m\u001b[43m)\u001b[49m\n\u001b[1;32m    909\u001b[0m     \u001b[38;5;28;01mif\u001b[39;00m callable(\u001b[38;5;28mself\u001b[39m\u001b[38;5;241m.\u001b[39m_objective) \u001b[38;5;129;01mor\u001b[39;00m raw_score \u001b[38;5;129;01mor\u001b[39;00m pred_leaf \u001b[38;5;129;01mor\u001b[39;00m pred_contrib:\n\u001b[1;32m    910\u001b[0m         \u001b[38;5;28;01mreturn\u001b[39;00m result\n",
      "File \u001b[0;32m~/anaconda3/envs/datascientest_project/lib/python3.10/site-packages/lightgbm/sklearn.py:920\u001b[0m, in \u001b[0;36mLGBMClassifier.predict_proba\u001b[0;34m(self, X, raw_score, start_iteration, num_iteration, pred_leaf, pred_contrib, **kwargs)\u001b[0m\n\u001b[1;32m    917\u001b[0m \u001b[38;5;28;01mdef\u001b[39;00m \u001b[38;5;21mpredict_proba\u001b[39m(\u001b[38;5;28mself\u001b[39m, X, raw_score\u001b[38;5;241m=\u001b[39m\u001b[38;5;28;01mFalse\u001b[39;00m, start_iteration\u001b[38;5;241m=\u001b[39m\u001b[38;5;241m0\u001b[39m, num_iteration\u001b[38;5;241m=\u001b[39m\u001b[38;5;28;01mNone\u001b[39;00m,\n\u001b[1;32m    918\u001b[0m                   pred_leaf\u001b[38;5;241m=\u001b[39m\u001b[38;5;28;01mFalse\u001b[39;00m, pred_contrib\u001b[38;5;241m=\u001b[39m\u001b[38;5;28;01mFalse\u001b[39;00m, \u001b[38;5;241m*\u001b[39m\u001b[38;5;241m*\u001b[39mkwargs):\n\u001b[1;32m    919\u001b[0m     \u001b[38;5;124;03m\"\"\"Docstring is set after definition, using a template.\"\"\"\u001b[39;00m\n\u001b[0;32m--> 920\u001b[0m     result \u001b[38;5;241m=\u001b[39m \u001b[38;5;28;43msuper\u001b[39;49m\u001b[43m(\u001b[49m\u001b[43m)\u001b[49m\u001b[38;5;241;43m.\u001b[39;49m\u001b[43mpredict\u001b[49m\u001b[43m(\u001b[49m\u001b[43mX\u001b[49m\u001b[43m,\u001b[49m\u001b[43m \u001b[49m\u001b[43mraw_score\u001b[49m\u001b[43m,\u001b[49m\u001b[43m \u001b[49m\u001b[43mstart_iteration\u001b[49m\u001b[43m,\u001b[49m\u001b[43m \u001b[49m\u001b[43mnum_iteration\u001b[49m\u001b[43m,\u001b[49m\u001b[43m \u001b[49m\u001b[43mpred_leaf\u001b[49m\u001b[43m,\u001b[49m\u001b[43m \u001b[49m\u001b[43mpred_contrib\u001b[49m\u001b[43m,\u001b[49m\u001b[43m \u001b[49m\u001b[38;5;241;43m*\u001b[39;49m\u001b[38;5;241;43m*\u001b[39;49m\u001b[43mkwargs\u001b[49m\u001b[43m)\u001b[49m\n\u001b[1;32m    921\u001b[0m     \u001b[38;5;28;01mif\u001b[39;00m callable(\u001b[38;5;28mself\u001b[39m\u001b[38;5;241m.\u001b[39m_objective) \u001b[38;5;129;01mand\u001b[39;00m \u001b[38;5;129;01mnot\u001b[39;00m (raw_score \u001b[38;5;129;01mor\u001b[39;00m pred_leaf \u001b[38;5;129;01mor\u001b[39;00m pred_contrib):\n\u001b[1;32m    922\u001b[0m         _log_warning(\u001b[38;5;124m\"\u001b[39m\u001b[38;5;124mCannot compute class probabilities or labels \u001b[39m\u001b[38;5;124m\"\u001b[39m\n\u001b[1;32m    923\u001b[0m                      \u001b[38;5;124m\"\u001b[39m\u001b[38;5;124mdue to the usage of customized objective function.\u001b[39m\u001b[38;5;130;01m\\n\u001b[39;00m\u001b[38;5;124m\"\u001b[39m\n\u001b[1;32m    924\u001b[0m                      \u001b[38;5;124m\"\u001b[39m\u001b[38;5;124mReturning raw scores instead.\u001b[39m\u001b[38;5;124m\"\u001b[39m)\n",
      "File \u001b[0;32m~/anaconda3/envs/datascientest_project/lib/python3.10/site-packages/lightgbm/sklearn.py:722\u001b[0m, in \u001b[0;36mLGBMModel.predict\u001b[0;34m(self, X, raw_score, start_iteration, num_iteration, pred_leaf, pred_contrib, **kwargs)\u001b[0m\n\u001b[1;32m    720\u001b[0m n_features \u001b[38;5;241m=\u001b[39m X\u001b[38;5;241m.\u001b[39mshape[\u001b[38;5;241m1\u001b[39m]\n\u001b[1;32m    721\u001b[0m \u001b[38;5;28;01mif\u001b[39;00m \u001b[38;5;28mself\u001b[39m\u001b[38;5;241m.\u001b[39m_n_features \u001b[38;5;241m!=\u001b[39m n_features:\n\u001b[0;32m--> 722\u001b[0m     \u001b[38;5;28;01mraise\u001b[39;00m \u001b[38;5;167;01mValueError\u001b[39;00m(\u001b[38;5;124m\"\u001b[39m\u001b[38;5;124mNumber of features of the model must \u001b[39m\u001b[38;5;124m\"\u001b[39m\n\u001b[1;32m    723\u001b[0m                      \u001b[38;5;124m\"\u001b[39m\u001b[38;5;124mmatch the input. Model n_features_ is \u001b[39m\u001b[38;5;132;01m%s\u001b[39;00m\u001b[38;5;124m and \u001b[39m\u001b[38;5;124m\"\u001b[39m\n\u001b[1;32m    724\u001b[0m                      \u001b[38;5;124m\"\u001b[39m\u001b[38;5;124minput n_features is \u001b[39m\u001b[38;5;132;01m%s\u001b[39;00m\u001b[38;5;124m \u001b[39m\u001b[38;5;124m\"\u001b[39m\n\u001b[1;32m    725\u001b[0m                      \u001b[38;5;241m%\u001b[39m (\u001b[38;5;28mself\u001b[39m\u001b[38;5;241m.\u001b[39m_n_features, n_features))\n\u001b[1;32m    726\u001b[0m \u001b[38;5;28;01mreturn\u001b[39;00m \u001b[38;5;28mself\u001b[39m\u001b[38;5;241m.\u001b[39m_Booster\u001b[38;5;241m.\u001b[39mpredict(X, raw_score\u001b[38;5;241m=\u001b[39mraw_score, start_iteration\u001b[38;5;241m=\u001b[39mstart_iteration, num_iteration\u001b[38;5;241m=\u001b[39mnum_iteration,\n\u001b[1;32m    727\u001b[0m                              pred_leaf\u001b[38;5;241m=\u001b[39mpred_leaf, pred_contrib\u001b[38;5;241m=\u001b[39mpred_contrib, \u001b[38;5;241m*\u001b[39m\u001b[38;5;241m*\u001b[39mkwargs)\n",
      "\u001b[0;31mValueError\u001b[0m: Number of features of the model must match the input. Model n_features_ is 14 and input n_features is 13 "
     ]
    }
   ],
   "source": [
    "MODEL_V2.predict(df_test)"
   ]
  },
  {
   "cell_type": "code",
   "execution_count": null,
   "id": "0b8767b7",
   "metadata": {},
   "outputs": [],
   "source": []
  }
 ],
 "metadata": {
  "kernelspec": {
   "display_name": "datascientest_project",
   "language": "python",
   "name": "datascientest_project"
  },
  "language_info": {
   "codemirror_mode": {
    "name": "ipython",
    "version": 3
   },
   "file_extension": ".py",
   "mimetype": "text/x-python",
   "name": "python",
   "nbconvert_exporter": "python",
   "pygments_lexer": "ipython3",
   "version": "3.10.4"
  }
 },
 "nbformat": 4,
 "nbformat_minor": 5
}
